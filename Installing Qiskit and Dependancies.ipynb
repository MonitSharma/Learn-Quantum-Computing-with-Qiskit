{
  "nbformat": 4,
  "nbformat_minor": 0,
  "metadata": {
    "colab": {
      "provenance": [],
      "authorship_tag": "ABX9TyO1IFEEPrYB0iI9Z6H/Jb/Y",
      "include_colab_link": true
    },
    "kernelspec": {
      "name": "python3",
      "display_name": "Python 3"
    },
    "language_info": {
      "name": "python"
    }
  },
  "cells": [
    {
      "cell_type": "markdown",
      "metadata": {
        "id": "view-in-github",
        "colab_type": "text"
      },
      "source": [
        "<a href=\"https://colab.research.google.com/github/MonitSharma/Quantum-Computing-with-Qiskit-and-IBMQ/blob/main/Installing%20Qiskit%20and%20Dependancies.ipynb\" target=\"_parent\"><img src=\"https://colab.research.google.com/assets/colab-badge.svg\" alt=\"Open In Colab\"/></a>"
      ]
    },
    {
      "cell_type": "markdown",
      "source": [
        "# Environment Setup Guide to get started with Qiskit\n",
        "\n",
        "I will walk through the latest version installation of Qiskit, `0.43.0` and all the dependancies required for it.\n",
        "\n",
        "I'm running this code on Google Colab, you can run this on your local device as well.\n"
      ],
      "metadata": {
        "id": "bcYBcnDT_RDs"
      }
    },
    {
      "cell_type": "markdown",
      "source": [
        "## Setting up a Virtual Environment\n",
        "\n",
        "\n",
        "Now, you have two options, to either install Qiskit directly on your local machine, or make a `virtualenvironment` and install it there.\n",
        "\n",
        "I recommend the later, because alot of times, it may so happen that some packages are not compatible with the other, and you need only specific packages to run that code file. It's better to have it on a virtual environment.\n",
        "\n",
        "But if you don't do much coding on your device, that makes you install different versions of different packages, then you can simply do\n",
        "\n",
        "```python\n",
        "!pip install qiskit\n",
        "```\n",
        "\n",
        "and if not, you can start by creating a virtual environment.\n",
        "\n",
        "### Installing it in VS code\n",
        "\n",
        " I use VS code, so [this](https://code.visualstudio.com/docs/python/environments) documentation helped me to create a virtual environment.\n",
        "\n",
        "\n",
        "### Installing it through Terminal\n",
        "\n",
        "If you choose to create a virtual environment manually, use the following command (where \".venv\" is the name of the environment folder):\n",
        "\n",
        "```python\n",
        "# macOS/Linux\n",
        "# You may need to run `sudo apt-get install python3-venv` first on Debian-based OSs\n",
        "python3 -m venv .venv\n",
        "\n",
        "# Windows\n",
        "# You can also use `py -3 -m venv .venv`\n",
        "python -m venv .venv\n",
        "```\n",
        "\n",
        "\n",
        "you can name it other than `venv` as well.\n",
        "\n",
        "Then activate it and install qiskit using\n",
        "\n",
        "```python\n",
        "pip install qiskit\n",
        "```\n",
        "\n",
        "\n",
        "or you can skip all that, and just use Colab or a Jupyter Notebook on your local machine and run:\n",
        "\n",
        "\n",
        "\n"
      ],
      "metadata": {
        "id": "sOZRFk21_siT"
      }
    },
    {
      "cell_type": "code",
      "execution_count": 1,
      "metadata": {
        "colab": {
          "base_uri": "https://localhost:8080/"
        },
        "id": "FLAIVaj0_NOS",
        "outputId": "a6f39d48-751d-4e65-c989-f75b9a327b6a"
      },
      "outputs": [
        {
          "output_type": "stream",
          "name": "stdout",
          "text": [
            "Looking in indexes: https://pypi.org/simple, https://us-python.pkg.dev/colab-wheels/public/simple/\n",
            "Collecting qiskit\n",
            "  Downloading qiskit-0.43.1.tar.gz (9.6 kB)\n",
            "  Installing build dependencies ... \u001b[?25l\u001b[?25hdone\n",
            "  Getting requirements to build wheel ... \u001b[?25l\u001b[?25hdone\n",
            "  Installing backend dependencies ... \u001b[?25l\u001b[?25hdone\n",
            "  Preparing metadata (pyproject.toml) ... \u001b[?25l\u001b[?25hdone\n",
            "Collecting qiskit-terra==0.24.1 (from qiskit)\n",
            "  Downloading qiskit_terra-0.24.1-cp310-cp310-manylinux_2_17_x86_64.manylinux2014_x86_64.whl (5.9 MB)\n",
            "\u001b[2K     \u001b[90m━━━━━━━━━━━━━━━━━━━━━━━━━━━━━━━━━━━━━━━━\u001b[0m \u001b[32m5.9/5.9 MB\u001b[0m \u001b[31m64.7 MB/s\u001b[0m eta \u001b[36m0:00:00\u001b[0m\n",
            "\u001b[?25hCollecting qiskit-aer==0.12.0 (from qiskit)\n",
            "  Downloading qiskit_aer-0.12.0-cp310-cp310-manylinux_2_17_x86_64.manylinux2014_x86_64.whl (12.8 MB)\n",
            "\u001b[2K     \u001b[90m━━━━━━━━━━━━━━━━━━━━━━━━━━━━━━━━━━━━━━━━\u001b[0m \u001b[32m12.8/12.8 MB\u001b[0m \u001b[31m99.1 MB/s\u001b[0m eta \u001b[36m0:00:00\u001b[0m\n",
            "\u001b[?25hCollecting qiskit-ibmq-provider==0.20.2 (from qiskit)\n",
            "  Downloading qiskit_ibmq_provider-0.20.2-py3-none-any.whl (241 kB)\n",
            "\u001b[2K     \u001b[90m━━━━━━━━━━━━━━━━━━━━━━━━━━━━━━━━━━━━━━\u001b[0m \u001b[32m241.5/241.5 kB\u001b[0m \u001b[31m29.1 MB/s\u001b[0m eta \u001b[36m0:00:00\u001b[0m\n",
            "\u001b[?25hRequirement already satisfied: numpy>=1.16.3 in /usr/local/lib/python3.10/dist-packages (from qiskit-aer==0.12.0->qiskit) (1.22.4)\n",
            "Requirement already satisfied: scipy>=1.0 in /usr/local/lib/python3.10/dist-packages (from qiskit-aer==0.12.0->qiskit) (1.10.1)\n",
            "Requirement already satisfied: requests>=2.19 in /usr/local/lib/python3.10/dist-packages (from qiskit-ibmq-provider==0.20.2->qiskit) (2.27.1)\n",
            "Collecting requests-ntlm<=1.1.0 (from qiskit-ibmq-provider==0.20.2->qiskit)\n",
            "  Downloading requests_ntlm-1.1.0-py2.py3-none-any.whl (5.7 kB)\n",
            "Requirement already satisfied: urllib3>=1.21.1 in /usr/local/lib/python3.10/dist-packages (from qiskit-ibmq-provider==0.20.2->qiskit) (1.26.16)\n",
            "Requirement already satisfied: python-dateutil>=2.8.0 in /usr/local/lib/python3.10/dist-packages (from qiskit-ibmq-provider==0.20.2->qiskit) (2.8.2)\n",
            "Requirement already satisfied: websocket-client>=1.5.1 in /usr/local/lib/python3.10/dist-packages (from qiskit-ibmq-provider==0.20.2->qiskit) (1.6.0)\n",
            "Collecting websockets>=10.0 (from qiskit-ibmq-provider==0.20.2->qiskit)\n",
            "  Downloading websockets-11.0.3-cp310-cp310-manylinux_2_5_x86_64.manylinux1_x86_64.manylinux_2_17_x86_64.manylinux2014_x86_64.whl (129 kB)\n",
            "\u001b[2K     \u001b[90m━━━━━━━━━━━━━━━━━━━━━━━━━━━━━━━━━━━━━━\u001b[0m \u001b[32m129.9/129.9 kB\u001b[0m \u001b[31m19.0 MB/s\u001b[0m eta \u001b[36m0:00:00\u001b[0m\n",
            "\u001b[?25hCollecting rustworkx>=0.12.0 (from qiskit-terra==0.24.1->qiskit)\n",
            "  Downloading rustworkx-0.13.0-cp310-cp310-manylinux_2_17_x86_64.manylinux2014_x86_64.whl (1.9 MB)\n",
            "\u001b[2K     \u001b[90m━━━━━━━━━━━━━━━━━━━━━━━━━━━━━━━━━━━━━━━━\u001b[0m \u001b[32m1.9/1.9 MB\u001b[0m \u001b[31m83.4 MB/s\u001b[0m eta \u001b[36m0:00:00\u001b[0m\n",
            "\u001b[?25hCollecting ply>=3.10 (from qiskit-terra==0.24.1->qiskit)\n",
            "  Downloading ply-3.11-py2.py3-none-any.whl (49 kB)\n",
            "\u001b[2K     \u001b[90m━━━━━━━━━━━━━━━━━━━━━━━━━━━━━━━━━━━━━━━━\u001b[0m \u001b[32m49.6/49.6 kB\u001b[0m \u001b[31m7.3 MB/s\u001b[0m eta \u001b[36m0:00:00\u001b[0m\n",
            "\u001b[?25hRequirement already satisfied: psutil>=5 in /usr/local/lib/python3.10/dist-packages (from qiskit-terra==0.24.1->qiskit) (5.9.5)\n",
            "Requirement already satisfied: sympy>=1.3 in /usr/local/lib/python3.10/dist-packages (from qiskit-terra==0.24.1->qiskit) (1.11.1)\n",
            "Collecting dill>=0.3 (from qiskit-terra==0.24.1->qiskit)\n",
            "  Downloading dill-0.3.6-py3-none-any.whl (110 kB)\n",
            "\u001b[2K     \u001b[90m━━━━━━━━━━━━━━━━━━━━━━━━━━━━━━━━━━━━━━\u001b[0m \u001b[32m110.5/110.5 kB\u001b[0m \u001b[31m13.7 MB/s\u001b[0m eta \u001b[36m0:00:00\u001b[0m\n",
            "\u001b[?25hCollecting stevedore>=3.0.0 (from qiskit-terra==0.24.1->qiskit)\n",
            "  Downloading stevedore-5.1.0-py3-none-any.whl (49 kB)\n",
            "\u001b[2K     \u001b[90m━━━━━━━━━━━━━━━━━━━━━━━━━━━━━━━━━━━━━━━━\u001b[0m \u001b[32m49.6/49.6 kB\u001b[0m \u001b[31m5.8 MB/s\u001b[0m eta \u001b[36m0:00:00\u001b[0m\n",
            "\u001b[?25hCollecting symengine<0.10,>=0.9 (from qiskit-terra==0.24.1->qiskit)\n",
            "  Downloading symengine-0.9.2-cp310-cp310-manylinux2010_x86_64.whl (37.5 MB)\n",
            "\u001b[2K     \u001b[90m━━━━━━━━━━━━━━━━━━━━━━━━━━━━━━━━━━━━━━━━\u001b[0m \u001b[32m37.5/37.5 MB\u001b[0m \u001b[31m17.8 MB/s\u001b[0m eta \u001b[36m0:00:00\u001b[0m\n",
            "\u001b[?25hRequirement already satisfied: six>=1.5 in /usr/local/lib/python3.10/dist-packages (from python-dateutil>=2.8.0->qiskit-ibmq-provider==0.20.2->qiskit) (1.16.0)\n",
            "Requirement already satisfied: certifi>=2017.4.17 in /usr/local/lib/python3.10/dist-packages (from requests>=2.19->qiskit-ibmq-provider==0.20.2->qiskit) (2023.5.7)\n",
            "Requirement already satisfied: charset-normalizer~=2.0.0 in /usr/local/lib/python3.10/dist-packages (from requests>=2.19->qiskit-ibmq-provider==0.20.2->qiskit) (2.0.12)\n",
            "Requirement already satisfied: idna<4,>=2.5 in /usr/local/lib/python3.10/dist-packages (from requests>=2.19->qiskit-ibmq-provider==0.20.2->qiskit) (3.4)\n",
            "Collecting ntlm-auth>=1.0.2 (from requests-ntlm<=1.1.0->qiskit-ibmq-provider==0.20.2->qiskit)\n",
            "  Downloading ntlm_auth-1.5.0-py2.py3-none-any.whl (29 kB)\n",
            "Collecting cryptography>=1.3 (from requests-ntlm<=1.1.0->qiskit-ibmq-provider==0.20.2->qiskit)\n",
            "  Downloading cryptography-41.0.1-cp37-abi3-manylinux_2_28_x86_64.whl (4.3 MB)\n",
            "\u001b[2K     \u001b[90m━━━━━━━━━━━━━━━━━━━━━━━━━━━━━━━━━━━━━━━━\u001b[0m \u001b[32m4.3/4.3 MB\u001b[0m \u001b[31m70.7 MB/s\u001b[0m eta \u001b[36m0:00:00\u001b[0m\n",
            "\u001b[?25hCollecting pbr!=2.1.0,>=2.0.0 (from stevedore>=3.0.0->qiskit-terra==0.24.1->qiskit)\n",
            "  Downloading pbr-5.11.1-py2.py3-none-any.whl (112 kB)\n",
            "\u001b[2K     \u001b[90m━━━━━━━━━━━━━━━━━━━━━━━━━━━━━━━━━━━━━━\u001b[0m \u001b[32m112.7/112.7 kB\u001b[0m \u001b[31m14.3 MB/s\u001b[0m eta \u001b[36m0:00:00\u001b[0m\n",
            "\u001b[?25hRequirement already satisfied: mpmath>=0.19 in /usr/local/lib/python3.10/dist-packages (from sympy>=1.3->qiskit-terra==0.24.1->qiskit) (1.3.0)\n",
            "Requirement already satisfied: cffi>=1.12 in /usr/local/lib/python3.10/dist-packages (from cryptography>=1.3->requests-ntlm<=1.1.0->qiskit-ibmq-provider==0.20.2->qiskit) (1.15.1)\n",
            "Requirement already satisfied: pycparser in /usr/local/lib/python3.10/dist-packages (from cffi>=1.12->cryptography>=1.3->requests-ntlm<=1.1.0->qiskit-ibmq-provider==0.20.2->qiskit) (2.21)\n",
            "Building wheels for collected packages: qiskit\n",
            "  Building wheel for qiskit (pyproject.toml) ... \u001b[?25l\u001b[?25hdone\n",
            "  Created wheel for qiskit: filename=qiskit-0.43.1-py3-none-any.whl size=8029 sha256=99c1a7de089a8bfe40d525ffb6021c9a1083b15e14483f12fcdb335fb968aabd\n",
            "  Stored in directory: /root/.cache/pip/wheels/f1/f6/ad/0f2527d2cc0028cd682619f1b50a24476fd3592e0c63f87282\n",
            "Successfully built qiskit\n",
            "Installing collected packages: ply, websockets, symengine, rustworkx, pbr, ntlm-auth, dill, stevedore, cryptography, requests-ntlm, qiskit-terra, qiskit-ibmq-provider, qiskit-aer, qiskit\n",
            "Successfully installed cryptography-41.0.1 dill-0.3.6 ntlm-auth-1.5.0 pbr-5.11.1 ply-3.11 qiskit-0.43.1 qiskit-aer-0.12.0 qiskit-ibmq-provider-0.20.2 qiskit-terra-0.24.1 requests-ntlm-1.1.0 rustworkx-0.13.0 stevedore-5.1.0 symengine-0.9.2 websockets-11.0.3\n"
          ]
        }
      ],
      "source": [
        "!pip install qiskit # or\n",
        "#%pip install qiskit"
      ]
    },
    {
      "cell_type": "markdown",
      "source": [
        "In Jupyter Notebook or JupyterLab, the exclamation mark (!) and percent symbol (%) are used as \"magic\" commands to execute system-level commands or interact with specific environments.\n",
        "\n",
        "When it comes to installing packages using pip, there is a subtle difference between !pip and %pip:\n",
        "\n",
        "1. !pip: The exclamation mark is a shorthand way to execute system-level commands from within a Jupyter cell. Using !pip allows you to install packages directly from the command line within the Jupyter environment. For example, !pip install numpy will install the NumPy package using the pip package manager.\n",
        "\n",
        "2.  %pip: The percent symbol is used for \"line magic\" commands in IPython, an interactive command-line interface used by Jupyter. %pip is a specific IPython magic command that can be used to install packages in a similar way to !pip. The difference is that %pip is executed as an IPython magic command, providing some additional features and integration with the IPython environment.\n",
        "\n",
        "In most cases, both !pip and %pip can be used interchangeably to install packages. However, it's worth noting that %pip provides extra functionalities specific to IPython and may have slight variations in behavior compared to !pip."
      ],
      "metadata": {
        "id": "zRykPRyuBwrV"
      }
    },
    {
      "cell_type": "markdown",
      "source": [
        "----\n",
        "\n",
        "Doing\n",
        "```python\n",
        "!pip install qiskit\n",
        "```\n",
        "will install most of the Qiskit packages for you, but not all.\n",
        "\n",
        "Qiskit has divided its packages in different categories\n",
        "1. Qiskit Machine Learning\n",
        "2. Qiskit Finance\n",
        "3. Qiskit Optimizaion\n",
        "4. Qiskit Nature\n",
        "and many more.\n",
        "\n",
        "These all are not installed directly by installing qiskit. You have to install them separately.\n",
        "\n"
      ],
      "metadata": {
        "id": "EjXuXk5JB-eM"
      }
    },
    {
      "cell_type": "markdown",
      "source": [
        "To install Qiskit Visualization package:"
      ],
      "metadata": {
        "id": "pKgd6eEdDBZV"
      }
    },
    {
      "cell_type": "code",
      "source": [
        "!pip install qiskit[visualization]"
      ],
      "metadata": {
        "colab": {
          "base_uri": "https://localhost:8080/"
        },
        "id": "MOoQzVvUBUyP",
        "outputId": "fd5afd55-28d4-4a74-a086-fda7a9a4967b"
      },
      "execution_count": 2,
      "outputs": [
        {
          "output_type": "stream",
          "name": "stdout",
          "text": [
            "Looking in indexes: https://pypi.org/simple, https://us-python.pkg.dev/colab-wheels/public/simple/\n",
            "Requirement already satisfied: qiskit[visualization] in /usr/local/lib/python3.10/dist-packages (0.43.1)\n",
            "Requirement already satisfied: qiskit-terra==0.24.1 in /usr/local/lib/python3.10/dist-packages (from qiskit[visualization]) (0.24.1)\n",
            "Requirement already satisfied: qiskit-aer==0.12.0 in /usr/local/lib/python3.10/dist-packages (from qiskit[visualization]) (0.12.0)\n",
            "Requirement already satisfied: qiskit-ibmq-provider==0.20.2 in /usr/local/lib/python3.10/dist-packages (from qiskit[visualization]) (0.20.2)\n",
            "Requirement already satisfied: matplotlib>=2.1 in /usr/local/lib/python3.10/dist-packages (from qiskit[visualization]) (3.7.1)\n",
            "Requirement already satisfied: ipywidgets>=7.3.0 in /usr/local/lib/python3.10/dist-packages (from qiskit[visualization]) (7.7.1)\n",
            "Requirement already satisfied: pydot in /usr/local/lib/python3.10/dist-packages (from qiskit[visualization]) (1.4.2)\n",
            "Requirement already satisfied: pillow>=4.2.1 in /usr/local/lib/python3.10/dist-packages (from qiskit[visualization]) (8.4.0)\n",
            "Collecting pylatexenc>=1.4 (from qiskit[visualization])\n",
            "  Downloading pylatexenc-2.10.tar.gz (162 kB)\n",
            "\u001b[2K     \u001b[90m━━━━━━━━━━━━━━━━━━━━━━━━━━━━━━━━━━━━━━━\u001b[0m \u001b[32m162.6/162.6 kB\u001b[0m \u001b[31m7.0 MB/s\u001b[0m eta \u001b[36m0:00:00\u001b[0m\n",
            "\u001b[?25h  Preparing metadata (setup.py) ... \u001b[?25l\u001b[?25hdone\n",
            "Requirement already satisfied: seaborn>=0.9.0 in /usr/local/lib/python3.10/dist-packages (from qiskit[visualization]) (0.12.2)\n",
            "Requirement already satisfied: pygments>=2.4 in /usr/local/lib/python3.10/dist-packages (from qiskit[visualization]) (2.14.0)\n",
            "Requirement already satisfied: numpy>=1.16.3 in /usr/local/lib/python3.10/dist-packages (from qiskit-aer==0.12.0->qiskit[visualization]) (1.22.4)\n",
            "Requirement already satisfied: scipy>=1.0 in /usr/local/lib/python3.10/dist-packages (from qiskit-aer==0.12.0->qiskit[visualization]) (1.10.1)\n",
            "Requirement already satisfied: requests>=2.19 in /usr/local/lib/python3.10/dist-packages (from qiskit-ibmq-provider==0.20.2->qiskit[visualization]) (2.27.1)\n",
            "Requirement already satisfied: requests-ntlm<=1.1.0 in /usr/local/lib/python3.10/dist-packages (from qiskit-ibmq-provider==0.20.2->qiskit[visualization]) (1.1.0)\n",
            "Requirement already satisfied: urllib3>=1.21.1 in /usr/local/lib/python3.10/dist-packages (from qiskit-ibmq-provider==0.20.2->qiskit[visualization]) (1.26.16)\n",
            "Requirement already satisfied: python-dateutil>=2.8.0 in /usr/local/lib/python3.10/dist-packages (from qiskit-ibmq-provider==0.20.2->qiskit[visualization]) (2.8.2)\n",
            "Requirement already satisfied: websocket-client>=1.5.1 in /usr/local/lib/python3.10/dist-packages (from qiskit-ibmq-provider==0.20.2->qiskit[visualization]) (1.6.0)\n",
            "Requirement already satisfied: websockets>=10.0 in /usr/local/lib/python3.10/dist-packages (from qiskit-ibmq-provider==0.20.2->qiskit[visualization]) (11.0.3)\n",
            "Requirement already satisfied: rustworkx>=0.12.0 in /usr/local/lib/python3.10/dist-packages (from qiskit-terra==0.24.1->qiskit[visualization]) (0.13.0)\n",
            "Requirement already satisfied: ply>=3.10 in /usr/local/lib/python3.10/dist-packages (from qiskit-terra==0.24.1->qiskit[visualization]) (3.11)\n",
            "Requirement already satisfied: psutil>=5 in /usr/local/lib/python3.10/dist-packages (from qiskit-terra==0.24.1->qiskit[visualization]) (5.9.5)\n",
            "Requirement already satisfied: sympy>=1.3 in /usr/local/lib/python3.10/dist-packages (from qiskit-terra==0.24.1->qiskit[visualization]) (1.11.1)\n",
            "Requirement already satisfied: dill>=0.3 in /usr/local/lib/python3.10/dist-packages (from qiskit-terra==0.24.1->qiskit[visualization]) (0.3.6)\n",
            "Requirement already satisfied: stevedore>=3.0.0 in /usr/local/lib/python3.10/dist-packages (from qiskit-terra==0.24.1->qiskit[visualization]) (5.1.0)\n",
            "Requirement already satisfied: symengine<0.10,>=0.9 in /usr/local/lib/python3.10/dist-packages (from qiskit-terra==0.24.1->qiskit[visualization]) (0.9.2)\n",
            "Requirement already satisfied: ipykernel>=4.5.1 in /usr/local/lib/python3.10/dist-packages (from ipywidgets>=7.3.0->qiskit[visualization]) (5.5.6)\n",
            "Requirement already satisfied: ipython-genutils~=0.2.0 in /usr/local/lib/python3.10/dist-packages (from ipywidgets>=7.3.0->qiskit[visualization]) (0.2.0)\n",
            "Requirement already satisfied: traitlets>=4.3.1 in /usr/local/lib/python3.10/dist-packages (from ipywidgets>=7.3.0->qiskit[visualization]) (5.7.1)\n",
            "Requirement already satisfied: widgetsnbextension~=3.6.0 in /usr/local/lib/python3.10/dist-packages (from ipywidgets>=7.3.0->qiskit[visualization]) (3.6.4)\n",
            "Requirement already satisfied: ipython>=4.0.0 in /usr/local/lib/python3.10/dist-packages (from ipywidgets>=7.3.0->qiskit[visualization]) (7.34.0)\n",
            "Requirement already satisfied: jupyterlab-widgets>=1.0.0 in /usr/local/lib/python3.10/dist-packages (from ipywidgets>=7.3.0->qiskit[visualization]) (3.0.7)\n",
            "Requirement already satisfied: contourpy>=1.0.1 in /usr/local/lib/python3.10/dist-packages (from matplotlib>=2.1->qiskit[visualization]) (1.1.0)\n",
            "Requirement already satisfied: cycler>=0.10 in /usr/local/lib/python3.10/dist-packages (from matplotlib>=2.1->qiskit[visualization]) (0.11.0)\n",
            "Requirement already satisfied: fonttools>=4.22.0 in /usr/local/lib/python3.10/dist-packages (from matplotlib>=2.1->qiskit[visualization]) (4.40.0)\n",
            "Requirement already satisfied: kiwisolver>=1.0.1 in /usr/local/lib/python3.10/dist-packages (from matplotlib>=2.1->qiskit[visualization]) (1.4.4)\n",
            "Requirement already satisfied: packaging>=20.0 in /usr/local/lib/python3.10/dist-packages (from matplotlib>=2.1->qiskit[visualization]) (23.1)\n",
            "Requirement already satisfied: pyparsing>=2.3.1 in /usr/local/lib/python3.10/dist-packages (from matplotlib>=2.1->qiskit[visualization]) (3.1.0)\n",
            "Requirement already satisfied: pandas>=0.25 in /usr/local/lib/python3.10/dist-packages (from seaborn>=0.9.0->qiskit[visualization]) (1.5.3)\n",
            "Requirement already satisfied: jupyter-client in /usr/local/lib/python3.10/dist-packages (from ipykernel>=4.5.1->ipywidgets>=7.3.0->qiskit[visualization]) (6.1.12)\n",
            "Requirement already satisfied: tornado>=4.2 in /usr/local/lib/python3.10/dist-packages (from ipykernel>=4.5.1->ipywidgets>=7.3.0->qiskit[visualization]) (6.3.1)\n",
            "Requirement already satisfied: setuptools>=18.5 in /usr/local/lib/python3.10/dist-packages (from ipython>=4.0.0->ipywidgets>=7.3.0->qiskit[visualization]) (67.7.2)\n",
            "Collecting jedi>=0.16 (from ipython>=4.0.0->ipywidgets>=7.3.0->qiskit[visualization])\n",
            "  Downloading jedi-0.18.2-py2.py3-none-any.whl (1.6 MB)\n",
            "\u001b[2K     \u001b[90m━━━━━━━━━━━━━━━━━━━━━━━━━━━━━━━━━━━━━━━━\u001b[0m \u001b[32m1.6/1.6 MB\u001b[0m \u001b[31m51.3 MB/s\u001b[0m eta \u001b[36m0:00:00\u001b[0m\n",
            "\u001b[?25hRequirement already satisfied: decorator in /usr/local/lib/python3.10/dist-packages (from ipython>=4.0.0->ipywidgets>=7.3.0->qiskit[visualization]) (4.4.2)\n",
            "Requirement already satisfied: pickleshare in /usr/local/lib/python3.10/dist-packages (from ipython>=4.0.0->ipywidgets>=7.3.0->qiskit[visualization]) (0.7.5)\n",
            "Requirement already satisfied: prompt-toolkit!=3.0.0,!=3.0.1,<3.1.0,>=2.0.0 in /usr/local/lib/python3.10/dist-packages (from ipython>=4.0.0->ipywidgets>=7.3.0->qiskit[visualization]) (3.0.38)\n",
            "Requirement already satisfied: backcall in /usr/local/lib/python3.10/dist-packages (from ipython>=4.0.0->ipywidgets>=7.3.0->qiskit[visualization]) (0.2.0)\n",
            "Requirement already satisfied: matplotlib-inline in /usr/local/lib/python3.10/dist-packages (from ipython>=4.0.0->ipywidgets>=7.3.0->qiskit[visualization]) (0.1.6)\n",
            "Requirement already satisfied: pexpect>4.3 in /usr/local/lib/python3.10/dist-packages (from ipython>=4.0.0->ipywidgets>=7.3.0->qiskit[visualization]) (4.8.0)\n",
            "Requirement already satisfied: pytz>=2020.1 in /usr/local/lib/python3.10/dist-packages (from pandas>=0.25->seaborn>=0.9.0->qiskit[visualization]) (2022.7.1)\n",
            "Requirement already satisfied: six>=1.5 in /usr/local/lib/python3.10/dist-packages (from python-dateutil>=2.8.0->qiskit-ibmq-provider==0.20.2->qiskit[visualization]) (1.16.0)\n",
            "Requirement already satisfied: certifi>=2017.4.17 in /usr/local/lib/python3.10/dist-packages (from requests>=2.19->qiskit-ibmq-provider==0.20.2->qiskit[visualization]) (2023.5.7)\n",
            "Requirement already satisfied: charset-normalizer~=2.0.0 in /usr/local/lib/python3.10/dist-packages (from requests>=2.19->qiskit-ibmq-provider==0.20.2->qiskit[visualization]) (2.0.12)\n",
            "Requirement already satisfied: idna<4,>=2.5 in /usr/local/lib/python3.10/dist-packages (from requests>=2.19->qiskit-ibmq-provider==0.20.2->qiskit[visualization]) (3.4)\n",
            "Requirement already satisfied: ntlm-auth>=1.0.2 in /usr/local/lib/python3.10/dist-packages (from requests-ntlm<=1.1.0->qiskit-ibmq-provider==0.20.2->qiskit[visualization]) (1.5.0)\n",
            "Requirement already satisfied: cryptography>=1.3 in /usr/local/lib/python3.10/dist-packages (from requests-ntlm<=1.1.0->qiskit-ibmq-provider==0.20.2->qiskit[visualization]) (41.0.1)\n",
            "Requirement already satisfied: pbr!=2.1.0,>=2.0.0 in /usr/local/lib/python3.10/dist-packages (from stevedore>=3.0.0->qiskit-terra==0.24.1->qiskit[visualization]) (5.11.1)\n",
            "Requirement already satisfied: mpmath>=0.19 in /usr/local/lib/python3.10/dist-packages (from sympy>=1.3->qiskit-terra==0.24.1->qiskit[visualization]) (1.3.0)\n",
            "Requirement already satisfied: notebook>=4.4.1 in /usr/local/lib/python3.10/dist-packages (from widgetsnbextension~=3.6.0->ipywidgets>=7.3.0->qiskit[visualization]) (6.4.8)\n",
            "Requirement already satisfied: cffi>=1.12 in /usr/local/lib/python3.10/dist-packages (from cryptography>=1.3->requests-ntlm<=1.1.0->qiskit-ibmq-provider==0.20.2->qiskit[visualization]) (1.15.1)\n",
            "Requirement already satisfied: parso<0.9.0,>=0.8.0 in /usr/local/lib/python3.10/dist-packages (from jedi>=0.16->ipython>=4.0.0->ipywidgets>=7.3.0->qiskit[visualization]) (0.8.3)\n",
            "Requirement already satisfied: jinja2 in /usr/local/lib/python3.10/dist-packages (from notebook>=4.4.1->widgetsnbextension~=3.6.0->ipywidgets>=7.3.0->qiskit[visualization]) (3.1.2)\n",
            "Requirement already satisfied: pyzmq>=17 in /usr/local/lib/python3.10/dist-packages (from notebook>=4.4.1->widgetsnbextension~=3.6.0->ipywidgets>=7.3.0->qiskit[visualization]) (23.2.1)\n",
            "Requirement already satisfied: argon2-cffi in /usr/local/lib/python3.10/dist-packages (from notebook>=4.4.1->widgetsnbextension~=3.6.0->ipywidgets>=7.3.0->qiskit[visualization]) (21.3.0)\n",
            "Requirement already satisfied: jupyter-core>=4.6.1 in /usr/local/lib/python3.10/dist-packages (from notebook>=4.4.1->widgetsnbextension~=3.6.0->ipywidgets>=7.3.0->qiskit[visualization]) (5.3.1)\n",
            "Requirement already satisfied: nbformat in /usr/local/lib/python3.10/dist-packages (from notebook>=4.4.1->widgetsnbextension~=3.6.0->ipywidgets>=7.3.0->qiskit[visualization]) (5.9.0)\n",
            "Requirement already satisfied: nbconvert in /usr/local/lib/python3.10/dist-packages (from notebook>=4.4.1->widgetsnbextension~=3.6.0->ipywidgets>=7.3.0->qiskit[visualization]) (6.5.4)\n",
            "Requirement already satisfied: nest-asyncio>=1.5 in /usr/local/lib/python3.10/dist-packages (from notebook>=4.4.1->widgetsnbextension~=3.6.0->ipywidgets>=7.3.0->qiskit[visualization]) (1.5.6)\n",
            "Requirement already satisfied: Send2Trash>=1.8.0 in /usr/local/lib/python3.10/dist-packages (from notebook>=4.4.1->widgetsnbextension~=3.6.0->ipywidgets>=7.3.0->qiskit[visualization]) (1.8.2)\n",
            "Requirement already satisfied: terminado>=0.8.3 in /usr/local/lib/python3.10/dist-packages (from notebook>=4.4.1->widgetsnbextension~=3.6.0->ipywidgets>=7.3.0->qiskit[visualization]) (0.17.1)\n",
            "Requirement already satisfied: prometheus-client in /usr/local/lib/python3.10/dist-packages (from notebook>=4.4.1->widgetsnbextension~=3.6.0->ipywidgets>=7.3.0->qiskit[visualization]) (0.17.0)\n",
            "Requirement already satisfied: ptyprocess>=0.5 in /usr/local/lib/python3.10/dist-packages (from pexpect>4.3->ipython>=4.0.0->ipywidgets>=7.3.0->qiskit[visualization]) (0.7.0)\n",
            "Requirement already satisfied: wcwidth in /usr/local/lib/python3.10/dist-packages (from prompt-toolkit!=3.0.0,!=3.0.1,<3.1.0,>=2.0.0->ipython>=4.0.0->ipywidgets>=7.3.0->qiskit[visualization]) (0.2.6)\n",
            "Requirement already satisfied: pycparser in /usr/local/lib/python3.10/dist-packages (from cffi>=1.12->cryptography>=1.3->requests-ntlm<=1.1.0->qiskit-ibmq-provider==0.20.2->qiskit[visualization]) (2.21)\n",
            "Requirement already satisfied: platformdirs>=2.5 in /usr/local/lib/python3.10/dist-packages (from jupyter-core>=4.6.1->notebook>=4.4.1->widgetsnbextension~=3.6.0->ipywidgets>=7.3.0->qiskit[visualization]) (3.7.0)\n",
            "Requirement already satisfied: argon2-cffi-bindings in /usr/local/lib/python3.10/dist-packages (from argon2-cffi->notebook>=4.4.1->widgetsnbextension~=3.6.0->ipywidgets>=7.3.0->qiskit[visualization]) (21.2.0)\n",
            "Requirement already satisfied: MarkupSafe>=2.0 in /usr/local/lib/python3.10/dist-packages (from jinja2->notebook>=4.4.1->widgetsnbextension~=3.6.0->ipywidgets>=7.3.0->qiskit[visualization]) (2.1.3)\n",
            "Requirement already satisfied: lxml in /usr/local/lib/python3.10/dist-packages (from nbconvert->notebook>=4.4.1->widgetsnbextension~=3.6.0->ipywidgets>=7.3.0->qiskit[visualization]) (4.9.2)\n",
            "Requirement already satisfied: beautifulsoup4 in /usr/local/lib/python3.10/dist-packages (from nbconvert->notebook>=4.4.1->widgetsnbextension~=3.6.0->ipywidgets>=7.3.0->qiskit[visualization]) (4.11.2)\n",
            "Requirement already satisfied: bleach in /usr/local/lib/python3.10/dist-packages (from nbconvert->notebook>=4.4.1->widgetsnbextension~=3.6.0->ipywidgets>=7.3.0->qiskit[visualization]) (6.0.0)\n",
            "Requirement already satisfied: defusedxml in /usr/local/lib/python3.10/dist-packages (from nbconvert->notebook>=4.4.1->widgetsnbextension~=3.6.0->ipywidgets>=7.3.0->qiskit[visualization]) (0.7.1)\n",
            "Requirement already satisfied: entrypoints>=0.2.2 in /usr/local/lib/python3.10/dist-packages (from nbconvert->notebook>=4.4.1->widgetsnbextension~=3.6.0->ipywidgets>=7.3.0->qiskit[visualization]) (0.4)\n",
            "Requirement already satisfied: jupyterlab-pygments in /usr/local/lib/python3.10/dist-packages (from nbconvert->notebook>=4.4.1->widgetsnbextension~=3.6.0->ipywidgets>=7.3.0->qiskit[visualization]) (0.2.2)\n",
            "Requirement already satisfied: mistune<2,>=0.8.1 in /usr/local/lib/python3.10/dist-packages (from nbconvert->notebook>=4.4.1->widgetsnbextension~=3.6.0->ipywidgets>=7.3.0->qiskit[visualization]) (0.8.4)\n",
            "Requirement already satisfied: nbclient>=0.5.0 in /usr/local/lib/python3.10/dist-packages (from nbconvert->notebook>=4.4.1->widgetsnbextension~=3.6.0->ipywidgets>=7.3.0->qiskit[visualization]) (0.8.0)\n",
            "Requirement already satisfied: pandocfilters>=1.4.1 in /usr/local/lib/python3.10/dist-packages (from nbconvert->notebook>=4.4.1->widgetsnbextension~=3.6.0->ipywidgets>=7.3.0->qiskit[visualization]) (1.5.0)\n",
            "Requirement already satisfied: tinycss2 in /usr/local/lib/python3.10/dist-packages (from nbconvert->notebook>=4.4.1->widgetsnbextension~=3.6.0->ipywidgets>=7.3.0->qiskit[visualization]) (1.2.1)\n",
            "Requirement already satisfied: fastjsonschema in /usr/local/lib/python3.10/dist-packages (from nbformat->notebook>=4.4.1->widgetsnbextension~=3.6.0->ipywidgets>=7.3.0->qiskit[visualization]) (2.17.1)\n",
            "Requirement already satisfied: jsonschema>=2.6 in /usr/local/lib/python3.10/dist-packages (from nbformat->notebook>=4.4.1->widgetsnbextension~=3.6.0->ipywidgets>=7.3.0->qiskit[visualization]) (4.3.3)\n",
            "Requirement already satisfied: attrs>=17.4.0 in /usr/local/lib/python3.10/dist-packages (from jsonschema>=2.6->nbformat->notebook>=4.4.1->widgetsnbextension~=3.6.0->ipywidgets>=7.3.0->qiskit[visualization]) (23.1.0)\n",
            "Requirement already satisfied: pyrsistent!=0.17.0,!=0.17.1,!=0.17.2,>=0.14.0 in /usr/local/lib/python3.10/dist-packages (from jsonschema>=2.6->nbformat->notebook>=4.4.1->widgetsnbextension~=3.6.0->ipywidgets>=7.3.0->qiskit[visualization]) (0.19.3)\n",
            "Requirement already satisfied: soupsieve>1.2 in /usr/local/lib/python3.10/dist-packages (from beautifulsoup4->nbconvert->notebook>=4.4.1->widgetsnbextension~=3.6.0->ipywidgets>=7.3.0->qiskit[visualization]) (2.4.1)\n",
            "Requirement already satisfied: webencodings in /usr/local/lib/python3.10/dist-packages (from bleach->nbconvert->notebook>=4.4.1->widgetsnbextension~=3.6.0->ipywidgets>=7.3.0->qiskit[visualization]) (0.5.1)\n",
            "Building wheels for collected packages: pylatexenc\n",
            "  Building wheel for pylatexenc (setup.py) ... \u001b[?25l\u001b[?25hdone\n",
            "  Created wheel for pylatexenc: filename=pylatexenc-2.10-py3-none-any.whl size=136820 sha256=31aed8eff4dd7ebb50e9c4018660d46da341844ad38426dd3e10fe16630b5af9\n",
            "  Stored in directory: /root/.cache/pip/wheels/d3/31/8b/e09b0386afd80cfc556c00408c9aeea5c35c4d484a9c762fd5\n",
            "Successfully built pylatexenc\n",
            "Installing collected packages: pylatexenc, jedi\n",
            "Successfully installed jedi-0.18.2 pylatexenc-2.10\n"
          ]
        }
      ]
    },
    {
      "cell_type": "markdown",
      "source": [
        "To install Qiskit Machine Learning Package:"
      ],
      "metadata": {
        "id": "AEU66pXFDHBk"
      }
    },
    {
      "cell_type": "code",
      "source": [
        "!pip install qiskit[machine-learning]"
      ],
      "metadata": {
        "colab": {
          "base_uri": "https://localhost:8080/"
        },
        "id": "M4dk2-lDDE0u",
        "outputId": "dffaeb69-a95e-42e7-82cd-cbba6bbf3fa2"
      },
      "execution_count": 3,
      "outputs": [
        {
          "output_type": "stream",
          "name": "stdout",
          "text": [
            "Looking in indexes: https://pypi.org/simple, https://us-python.pkg.dev/colab-wheels/public/simple/\n",
            "Requirement already satisfied: qiskit[machine-learning] in /usr/local/lib/python3.10/dist-packages (0.43.1)\n",
            "Requirement already satisfied: qiskit-terra==0.24.1 in /usr/local/lib/python3.10/dist-packages (from qiskit[machine-learning]) (0.24.1)\n",
            "Requirement already satisfied: qiskit-aer==0.12.0 in /usr/local/lib/python3.10/dist-packages (from qiskit[machine-learning]) (0.12.0)\n",
            "Requirement already satisfied: qiskit-ibmq-provider==0.20.2 in /usr/local/lib/python3.10/dist-packages (from qiskit[machine-learning]) (0.20.2)\n",
            "Collecting qiskit-machine-learning>=0.4.0 (from qiskit[machine-learning])\n",
            "  Downloading qiskit_machine_learning-0.6.1-py3-none-any.whl (148 kB)\n",
            "\u001b[2K     \u001b[90m━━━━━━━━━━━━━━━━━━━━━━━━━━━━━━━━━━━━━━━\u001b[0m \u001b[32m148.7/148.7 kB\u001b[0m \u001b[31m6.6 MB/s\u001b[0m eta \u001b[36m0:00:00\u001b[0m\n",
            "\u001b[?25hRequirement already satisfied: numpy>=1.16.3 in /usr/local/lib/python3.10/dist-packages (from qiskit-aer==0.12.0->qiskit[machine-learning]) (1.22.4)\n",
            "Requirement already satisfied: scipy>=1.0 in /usr/local/lib/python3.10/dist-packages (from qiskit-aer==0.12.0->qiskit[machine-learning]) (1.10.1)\n",
            "Requirement already satisfied: requests>=2.19 in /usr/local/lib/python3.10/dist-packages (from qiskit-ibmq-provider==0.20.2->qiskit[machine-learning]) (2.27.1)\n",
            "Requirement already satisfied: requests-ntlm<=1.1.0 in /usr/local/lib/python3.10/dist-packages (from qiskit-ibmq-provider==0.20.2->qiskit[machine-learning]) (1.1.0)\n",
            "Requirement already satisfied: urllib3>=1.21.1 in /usr/local/lib/python3.10/dist-packages (from qiskit-ibmq-provider==0.20.2->qiskit[machine-learning]) (1.26.16)\n",
            "Requirement already satisfied: python-dateutil>=2.8.0 in /usr/local/lib/python3.10/dist-packages (from qiskit-ibmq-provider==0.20.2->qiskit[machine-learning]) (2.8.2)\n",
            "Requirement already satisfied: websocket-client>=1.5.1 in /usr/local/lib/python3.10/dist-packages (from qiskit-ibmq-provider==0.20.2->qiskit[machine-learning]) (1.6.0)\n",
            "Requirement already satisfied: websockets>=10.0 in /usr/local/lib/python3.10/dist-packages (from qiskit-ibmq-provider==0.20.2->qiskit[machine-learning]) (11.0.3)\n",
            "Requirement already satisfied: rustworkx>=0.12.0 in /usr/local/lib/python3.10/dist-packages (from qiskit-terra==0.24.1->qiskit[machine-learning]) (0.13.0)\n",
            "Requirement already satisfied: ply>=3.10 in /usr/local/lib/python3.10/dist-packages (from qiskit-terra==0.24.1->qiskit[machine-learning]) (3.11)\n",
            "Requirement already satisfied: psutil>=5 in /usr/local/lib/python3.10/dist-packages (from qiskit-terra==0.24.1->qiskit[machine-learning]) (5.9.5)\n",
            "Requirement already satisfied: sympy>=1.3 in /usr/local/lib/python3.10/dist-packages (from qiskit-terra==0.24.1->qiskit[machine-learning]) (1.11.1)\n",
            "Requirement already satisfied: dill>=0.3 in /usr/local/lib/python3.10/dist-packages (from qiskit-terra==0.24.1->qiskit[machine-learning]) (0.3.6)\n",
            "Requirement already satisfied: stevedore>=3.0.0 in /usr/local/lib/python3.10/dist-packages (from qiskit-terra==0.24.1->qiskit[machine-learning]) (5.1.0)\n",
            "Requirement already satisfied: symengine<0.10,>=0.9 in /usr/local/lib/python3.10/dist-packages (from qiskit-terra==0.24.1->qiskit[machine-learning]) (0.9.2)\n",
            "Requirement already satisfied: scikit-learn>=0.20.0 in /usr/local/lib/python3.10/dist-packages (from qiskit-machine-learning>=0.4.0->qiskit[machine-learning]) (1.2.2)\n",
            "Collecting fastdtw (from qiskit-machine-learning>=0.4.0->qiskit[machine-learning])\n",
            "  Downloading fastdtw-0.3.4.tar.gz (133 kB)\n",
            "\u001b[2K     \u001b[90m━━━━━━━━━━━━━━━━━━━━━━━━━━━━━━━━━━━━━━\u001b[0m \u001b[32m133.4/133.4 kB\u001b[0m \u001b[31m18.7 MB/s\u001b[0m eta \u001b[36m0:00:00\u001b[0m\n",
            "\u001b[?25h  Preparing metadata (setup.py) ... \u001b[?25l\u001b[?25hdone\n",
            "Requirement already satisfied: setuptools>=40.1.0 in /usr/local/lib/python3.10/dist-packages (from qiskit-machine-learning>=0.4.0->qiskit[machine-learning]) (67.7.2)\n",
            "Requirement already satisfied: six>=1.5 in /usr/local/lib/python3.10/dist-packages (from python-dateutil>=2.8.0->qiskit-ibmq-provider==0.20.2->qiskit[machine-learning]) (1.16.0)\n",
            "Requirement already satisfied: certifi>=2017.4.17 in /usr/local/lib/python3.10/dist-packages (from requests>=2.19->qiskit-ibmq-provider==0.20.2->qiskit[machine-learning]) (2023.5.7)\n",
            "Requirement already satisfied: charset-normalizer~=2.0.0 in /usr/local/lib/python3.10/dist-packages (from requests>=2.19->qiskit-ibmq-provider==0.20.2->qiskit[machine-learning]) (2.0.12)\n",
            "Requirement already satisfied: idna<4,>=2.5 in /usr/local/lib/python3.10/dist-packages (from requests>=2.19->qiskit-ibmq-provider==0.20.2->qiskit[machine-learning]) (3.4)\n",
            "Requirement already satisfied: ntlm-auth>=1.0.2 in /usr/local/lib/python3.10/dist-packages (from requests-ntlm<=1.1.0->qiskit-ibmq-provider==0.20.2->qiskit[machine-learning]) (1.5.0)\n",
            "Requirement already satisfied: cryptography>=1.3 in /usr/local/lib/python3.10/dist-packages (from requests-ntlm<=1.1.0->qiskit-ibmq-provider==0.20.2->qiskit[machine-learning]) (41.0.1)\n",
            "Requirement already satisfied: joblib>=1.1.1 in /usr/local/lib/python3.10/dist-packages (from scikit-learn>=0.20.0->qiskit-machine-learning>=0.4.0->qiskit[machine-learning]) (1.2.0)\n",
            "Requirement already satisfied: threadpoolctl>=2.0.0 in /usr/local/lib/python3.10/dist-packages (from scikit-learn>=0.20.0->qiskit-machine-learning>=0.4.0->qiskit[machine-learning]) (3.1.0)\n",
            "Requirement already satisfied: pbr!=2.1.0,>=2.0.0 in /usr/local/lib/python3.10/dist-packages (from stevedore>=3.0.0->qiskit-terra==0.24.1->qiskit[machine-learning]) (5.11.1)\n",
            "Requirement already satisfied: mpmath>=0.19 in /usr/local/lib/python3.10/dist-packages (from sympy>=1.3->qiskit-terra==0.24.1->qiskit[machine-learning]) (1.3.0)\n",
            "Requirement already satisfied: cffi>=1.12 in /usr/local/lib/python3.10/dist-packages (from cryptography>=1.3->requests-ntlm<=1.1.0->qiskit-ibmq-provider==0.20.2->qiskit[machine-learning]) (1.15.1)\n",
            "Requirement already satisfied: pycparser in /usr/local/lib/python3.10/dist-packages (from cffi>=1.12->cryptography>=1.3->requests-ntlm<=1.1.0->qiskit-ibmq-provider==0.20.2->qiskit[machine-learning]) (2.21)\n",
            "Building wheels for collected packages: fastdtw\n",
            "  Building wheel for fastdtw (setup.py) ... \u001b[?25l\u001b[?25hdone\n",
            "  Created wheel for fastdtw: filename=fastdtw-0.3.4-cp310-cp310-linux_x86_64.whl size=517929 sha256=4fdb68a7a35cd98cdc88666b898b2218d0df2b06bfbbb8f745707d264bab6740\n",
            "  Stored in directory: /root/.cache/pip/wheels/73/c8/f7/c25448dab74c3acf4848bc25d513c736bb93910277e1528ef4\n",
            "Successfully built fastdtw\n",
            "Installing collected packages: fastdtw, qiskit-machine-learning\n",
            "Successfully installed fastdtw-0.3.4 qiskit-machine-learning-0.6.1\n"
          ]
        }
      ]
    },
    {
      "cell_type": "markdown",
      "source": [
        "To install Qiskit Nature:"
      ],
      "metadata": {
        "id": "X12zR6QLDUAE"
      }
    },
    {
      "cell_type": "code",
      "source": [
        "!pip install qiskit[nature]"
      ],
      "metadata": {
        "colab": {
          "base_uri": "https://localhost:8080/"
        },
        "id": "aSqpwMUhDLss",
        "outputId": "1b354c77-9955-447d-fe0a-7f2764615dcc"
      },
      "execution_count": 4,
      "outputs": [
        {
          "output_type": "stream",
          "name": "stdout",
          "text": [
            "Looking in indexes: https://pypi.org/simple, https://us-python.pkg.dev/colab-wheels/public/simple/\n",
            "Requirement already satisfied: qiskit[nature] in /usr/local/lib/python3.10/dist-packages (0.43.1)\n",
            "Requirement already satisfied: qiskit-terra==0.24.1 in /usr/local/lib/python3.10/dist-packages (from qiskit[nature]) (0.24.1)\n",
            "Requirement already satisfied: qiskit-aer==0.12.0 in /usr/local/lib/python3.10/dist-packages (from qiskit[nature]) (0.12.0)\n",
            "Requirement already satisfied: qiskit-ibmq-provider==0.20.2 in /usr/local/lib/python3.10/dist-packages (from qiskit[nature]) (0.20.2)\n",
            "Collecting qiskit-nature>=0.4.1 (from qiskit[nature])\n",
            "  Downloading qiskit_nature-0.6.2-py3-none-any.whl (4.1 MB)\n",
            "\u001b[2K     \u001b[90m━━━━━━━━━━━━━━━━━━━━━━━━━━━━━━━━━━━━━━━━\u001b[0m \u001b[32m4.1/4.1 MB\u001b[0m \u001b[31m45.3 MB/s\u001b[0m eta \u001b[36m0:00:00\u001b[0m\n",
            "\u001b[?25hRequirement already satisfied: numpy>=1.16.3 in /usr/local/lib/python3.10/dist-packages (from qiskit-aer==0.12.0->qiskit[nature]) (1.22.4)\n",
            "Requirement already satisfied: scipy>=1.0 in /usr/local/lib/python3.10/dist-packages (from qiskit-aer==0.12.0->qiskit[nature]) (1.10.1)\n",
            "Requirement already satisfied: requests>=2.19 in /usr/local/lib/python3.10/dist-packages (from qiskit-ibmq-provider==0.20.2->qiskit[nature]) (2.27.1)\n",
            "Requirement already satisfied: requests-ntlm<=1.1.0 in /usr/local/lib/python3.10/dist-packages (from qiskit-ibmq-provider==0.20.2->qiskit[nature]) (1.1.0)\n",
            "Requirement already satisfied: urllib3>=1.21.1 in /usr/local/lib/python3.10/dist-packages (from qiskit-ibmq-provider==0.20.2->qiskit[nature]) (1.26.16)\n",
            "Requirement already satisfied: python-dateutil>=2.8.0 in /usr/local/lib/python3.10/dist-packages (from qiskit-ibmq-provider==0.20.2->qiskit[nature]) (2.8.2)\n",
            "Requirement already satisfied: websocket-client>=1.5.1 in /usr/local/lib/python3.10/dist-packages (from qiskit-ibmq-provider==0.20.2->qiskit[nature]) (1.6.0)\n",
            "Requirement already satisfied: websockets>=10.0 in /usr/local/lib/python3.10/dist-packages (from qiskit-ibmq-provider==0.20.2->qiskit[nature]) (11.0.3)\n",
            "Requirement already satisfied: rustworkx>=0.12.0 in /usr/local/lib/python3.10/dist-packages (from qiskit-terra==0.24.1->qiskit[nature]) (0.13.0)\n",
            "Requirement already satisfied: ply>=3.10 in /usr/local/lib/python3.10/dist-packages (from qiskit-terra==0.24.1->qiskit[nature]) (3.11)\n",
            "Requirement already satisfied: psutil>=5 in /usr/local/lib/python3.10/dist-packages (from qiskit-terra==0.24.1->qiskit[nature]) (5.9.5)\n",
            "Requirement already satisfied: sympy>=1.3 in /usr/local/lib/python3.10/dist-packages (from qiskit-terra==0.24.1->qiskit[nature]) (1.11.1)\n",
            "Requirement already satisfied: dill>=0.3 in /usr/local/lib/python3.10/dist-packages (from qiskit-terra==0.24.1->qiskit[nature]) (0.3.6)\n",
            "Requirement already satisfied: stevedore>=3.0.0 in /usr/local/lib/python3.10/dist-packages (from qiskit-terra==0.24.1->qiskit[nature]) (5.1.0)\n",
            "Requirement already satisfied: symengine<0.10,>=0.9 in /usr/local/lib/python3.10/dist-packages (from qiskit-terra==0.24.1->qiskit[nature]) (0.9.2)\n",
            "Requirement already satisfied: scikit-learn>=0.20.0 in /usr/local/lib/python3.10/dist-packages (from qiskit-nature>=0.4.1->qiskit[nature]) (1.2.2)\n",
            "Requirement already satisfied: setuptools>=40.1.0 in /usr/local/lib/python3.10/dist-packages (from qiskit-nature>=0.4.1->qiskit[nature]) (67.7.2)\n",
            "Requirement already satisfied: typing-extensions in /usr/local/lib/python3.10/dist-packages (from qiskit-nature>=0.4.1->qiskit[nature]) (4.6.3)\n",
            "Requirement already satisfied: h5py in /usr/local/lib/python3.10/dist-packages (from qiskit-nature>=0.4.1->qiskit[nature]) (3.8.0)\n",
            "Requirement already satisfied: six>=1.5 in /usr/local/lib/python3.10/dist-packages (from python-dateutil>=2.8.0->qiskit-ibmq-provider==0.20.2->qiskit[nature]) (1.16.0)\n",
            "Requirement already satisfied: certifi>=2017.4.17 in /usr/local/lib/python3.10/dist-packages (from requests>=2.19->qiskit-ibmq-provider==0.20.2->qiskit[nature]) (2023.5.7)\n",
            "Requirement already satisfied: charset-normalizer~=2.0.0 in /usr/local/lib/python3.10/dist-packages (from requests>=2.19->qiskit-ibmq-provider==0.20.2->qiskit[nature]) (2.0.12)\n",
            "Requirement already satisfied: idna<4,>=2.5 in /usr/local/lib/python3.10/dist-packages (from requests>=2.19->qiskit-ibmq-provider==0.20.2->qiskit[nature]) (3.4)\n",
            "Requirement already satisfied: ntlm-auth>=1.0.2 in /usr/local/lib/python3.10/dist-packages (from requests-ntlm<=1.1.0->qiskit-ibmq-provider==0.20.2->qiskit[nature]) (1.5.0)\n",
            "Requirement already satisfied: cryptography>=1.3 in /usr/local/lib/python3.10/dist-packages (from requests-ntlm<=1.1.0->qiskit-ibmq-provider==0.20.2->qiskit[nature]) (41.0.1)\n",
            "Requirement already satisfied: joblib>=1.1.1 in /usr/local/lib/python3.10/dist-packages (from scikit-learn>=0.20.0->qiskit-nature>=0.4.1->qiskit[nature]) (1.2.0)\n",
            "Requirement already satisfied: threadpoolctl>=2.0.0 in /usr/local/lib/python3.10/dist-packages (from scikit-learn>=0.20.0->qiskit-nature>=0.4.1->qiskit[nature]) (3.1.0)\n",
            "Requirement already satisfied: pbr!=2.1.0,>=2.0.0 in /usr/local/lib/python3.10/dist-packages (from stevedore>=3.0.0->qiskit-terra==0.24.1->qiskit[nature]) (5.11.1)\n",
            "Requirement already satisfied: mpmath>=0.19 in /usr/local/lib/python3.10/dist-packages (from sympy>=1.3->qiskit-terra==0.24.1->qiskit[nature]) (1.3.0)\n",
            "Requirement already satisfied: cffi>=1.12 in /usr/local/lib/python3.10/dist-packages (from cryptography>=1.3->requests-ntlm<=1.1.0->qiskit-ibmq-provider==0.20.2->qiskit[nature]) (1.15.1)\n",
            "Requirement already satisfied: pycparser in /usr/local/lib/python3.10/dist-packages (from cffi>=1.12->cryptography>=1.3->requests-ntlm<=1.1.0->qiskit-ibmq-provider==0.20.2->qiskit[nature]) (2.21)\n",
            "Installing collected packages: qiskit-nature\n",
            "Successfully installed qiskit-nature-0.6.2\n"
          ]
        }
      ]
    },
    {
      "cell_type": "markdown",
      "source": [
        "and so on for other packages as well."
      ],
      "metadata": {
        "id": "jlJEl5gpDYuT"
      }
    },
    {
      "cell_type": "markdown",
      "source": [
        "We will learn how to install other packages as well, when we will reach there, and have to make use of them. Currenlty we are starting with the very basics of Quantum Computing in Qiskit and hence do not require such advance packages."
      ],
      "metadata": {
        "id": "jhSz7_Y8DcDk"
      }
    },
    {
      "cell_type": "markdown",
      "source": [
        "### Which version is installed?\n",
        "\n",
        "Suppose you want to know which version of the qiskit package in installed, and which packages are not installed yet.\n",
        "\n",
        "You can simply run the below code to see. The packages that are installed, will show a version number right next to it, and the packages that aren't installed, will show `none` in front of them."
      ],
      "metadata": {
        "id": "B1jCobaMEDqc"
      }
    },
    {
      "cell_type": "code",
      "source": [
        "import qiskit\n",
        "\n",
        "qiskit.__qiskit_version__"
      ],
      "metadata": {
        "colab": {
          "base_uri": "https://localhost:8080/"
        },
        "id": "0jWs9Kx3DWXc",
        "outputId": "6dcab1b3-668e-4503-a05d-b34181cbb12e"
      },
      "execution_count": 5,
      "outputs": [
        {
          "output_type": "execute_result",
          "data": {
            "text/plain": [
              "{'qiskit-terra': '0.24.1', 'qiskit-aer': '0.12.0', 'qiskit-ignis': None, 'qiskit-ibmq-provider': '0.20.2', 'qiskit': '0.43.1', 'qiskit-nature': '0.6.2', 'qiskit-finance': None, 'qiskit-optimization': None, 'qiskit-machine-learning': '0.6.1'}"
            ]
          },
          "metadata": {},
          "execution_count": 5
        }
      ]
    },
    {
      "cell_type": "markdown",
      "source": [
        "As you can see, we haven't installed `qiskit-finance`, `qiskit-optimization` and `qiskit-ignis` package yet. Hence it shows `none` in front of them.\n",
        "\n",
        "Although it's fairly easy to install them, you just have to use the command, we used before.\n",
        "\n",
        "```python\n",
        "!pip install qiskit[nature]\n",
        "```\n",
        "\n",
        "and replace `nature` with either `finance`, `optimization` or `ignis` and it will install those packages as well."
      ],
      "metadata": {
        "id": "hBe1JdHMEai0"
      }
    },
    {
      "cell_type": "markdown",
      "source": [
        "----\n",
        "\n",
        "You can also print the above as a nice table and see the version of your compiler, your systems information as well."
      ],
      "metadata": {
        "id": "-qQRPJB1FAXs"
      }
    },
    {
      "cell_type": "code",
      "source": [
        "import qiskit.tools.jupyter\n",
        "%qiskit_version_table"
      ],
      "metadata": {
        "colab": {
          "base_uri": "https://localhost:8080/",
          "height": 383
        },
        "id": "bJRLsN32EC40",
        "outputId": "aa0c0052-f4ac-49c7-bff3-41f811531a69"
      },
      "execution_count": 6,
      "outputs": [
        {
          "output_type": "display_data",
          "data": {
            "text/plain": [
              "<IPython.core.display.HTML object>"
            ],
            "text/html": [
              "<h3>Version Information</h3><table><tr><th>Qiskit Software</th><th>Version</th></tr><tr><td><code>qiskit-terra</code></td><td>0.24.1</td></tr><tr><td><code>qiskit-aer</code></td><td>0.12.0</td></tr><tr><td><code>qiskit-ibmq-provider</code></td><td>0.20.2</td></tr><tr><td><code>qiskit</code></td><td>0.43.1</td></tr><tr><td><code>qiskit-nature</code></td><td>0.6.2</td></tr><tr><td><code>qiskit-machine-learning</code></td><td>0.6.1</td></tr><tr><th>System information</th></tr><tr><td>Python version</td><td>3.10.12</td></tr><tr><td>Python compiler</td><td>GCC 9.4.0</td></tr><tr><td>Python build</td><td>main, Jun  7 2023 12:45:35</td></tr><tr><td>OS</td><td>Linux</td></tr><tr><td>CPUs</td><td>1</td></tr><tr><td>Memory (Gb)</td><td>12.678398132324219</td></tr><tr><td colspan='2'>Tue Jun 27 08:59:43 2023 UTC</td></tr></table>"
            ]
          },
          "metadata": {}
        }
      ]
    },
    {
      "cell_type": "markdown",
      "source": [
        "### Important point\n",
        "\n",
        "To visualize pretty circuits like these\n",
        "![intro_tutorial1-1.png](data:image/png;base64,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)\n",
        "\n",
        "\n",
        "make sure to install `pylatex` library."
      ],
      "metadata": {
        "id": "iAgDkyVIGGcV"
      }
    },
    {
      "cell_type": "code",
      "source": [
        "!pip install pylatexenc"
      ],
      "metadata": {
        "colab": {
          "base_uri": "https://localhost:8080/"
        },
        "id": "KOiK9j1nFII_",
        "outputId": "35717fcd-f911-4018-9fdf-7d8e5dc1b45e"
      },
      "execution_count": 7,
      "outputs": [
        {
          "output_type": "stream",
          "name": "stdout",
          "text": [
            "Looking in indexes: https://pypi.org/simple, https://us-python.pkg.dev/colab-wheels/public/simple/\n",
            "Requirement already satisfied: pylatexenc in /usr/local/lib/python3.10/dist-packages (2.10)\n"
          ]
        }
      ]
    },
    {
      "cell_type": "markdown",
      "source": [
        "This is the library that gets called , when you set the output to mpl while plotting the circuits. (We will see that later)."
      ],
      "metadata": {
        "id": "1fWyJB90GXQE"
      }
    },
    {
      "cell_type": "markdown",
      "source": [
        "### Deprecation Policy\n",
        "\n",
        "Many packages depend on different parts of Qiskit, but since they are building new features, optimizing the code, adding more functionalities , they sometimes have to remove one function to add another (better) one.\n",
        "\n",
        "Just like qiskit used to have an `aqua` library, that had all the algorithms , so you had to call `qiskit.aqua` to call the algorithms, but that has been optimized and made better to `qiskit.algorithms` and also `qiskit.circuits`.\n",
        "\n",
        "When removing a feature (for example a class, function or function parameter), they follow this procedure:\n",
        "\n",
        "The alternative path must be in place for one minor version before any warnings are issued. For example, if they want to replace the function `foo()` with `bar()`, they make at least one release with both functions before issuing any warnings within `foo()`. You may issue `PendingDeprecationWarnings` from the old paths immediately.\n",
        "\n",
        "Reason: we need to give people time to swap over without breaking their code as soon as they upgrade.\n",
        "\n",
        "\n",
        "So it may happen thay when you run certain code, you get the following warning:\n"
      ],
      "metadata": {
        "id": "t6Y4kcxWGxGl"
      }
    },
    {
      "cell_type": "markdown",
      "source": [
        "```python\n",
        "Deprecated since version 0.20.0: The function qiskit.deprecated_function() is deprecated since Qiskit Terra 0.20.0, and will be removed 3 months or more later. Instead, you should use qiskit.other_function().\n",
        "```"
      ],
      "metadata": {
        "id": "xUID3DAzHqeU"
      }
    },
    {
      "cell_type": "markdown",
      "source": [
        "Do not panic!, follow the instructions and you'll see plenty tutorials or blogs by the Qiskit team itself on how to use the new function instead of the old ones."
      ],
      "metadata": {
        "id": "Z3S-ESfEHygF"
      }
    },
    {
      "cell_type": "markdown",
      "source": [
        "## End\n",
        "\n",
        "Now you know how to install `Qiskit` packages and all the dependancies required with it. In the next lecture we will start by building basic quantum circuits and running them on a simulator."
      ],
      "metadata": {
        "id": "lZ0g3miJI0w3"
      }
    }
  ]
}