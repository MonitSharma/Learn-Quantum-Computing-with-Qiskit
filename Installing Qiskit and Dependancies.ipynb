{
  "cells": [
    {
      "cell_type": "markdown",
      "metadata": {
        "colab_type": "text",
        "id": "view-in-github"
      },
      "source": [
        "<a href=\"https://colab.research.google.com/github/MonitSharma/Quantum-Computing-with-Qiskit-and-IBMQ/blob/main/Installing%20Qiskit%20and%20Dependancies.ipynb\" target=\"_parent\"><img src=\"https://colab.research.google.com/assets/colab-badge.svg\" alt=\"Open In Colab\"/></a>"
      ]
    },
    {
      "cell_type": "markdown",
      "metadata": {
        "id": "bcYBcnDT_RDs"
      },
      "source": [
        "# Environment Setup Guide to get started with Qiskit\n",
        "\n",
        "I will walk through the latest version installation of Qiskit, `0.43.0` and all the dependancies required for it.\n",
        "\n",
        "I'm running this code on Google Colab, you can run this on your local device as well.\n"
      ]
    },
    {
      "cell_type": "markdown",
      "metadata": {
        "id": "sOZRFk21_siT"
      },
      "source": [
        "## Setting up a Virtual Environment\n",
        "\n",
        "\n",
        "Now, you have two options, to either install Qiskit directly on your local machine, or make a `virtualenvironment` and install it there.\n",
        "\n",
        "I recommend the later, because alot of times, it may so happen that some packages are not compatible with the other, and you need only specific packages to run that code file. It's better to have it on a virtual environment.\n",
        "\n",
        "But if you don't do much coding on your device, that makes you install different versions of different packages, then you can simply do\n",
        "\n",
        "```python\n",
        "!pip install qiskit\n",
        "```\n",
        "\n",
        "and if not, you can start by creating a virtual environment.\n",
        "\n",
        "### Installing it in VS code\n",
        "\n",
        " I use VS code, so [this](https://code.visualstudio.com/docs/python/environments) documentation helped me to create a virtual environment.\n",
        "\n",
        "\n",
        "### Installing it through Terminal\n",
        "\n",
        "If you choose to create a virtual environment manually, use the following command (where \".venv\" is the name of the environment folder):\n",
        "\n",
        "```python\n",
        "# macOS/Linux\n",
        "# You may need to run `sudo apt-get install python3-venv` first on Debian-based OSs\n",
        "python3 -m venv .venv\n",
        "\n",
        "# Windows\n",
        "# You can also use `py -3 -m venv .venv`\n",
        "python -m venv .venv\n",
        "```\n",
        "\n",
        "\n",
        "you can name it other than `venv` as well.\n",
        "\n",
        "Then activate it and install qiskit using\n",
        "\n",
        "```python\n",
        "pip install qiskit\n",
        "```\n",
        "\n",
        "\n",
        "or you can skip all that, and just use Colab or a Jupyter Notebook on your local machine and run:\n",
        "\n",
        "\n",
        "\n"
      ]
    },
    {
      "cell_type": "code",
      "execution_count": 1,
      "metadata": {
        "colab": {
          "base_uri": "https://localhost:8080/"
        },
        "id": "FLAIVaj0_NOS",
        "outputId": "a6f39d48-751d-4e65-c989-f75b9a327b6a"
      },
      "outputs": [
        {
          "name": "stdout",
          "output_type": "stream",
          "text": [
            "Collecting qiskit\n",
            "  Using cached qiskit-1.1.0-cp38-abi3-macosx_11_0_arm64.whl.metadata (12 kB)\n",
            "Collecting rustworkx>=0.14.0 (from qiskit)\n",
            "  Using cached rustworkx-0.14.2-cp312-cp312-macosx_11_0_arm64.whl.metadata (10.0 kB)\n",
            "Collecting numpy<3,>=1.17 (from qiskit)\n",
            "  Downloading numpy-2.0.0-cp312-cp312-macosx_14_0_arm64.whl.metadata (60 kB)\n",
            "\u001b[2K     \u001b[90m━━━━━━━━━━━━━━━━━━━━━━━━━━━━━━━━━━━━━━━━\u001b[0m \u001b[32m60.9/60.9 kB\u001b[0m \u001b[31m3.1 MB/s\u001b[0m eta \u001b[36m0:00:00\u001b[0m\n",
            "\u001b[?25hCollecting scipy>=1.5 (from qiskit)\n",
            "  Using cached scipy-1.13.1-cp312-cp312-macosx_12_0_arm64.whl.metadata (60 kB)\n",
            "Collecting sympy>=1.3 (from qiskit)\n",
            "  Using cached sympy-1.12.1-py3-none-any.whl.metadata (12 kB)\n",
            "Collecting dill>=0.3 (from qiskit)\n",
            "  Using cached dill-0.3.8-py3-none-any.whl.metadata (10 kB)\n",
            "Requirement already satisfied: python-dateutil>=2.8.0 in ./.venv/lib/python3.12/site-packages (from qiskit) (2.9.0.post0)\n",
            "Collecting stevedore>=3.0.0 (from qiskit)\n",
            "  Using cached stevedore-5.2.0-py3-none-any.whl.metadata (2.3 kB)\n",
            "Collecting typing-extensions (from qiskit)\n",
            "  Using cached typing_extensions-4.12.2-py3-none-any.whl.metadata (3.0 kB)\n",
            "Collecting symengine>=0.11 (from qiskit)\n",
            "  Using cached symengine-0.11.0-cp312-cp312-macosx_11_0_arm64.whl.metadata (1.2 kB)\n",
            "Requirement already satisfied: six>=1.5 in ./.venv/lib/python3.12/site-packages (from python-dateutil>=2.8.0->qiskit) (1.16.0)\n",
            "Collecting numpy<3,>=1.17 (from qiskit)\n",
            "  Using cached numpy-1.26.4-cp312-cp312-macosx_11_0_arm64.whl.metadata (61 kB)\n",
            "Collecting pbr!=2.1.0,>=2.0.0 (from stevedore>=3.0.0->qiskit)\n",
            "  Using cached pbr-6.0.0-py2.py3-none-any.whl.metadata (1.3 kB)\n",
            "Collecting mpmath<1.4.0,>=1.1.0 (from sympy>=1.3->qiskit)\n",
            "  Using cached mpmath-1.3.0-py3-none-any.whl.metadata (8.6 kB)\n",
            "Using cached qiskit-1.1.0-cp38-abi3-macosx_11_0_arm64.whl (4.0 MB)\n",
            "Using cached dill-0.3.8-py3-none-any.whl (116 kB)\n",
            "Using cached rustworkx-0.14.2-cp312-cp312-macosx_11_0_arm64.whl (1.7 MB)\n",
            "Using cached numpy-1.26.4-cp312-cp312-macosx_11_0_arm64.whl (13.7 MB)\n",
            "Using cached scipy-1.13.1-cp312-cp312-macosx_12_0_arm64.whl (30.4 MB)\n",
            "Using cached stevedore-5.2.0-py3-none-any.whl (49 kB)\n",
            "Using cached symengine-0.11.0-cp312-cp312-macosx_11_0_arm64.whl (20.5 MB)\n",
            "Using cached sympy-1.12.1-py3-none-any.whl (5.7 MB)\n",
            "Using cached typing_extensions-4.12.2-py3-none-any.whl (37 kB)\n",
            "Using cached mpmath-1.3.0-py3-none-any.whl (536 kB)\n",
            "Using cached pbr-6.0.0-py2.py3-none-any.whl (107 kB)\n",
            "Installing collected packages: mpmath, typing-extensions, sympy, symengine, pbr, numpy, dill, stevedore, scipy, rustworkx, qiskit\n",
            "Successfully installed dill-0.3.8 mpmath-1.3.0 numpy-1.26.4 pbr-6.0.0 qiskit-1.1.0 rustworkx-0.14.2 scipy-1.13.1 stevedore-5.2.0 symengine-0.11.0 sympy-1.12.1 typing-extensions-4.12.2\n"
          ]
        }
      ],
      "source": [
        "!pip install qiskit # or\n",
        "#%pip install qiskit"
      ]
    },
    {
      "cell_type": "markdown",
      "metadata": {
        "id": "zRykPRyuBwrV"
      },
      "source": [
        "In Jupyter Notebook or JupyterLab, the exclamation mark (!) and percent symbol (%) are used as \"magic\" commands to execute system-level commands or interact with specific environments.\n",
        "\n",
        "When it comes to installing packages using pip, there is a subtle difference between !pip and %pip:\n",
        "\n",
        "1. !pip: The exclamation mark is a shorthand way to execute system-level commands from within a Jupyter cell. Using !pip allows you to install packages directly from the command line within the Jupyter environment. For example, !pip install numpy will install the NumPy package using the pip package manager.\n",
        "\n",
        "2.  %pip: The percent symbol is used for \"line magic\" commands in IPython, an interactive command-line interface used by Jupyter. %pip is a specific IPython magic command that can be used to install packages in a similar way to !pip. The difference is that %pip is executed as an IPython magic command, providing some additional features and integration with the IPython environment.\n",
        "\n",
        "In most cases, both !pip and %pip can be used interchangeably to install packages. However, it's worth noting that %pip provides extra functionalities specific to IPython and may have slight variations in behavior compared to !pip."
      ]
    },
    {
      "cell_type": "markdown",
      "metadata": {
        "id": "EjXuXk5JB-eM"
      },
      "source": [
        "----\n",
        "\n",
        "Doing\n",
        "```python\n",
        "!pip install qiskit\n",
        "```\n",
        "will install most of the Qiskit packages for you, but not all.\n",
        "\n",
        "Qiskit has divided its packages in different categories\n",
        "1. Qiskit Machine Learning\n",
        "2. Qiskit Finance\n",
        "3. Qiskit Optimizaion\n",
        "4. Qiskit Nature\n",
        "and many more.\n",
        "\n",
        "These all are not installed directly by installing qiskit. You have to install them separately.\n",
        "\n"
      ]
    },
    {
      "cell_type": "markdown",
      "metadata": {
        "id": "pKgd6eEdDBZV"
      },
      "source": [
        "To install Qiskit Visualization package:"
      ]
    },
    {
      "cell_type": "code",
      "execution_count": 2,
      "metadata": {
        "colab": {
          "base_uri": "https://localhost:8080/"
        },
        "id": "MOoQzVvUBUyP",
        "outputId": "fd5afd55-28d4-4a74-a086-fda7a9a4967b"
      },
      "outputs": [
        {
          "name": "stdout",
          "output_type": "stream",
          "text": [
            "zsh:1: no matches found: qiskit[visualization]\n"
          ]
        }
      ],
      "source": [
        "!pip install qiskit[visualization]"
      ]
    },
    {
      "cell_type": "markdown",
      "metadata": {
        "id": "AEU66pXFDHBk"
      },
      "source": [
        "To install Qiskit Machine Learning Package:"
      ]
    },
    {
      "cell_type": "code",
      "execution_count": 3,
      "metadata": {
        "colab": {
          "base_uri": "https://localhost:8080/"
        },
        "id": "M4dk2-lDDE0u",
        "outputId": "dffaeb69-a95e-42e7-82cd-cbba6bbf3fa2"
      },
      "outputs": [
        {
          "name": "stdout",
          "output_type": "stream",
          "text": [
            "zsh:1: no matches found: qiskit[machine-learning]\n"
          ]
        }
      ],
      "source": [
        "!pip install qiskit[machine-learning]"
      ]
    },
    {
      "cell_type": "markdown",
      "metadata": {
        "id": "X12zR6QLDUAE"
      },
      "source": [
        "To install Qiskit Nature:"
      ]
    },
    {
      "cell_type": "code",
      "execution_count": 4,
      "metadata": {
        "colab": {
          "base_uri": "https://localhost:8080/"
        },
        "id": "aSqpwMUhDLss",
        "outputId": "1b354c77-9955-447d-fe0a-7f2764615dcc"
      },
      "outputs": [
        {
          "name": "stdout",
          "output_type": "stream",
          "text": [
            "zsh:1: no matches found: qiskit[nature]\n"
          ]
        }
      ],
      "source": [
        "!pip install qiskit[nature]"
      ]
    },
    {
      "cell_type": "markdown",
      "metadata": {
        "id": "jlJEl5gpDYuT"
      },
      "source": [
        "and so on for other packages as well."
      ]
    },
    {
      "cell_type": "markdown",
      "metadata": {
        "id": "jhSz7_Y8DcDk"
      },
      "source": [
        "We will learn how to install other packages as well, when we will reach there, and have to make use of them. Currenlty we are starting with the very basics of Quantum Computing in Qiskit and hence do not require such advance packages."
      ]
    },
    {
      "cell_type": "markdown",
      "metadata": {
        "id": "B1jCobaMEDqc"
      },
      "source": [
        "### Which version is installed?\n",
        "\n",
        "Suppose you want to know which version of the qiskit package in installed, and which packages are not installed yet.\n",
        "\n",
        "You can simply run the below code to see. The packages that are installed, will show a version number right next to it, and the packages that aren't installed, will show `none` in front of them."
      ]
    },
    {
      "cell_type": "code",
      "execution_count": 17,
      "metadata": {},
      "outputs": [
        {
          "name": "stdout",
          "output_type": "stream",
          "text": [
            "Collecting matplotlib\n",
            "  Using cached matplotlib-3.9.0-cp312-cp312-macosx_11_0_arm64.whl.metadata (11 kB)\n",
            "Collecting contourpy>=1.0.1 (from matplotlib)\n",
            "  Using cached contourpy-1.2.1-cp312-cp312-macosx_11_0_arm64.whl.metadata (5.8 kB)\n",
            "Collecting cycler>=0.10 (from matplotlib)\n",
            "  Using cached cycler-0.12.1-py3-none-any.whl.metadata (3.8 kB)\n",
            "Collecting fonttools>=4.22.0 (from matplotlib)\n",
            "  Using cached fonttools-4.53.0-cp312-cp312-macosx_11_0_arm64.whl.metadata (162 kB)\n",
            "Collecting kiwisolver>=1.3.1 (from matplotlib)\n",
            "  Using cached kiwisolver-1.4.5-cp312-cp312-macosx_11_0_arm64.whl.metadata (6.4 kB)\n",
            "Requirement already satisfied: numpy>=1.23 in ./.venv/lib/python3.12/site-packages (from matplotlib) (1.26.4)\n",
            "Requirement already satisfied: packaging>=20.0 in ./.venv/lib/python3.12/site-packages (from matplotlib) (24.1)\n",
            "Collecting pillow>=8 (from matplotlib)\n",
            "  Using cached pillow-10.3.0-cp312-cp312-macosx_11_0_arm64.whl.metadata (9.2 kB)\n",
            "Collecting pyparsing>=2.3.1 (from matplotlib)\n",
            "  Using cached pyparsing-3.1.2-py3-none-any.whl.metadata (5.1 kB)\n",
            "Requirement already satisfied: python-dateutil>=2.7 in ./.venv/lib/python3.12/site-packages (from matplotlib) (2.9.0.post0)\n",
            "Requirement already satisfied: six>=1.5 in ./.venv/lib/python3.12/site-packages (from python-dateutil>=2.7->matplotlib) (1.16.0)\n",
            "Using cached matplotlib-3.9.0-cp312-cp312-macosx_11_0_arm64.whl (7.8 MB)\n",
            "Using cached contourpy-1.2.1-cp312-cp312-macosx_11_0_arm64.whl (245 kB)\n",
            "Using cached cycler-0.12.1-py3-none-any.whl (8.3 kB)\n",
            "Using cached fonttools-4.53.0-cp312-cp312-macosx_11_0_arm64.whl (2.2 MB)\n",
            "Using cached kiwisolver-1.4.5-cp312-cp312-macosx_11_0_arm64.whl (64 kB)\n",
            "Using cached pillow-10.3.0-cp312-cp312-macosx_11_0_arm64.whl (3.4 MB)\n",
            "Using cached pyparsing-3.1.2-py3-none-any.whl (103 kB)\n",
            "Installing collected packages: pyparsing, pillow, kiwisolver, fonttools, cycler, contourpy, matplotlib\n",
            "Successfully installed contourpy-1.2.1 cycler-0.12.1 fonttools-4.53.0 kiwisolver-1.4.5 matplotlib-3.9.0 pillow-10.3.0 pyparsing-3.1.2\n",
            "Note: you may need to restart the kernel to use updated packages.\n"
          ]
        }
      ],
      "source": [
        "%pip install matplotlib"
      ]
    },
    {
      "cell_type": "code",
      "execution_count": 10,
      "metadata": {
        "colab": {
          "base_uri": "https://localhost:8080/"
        },
        "id": "0jWs9Kx3DWXc",
        "outputId": "6dcab1b3-668e-4503-a05d-b34181cbb12e"
      },
      "outputs": [
        {
          "data": {
            "text/plain": [
              "'1.1.0'"
            ]
          },
          "execution_count": 10,
          "metadata": {},
          "output_type": "execute_result"
        }
      ],
      "source": [
        "import qiskit\n",
        "\n",
        "qiskit.version.get_version_info()"
      ]
    },
    {
      "cell_type": "markdown",
      "metadata": {
        "id": "hBe1JdHMEai0"
      },
      "source": [
        "As you can see, we haven't installed `qiskit-finance`, `qiskit-optimization` and `qiskit-ignis` package yet. Hence it shows `none` in front of them.\n",
        "\n",
        "Although it's fairly easy to install them, you just have to use the command, we used before.\n",
        "\n",
        "```python\n",
        "!pip install qiskit[nature]\n",
        "```\n",
        "\n",
        "and replace `nature` with either `finance`, `optimization` or `ignis` and it will install those packages as well."
      ]
    },
    {
      "cell_type": "markdown",
      "metadata": {
        "id": "iAgDkyVIGGcV"
      },
      "source": [
        "### Important point\n",
        "\n",
        "To visualize pretty circuits like these\n",
        "![intro_tutorial1-1.png](data:image/png;base64,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)\n",
        "\n",
        "\n",
        "make sure to install `pylatex` library."
      ]
    },
    {
      "cell_type": "code",
      "execution_count": 16,
      "metadata": {
        "colab": {
          "base_uri": "https://localhost:8080/"
        },
        "id": "KOiK9j1nFII_",
        "outputId": "35717fcd-f911-4018-9fdf-7d8e5dc1b45e"
      },
      "outputs": [
        {
          "name": "stdout",
          "output_type": "stream",
          "text": [
            "Collecting pylatexenc\n",
            "  Using cached pylatexenc-2.10-py3-none-any.whl\n",
            "Installing collected packages: pylatexenc\n",
            "Successfully installed pylatexenc-2.10\n"
          ]
        }
      ],
      "source": [
        "!pip install pylatexenc"
      ]
    },
    {
      "cell_type": "markdown",
      "metadata": {
        "id": "1fWyJB90GXQE"
      },
      "source": [
        "This is the library that gets called , when you set the output to mpl while plotting the circuits. (We will see that later)."
      ]
    },
    {
      "cell_type": "markdown",
      "metadata": {
        "id": "t6Y4kcxWGxGl"
      },
      "source": [
        "### Deprecation Policy\n",
        "\n",
        "Many packages depend on different parts of Qiskit, but since they are building new features, optimizing the code, adding more functionalities , they sometimes have to remove one function to add another (better) one.\n",
        "\n",
        "Just like qiskit used to have an `aqua` library, that had all the algorithms , so you had to call `qiskit.aqua` to call the algorithms, but that has been optimized and made better to `qiskit.algorithms` and also `qiskit.circuits`.\n",
        "\n",
        "When removing a feature (for example a class, function or function parameter), they follow this procedure:\n",
        "\n",
        "The alternative path must be in place for one minor version before any warnings are issued. For example, if they want to replace the function `foo()` with `bar()`, they make at least one release with both functions before issuing any warnings within `foo()`. You may issue `PendingDeprecationWarnings` from the old paths immediately.\n",
        "\n",
        "Reason: we need to give people time to swap over without breaking their code as soon as they upgrade.\n",
        "\n",
        "\n",
        "So it may happen thay when you run certain code, you get the following warning:\n"
      ]
    },
    {
      "cell_type": "markdown",
      "metadata": {
        "id": "xUID3DAzHqeU"
      },
      "source": [
        "```python\n",
        "Deprecated since version 0.20.0: The function qiskit.deprecated_function() is deprecated since Qiskit Terra 0.20.0, and will be removed 3 months or more later. Instead, you should use qiskit.other_function().\n",
        "```"
      ]
    },
    {
      "cell_type": "markdown",
      "metadata": {
        "id": "Z3S-ESfEHygF"
      },
      "source": [
        "Do not panic!, follow the instructions and you'll see plenty tutorials or blogs by the Qiskit team itself on how to use the new function instead of the old ones."
      ]
    },
    {
      "cell_type": "markdown",
      "metadata": {
        "id": "lZ0g3miJI0w3"
      },
      "source": [
        "## End\n",
        "\n",
        "Now you know how to install `Qiskit` packages and all the dependancies required with it. In the next lecture we will start by building basic quantum circuits and running them on a simulator."
      ]
    }
  ],
  "metadata": {
    "colab": {
      "authorship_tag": "ABX9TyO1IFEEPrYB0iI9Z6H/Jb/Y",
      "include_colab_link": true,
      "provenance": []
    },
    "kernelspec": {
      "display_name": "Python 3",
      "name": "python3"
    },
    "language_info": {
      "codemirror_mode": {
        "name": "ipython",
        "version": 3
      },
      "file_extension": ".py",
      "mimetype": "text/x-python",
      "name": "python",
      "nbconvert_exporter": "python",
      "pygments_lexer": "ipython3",
      "version": "3.12.2"
    }
  },
  "nbformat": 4,
  "nbformat_minor": 0
}
