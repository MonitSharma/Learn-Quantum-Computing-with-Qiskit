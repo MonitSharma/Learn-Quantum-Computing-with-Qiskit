{
  "nbformat": 4,
  "nbformat_minor": 0,
  "metadata": {
    "colab": {
      "provenance": []
    },
    "kernelspec": {
      "name": "python3",
      "display_name": "Python 3"
    },
    "language_info": {
      "name": "python"
    }
  },
  "cells": [
    {
      "cell_type": "markdown",
      "source": [
        "# Chapter 10"
      ],
      "metadata": {
        "id": "QmZpnC-xVf92"
      }
    },
    {
      "cell_type": "markdown",
      "source": [
        "## Grover Aqua\n"
      ],
      "metadata": {
        "id": "EhDwqtR-Vo1e"
      }
    },
    {
      "cell_type": "code",
      "source": [
        "from qiskit import Aer, IBMQ\n",
        "\n",
        "# Do the necessary import for our program\n",
        "\n",
        "from qiskit.utils import QuantumInstance\n",
        "from qiskit.algorithms import Grover, AmplificationProblem\n",
        "from qiskit.circuit.library import PhaseOracle\n",
        "\n",
        "# Import basic plot tools\n",
        "from qiskit.tools.visualization import plot_histogram\n",
        "\n",
        "from IPython.core.display import display\n",
        "\n",
        "global oracle_method, oracle_type\n",
        "\n",
        "\n",
        "def log_length(oracle_input):\n",
        "    from math import sqrt, pow, pi\n",
        "    filtered = [c.lower() for c in oracle_input if c.isalpha()]\n",
        "    result = len(filtered)\n",
        "    num_iterations=int(pi/4*(sqrt(pow(2,result))))\n",
        "    return num_iterations\n",
        "\n",
        "def create_oracle(oracle_method):\n",
        "    oracle_text={\"log\":\"~A & ~B & C\"}\n",
        "    # set the input\n",
        "    global num_iterations    \n",
        "    print(\"Enter the oracle input string, such as:\"+oracle_text[oracle_method]+\"\\nor enter 'def' for a default string.\")\n",
        "    oracle_input=input('\\nOracle input:\\n ')\n",
        "    if oracle_input==\"def\":\n",
        "        oracle_type=oracle_text[oracle_method]\n",
        "    else:\n",
        "        oracle_type = oracle_input\n",
        "    num_iterations=log_length(oracle_type)\n",
        "    print(\"Iterations: \", num_iterations)\n",
        "    return(oracle_type)\n",
        "\n",
        "def run_grover(oracle_type, oracle_method, backend):\n",
        "    # Create and run the oracle on the selected backen\n",
        "    oracle = PhaseOracle(oracle_type)\n",
        "    problem = AmplificationProblem(oracle, is_good_state=oracle.evaluate_bitstring)\n",
        "    algorithm = Grover(iterations=num_iterations, quantum_instance=QuantumInstance(backend, shots=1024))\n",
        "    # Display the results\n",
        "    result = algorithm.amplify(problem)\n",
        "    display(plot_histogram(result.circuit_results[0]))\n",
        "    print(\"Backend:\",backend.name()+\"\\nResult:\",result.top_measurement)\n",
        "    \n",
        "\n",
        "# Main loop\n",
        "def main():\n",
        "    # set the oracle method: \"Log\" for logical expression  \n",
        "    oracle_method=\"log\"\n",
        "    while oracle_method!=0:\n",
        "        print(\"Ch 11: Grover search with Aqua\")\n",
        "        print(\"------------------------------\")    \n",
        "        # Set the oracle type\n",
        "        oracle_type=create_oracle(oracle_method)\n",
        "\n",
        "        print(\"Oracle method:\",oracle_method)\n",
        "        print(\"Oracle for:\", oracle_type)\n",
        "        # Run on a simulator\n",
        "        backend = Aer.get_backend('qasm_simulator')\n",
        "        run_grover(oracle_type, oracle_method, backend)\n",
        "        # Run the algorithm on an IBM Quantum backend\n",
        "        print(\"Getting provider...\")\n",
        "        if not IBMQ.active_account():\n",
        "            IBMQ.load_account()\n",
        "        provider = IBMQ.get_provider()\n",
        "        from qiskit.providers.ibmq import least_busy\n",
        "        backend = least_busy(provider.backends(n_qubits=5, operational=True, simulator=False))\n",
        "        run_grover(oracle_type, oracle_method, backend)\n",
        "    \n",
        "if __name__ == '__main__':\n",
        "    main()"
      ],
      "metadata": {
        "colab": {
          "base_uri": "https://localhost:8080/",
          "height": 894
        },
        "id": "bq3UbmJSVdJk",
        "outputId": "fb83625d-5bf6-46ef-da2e-8806599db657"
      },
      "execution_count": 12,
      "outputs": [
        {
          "metadata": {
            "tags": null
          },
          "name": "stdout",
          "output_type": "stream",
          "text": [
            "Ch 11: Grover search with Aqua\n",
            "------------------------------\n",
            "Enter the oracle input string, such as:~A & ~B & C\n",
            "or enter 'def' for a default string.\n",
            "Iterations:  2\n",
            "Oracle method: log\n",
            "Oracle for: ~A & ~B & C\n"
          ]
        },
        {
          "data": {
            "image/png": "[encoded data removed]",
            "text/plain": [
              "<Figure size 504x360 with 1 Axes>"
            ]
          },
          "metadata": {},
          "output_type": "display_data"
        },
        {
          "metadata": {
            "tags": null
          },
          "name": "stdout",
          "output_type": "stream",
          "text": [
            "Backend: qasm_simulator\n",
            "Result: 100\n",
            "Getting provider...\n"
          ]
        },
        {
          "output_type": "error",
          "ename": "KeyboardInterrupt",
          "evalue": "ignored",
          "traceback": [
            "\u001b[0;31m---------------------------------------------------------------------------\u001b[0m",
            "\u001b[0;31mKeyboardInterrupt\u001b[0m                         Traceback (most recent call last)",
            "\u001b[0;32m<ipython-input-12-96855cee61aa>\u001b[0m in \u001b[0;36m<module>\u001b[0;34m\u001b[0m\n\u001b[1;32m     72\u001b[0m \u001b[0;34m\u001b[0m\u001b[0m\n\u001b[1;32m     73\u001b[0m \u001b[0;32mif\u001b[0m \u001b[0m__name__\u001b[0m \u001b[0;34m==\u001b[0m \u001b[0;34m'__main__'\u001b[0m\u001b[0;34m:\u001b[0m\u001b[0;34m\u001b[0m\u001b[0;34m\u001b[0m\u001b[0m\n\u001b[0;32m---> 74\u001b[0;31m     \u001b[0mmain\u001b[0m\u001b[0;34m(\u001b[0m\u001b[0;34m)\u001b[0m\u001b[0;34m\u001b[0m\u001b[0;34m\u001b[0m\u001b[0m\n\u001b[0m",
            "\u001b[0;32m<ipython-input-12-96855cee61aa>\u001b[0m in \u001b[0;36mmain\u001b[0;34m()\u001b[0m\n\u001b[1;32m     69\u001b[0m         \u001b[0;32mfrom\u001b[0m \u001b[0mqiskit\u001b[0m\u001b[0;34m.\u001b[0m\u001b[0mproviders\u001b[0m\u001b[0;34m.\u001b[0m\u001b[0mibmq\u001b[0m \u001b[0;32mimport\u001b[0m \u001b[0mleast_busy\u001b[0m\u001b[0;34m\u001b[0m\u001b[0;34m\u001b[0m\u001b[0m\n\u001b[1;32m     70\u001b[0m         \u001b[0mbackend\u001b[0m \u001b[0;34m=\u001b[0m \u001b[0mleast_busy\u001b[0m\u001b[0;34m(\u001b[0m\u001b[0mprovider\u001b[0m\u001b[0;34m.\u001b[0m\u001b[0mbackends\u001b[0m\u001b[0;34m(\u001b[0m\u001b[0mn_qubits\u001b[0m\u001b[0;34m=\u001b[0m\u001b[0;36m5\u001b[0m\u001b[0;34m,\u001b[0m \u001b[0moperational\u001b[0m\u001b[0;34m=\u001b[0m\u001b[0;32mTrue\u001b[0m\u001b[0;34m,\u001b[0m \u001b[0msimulator\u001b[0m\u001b[0;34m=\u001b[0m\u001b[0;32mFalse\u001b[0m\u001b[0;34m)\u001b[0m\u001b[0;34m)\u001b[0m\u001b[0;34m\u001b[0m\u001b[0;34m\u001b[0m\u001b[0m\n\u001b[0;32m---> 71\u001b[0;31m         \u001b[0mrun_grover\u001b[0m\u001b[0;34m(\u001b[0m\u001b[0moracle_type\u001b[0m\u001b[0;34m,\u001b[0m \u001b[0moracle_method\u001b[0m\u001b[0;34m,\u001b[0m \u001b[0mbackend\u001b[0m\u001b[0;34m)\u001b[0m\u001b[0;34m\u001b[0m\u001b[0;34m\u001b[0m\u001b[0m\n\u001b[0m\u001b[1;32m     72\u001b[0m \u001b[0;34m\u001b[0m\u001b[0m\n\u001b[1;32m     73\u001b[0m \u001b[0;32mif\u001b[0m \u001b[0m__name__\u001b[0m \u001b[0;34m==\u001b[0m \u001b[0;34m'__main__'\u001b[0m\u001b[0;34m:\u001b[0m\u001b[0;34m\u001b[0m\u001b[0;34m\u001b[0m\u001b[0m\n",
            "\u001b[0;32m<ipython-input-12-96855cee61aa>\u001b[0m in \u001b[0;36mrun_grover\u001b[0;34m(oracle_type, oracle_method, backend)\u001b[0m\n\u001b[1;32m     42\u001b[0m     \u001b[0malgorithm\u001b[0m \u001b[0;34m=\u001b[0m \u001b[0mGrover\u001b[0m\u001b[0;34m(\u001b[0m\u001b[0miterations\u001b[0m\u001b[0;34m=\u001b[0m\u001b[0mnum_iterations\u001b[0m\u001b[0;34m,\u001b[0m \u001b[0mquantum_instance\u001b[0m\u001b[0;34m=\u001b[0m\u001b[0mQuantumInstance\u001b[0m\u001b[0;34m(\u001b[0m\u001b[0mbackend\u001b[0m\u001b[0;34m,\u001b[0m \u001b[0mshots\u001b[0m\u001b[0;34m=\u001b[0m\u001b[0;36m1024\u001b[0m\u001b[0;34m)\u001b[0m\u001b[0;34m)\u001b[0m\u001b[0;34m\u001b[0m\u001b[0;34m\u001b[0m\u001b[0m\n\u001b[1;32m     43\u001b[0m     \u001b[0;31m# Display the results\u001b[0m\u001b[0;34m\u001b[0m\u001b[0;34m\u001b[0m\u001b[0;34m\u001b[0m\u001b[0m\n\u001b[0;32m---> 44\u001b[0;31m     \u001b[0mresult\u001b[0m \u001b[0;34m=\u001b[0m \u001b[0malgorithm\u001b[0m\u001b[0;34m.\u001b[0m\u001b[0mamplify\u001b[0m\u001b[0;34m(\u001b[0m\u001b[0mproblem\u001b[0m\u001b[0;34m)\u001b[0m\u001b[0;34m\u001b[0m\u001b[0;34m\u001b[0m\u001b[0m\n\u001b[0m\u001b[1;32m     45\u001b[0m     \u001b[0mdisplay\u001b[0m\u001b[0;34m(\u001b[0m\u001b[0mplot_histogram\u001b[0m\u001b[0;34m(\u001b[0m\u001b[0mresult\u001b[0m\u001b[0;34m.\u001b[0m\u001b[0mcircuit_results\u001b[0m\u001b[0;34m[\u001b[0m\u001b[0;36m0\u001b[0m\u001b[0;34m]\u001b[0m\u001b[0;34m)\u001b[0m\u001b[0;34m)\u001b[0m\u001b[0;34m\u001b[0m\u001b[0;34m\u001b[0m\u001b[0m\n\u001b[1;32m     46\u001b[0m     \u001b[0mprint\u001b[0m\u001b[0;34m(\u001b[0m\u001b[0;34m\"Backend:\"\u001b[0m\u001b[0;34m,\u001b[0m\u001b[0mbackend\u001b[0m\u001b[0;34m.\u001b[0m\u001b[0mname\u001b[0m\u001b[0;34m(\u001b[0m\u001b[0;34m)\u001b[0m\u001b[0;34m+\u001b[0m\u001b[0;34m\"\\nResult:\"\u001b[0m\u001b[0;34m,\u001b[0m\u001b[0mresult\u001b[0m\u001b[0;34m.\u001b[0m\u001b[0mtop_measurement\u001b[0m\u001b[0;34m)\u001b[0m\u001b[0;34m\u001b[0m\u001b[0;34m\u001b[0m\u001b[0m\n",
            "\u001b[0;32m/usr/local/lib/python3.7/dist-packages/qiskit/algorithms/amplitude_amplifiers/grover.py\u001b[0m in \u001b[0;36mamplify\u001b[0;34m(self, amplification_problem)\u001b[0m\n\u001b[1;32m    251\u001b[0m             \u001b[0;32melse\u001b[0m\u001b[0;34m:\u001b[0m\u001b[0;34m\u001b[0m\u001b[0;34m\u001b[0m\u001b[0m\n\u001b[1;32m    252\u001b[0m                 \u001b[0mqc\u001b[0m \u001b[0;34m=\u001b[0m \u001b[0mself\u001b[0m\u001b[0;34m.\u001b[0m\u001b[0mconstruct_circuit\u001b[0m\u001b[0;34m(\u001b[0m\u001b[0mamplification_problem\u001b[0m\u001b[0;34m,\u001b[0m \u001b[0mpower\u001b[0m\u001b[0;34m,\u001b[0m \u001b[0mmeasurement\u001b[0m\u001b[0;34m=\u001b[0m\u001b[0;32mTrue\u001b[0m\u001b[0;34m)\u001b[0m\u001b[0;34m\u001b[0m\u001b[0;34m\u001b[0m\u001b[0m\n\u001b[0;32m--> 253\u001b[0;31m                 \u001b[0mcircuit_results\u001b[0m \u001b[0;34m=\u001b[0m \u001b[0mself\u001b[0m\u001b[0;34m.\u001b[0m\u001b[0m_quantum_instance\u001b[0m\u001b[0;34m.\u001b[0m\u001b[0mexecute\u001b[0m\u001b[0;34m(\u001b[0m\u001b[0mqc\u001b[0m\u001b[0;34m)\u001b[0m\u001b[0;34m.\u001b[0m\u001b[0mget_counts\u001b[0m\u001b[0;34m(\u001b[0m\u001b[0mqc\u001b[0m\u001b[0;34m)\u001b[0m\u001b[0;34m\u001b[0m\u001b[0;34m\u001b[0m\u001b[0m\n\u001b[0m\u001b[1;32m    254\u001b[0m                 \u001b[0mtop_measurement\u001b[0m \u001b[0;34m=\u001b[0m \u001b[0mmax\u001b[0m\u001b[0;34m(\u001b[0m\u001b[0mcircuit_results\u001b[0m\u001b[0;34m.\u001b[0m\u001b[0mitems\u001b[0m\u001b[0;34m(\u001b[0m\u001b[0;34m)\u001b[0m\u001b[0;34m,\u001b[0m \u001b[0mkey\u001b[0m\u001b[0;34m=\u001b[0m\u001b[0moperator\u001b[0m\u001b[0;34m.\u001b[0m\u001b[0mitemgetter\u001b[0m\u001b[0;34m(\u001b[0m\u001b[0;36m1\u001b[0m\u001b[0;34m)\u001b[0m\u001b[0;34m)\u001b[0m\u001b[0;34m[\u001b[0m\u001b[0;36m0\u001b[0m\u001b[0;34m]\u001b[0m\u001b[0;34m\u001b[0m\u001b[0;34m\u001b[0m\u001b[0m\n\u001b[1;32m    255\u001b[0m                 \u001b[0mshots\u001b[0m \u001b[0;34m=\u001b[0m \u001b[0msum\u001b[0m\u001b[0;34m(\u001b[0m\u001b[0mcircuit_results\u001b[0m\u001b[0;34m.\u001b[0m\u001b[0mvalues\u001b[0m\u001b[0;34m(\u001b[0m\u001b[0;34m)\u001b[0m\u001b[0;34m)\u001b[0m\u001b[0;34m\u001b[0m\u001b[0;34m\u001b[0m\u001b[0m\n",
            "\u001b[0;32m/usr/local/lib/python3.7/dist-packages/qiskit/utils/quantum_instance.py\u001b[0m in \u001b[0;36mexecute\u001b[0;34m(self, circuits, had_transpiled)\u001b[0m\n\u001b[1;32m    714\u001b[0m                 \u001b[0mrun_config\u001b[0m\u001b[0;34m=\u001b[0m\u001b[0mself\u001b[0m\u001b[0;34m.\u001b[0m\u001b[0m_run_config\u001b[0m\u001b[0;34m.\u001b[0m\u001b[0mto_dict\u001b[0m\u001b[0;34m(\u001b[0m\u001b[0;34m)\u001b[0m\u001b[0;34m,\u001b[0m\u001b[0;34m\u001b[0m\u001b[0;34m\u001b[0m\u001b[0m\n\u001b[1;32m    715\u001b[0m                 \u001b[0mjob_callback\u001b[0m\u001b[0;34m=\u001b[0m\u001b[0mself\u001b[0m\u001b[0;34m.\u001b[0m\u001b[0m_job_callback\u001b[0m\u001b[0;34m,\u001b[0m\u001b[0;34m\u001b[0m\u001b[0;34m\u001b[0m\u001b[0m\n\u001b[0;32m--> 716\u001b[0;31m                 \u001b[0mmax_job_retries\u001b[0m\u001b[0;34m=\u001b[0m\u001b[0mself\u001b[0m\u001b[0;34m.\u001b[0m\u001b[0m_max_job_retries\u001b[0m\u001b[0;34m,\u001b[0m\u001b[0;34m\u001b[0m\u001b[0;34m\u001b[0m\u001b[0m\n\u001b[0m\u001b[1;32m    717\u001b[0m             )\n\u001b[1;32m    718\u001b[0m             \u001b[0mself\u001b[0m\u001b[0;34m.\u001b[0m\u001b[0m_time_taken\u001b[0m \u001b[0;34m+=\u001b[0m \u001b[0mresult\u001b[0m\u001b[0;34m.\u001b[0m\u001b[0mtime_taken\u001b[0m\u001b[0;34m\u001b[0m\u001b[0;34m\u001b[0m\u001b[0m\n",
            "\u001b[0;32m/usr/local/lib/python3.7/dist-packages/qiskit/utils/run_circuits.py\u001b[0m in \u001b[0;36mrun_circuits\u001b[0;34m(circuits, backend, qjob_config, backend_options, noise_config, run_config, job_callback, max_job_retries)\u001b[0m\n\u001b[1;32m    224\u001b[0m                     \u001b[0;32mif\u001b[0m \u001b[0mjob_callback\u001b[0m \u001b[0;32mis\u001b[0m \u001b[0;32mnot\u001b[0m \u001b[0;32mNone\u001b[0m\u001b[0;34m:\u001b[0m\u001b[0;34m\u001b[0m\u001b[0;34m\u001b[0m\u001b[0m\n\u001b[1;32m    225\u001b[0m                         \u001b[0mjob_callback\u001b[0m\u001b[0;34m(\u001b[0m\u001b[0mjob_id\u001b[0m\u001b[0;34m,\u001b[0m \u001b[0mjob_status\u001b[0m\u001b[0;34m,\u001b[0m \u001b[0mqueue_position\u001b[0m\u001b[0;34m,\u001b[0m \u001b[0mjob\u001b[0m\u001b[0;34m)\u001b[0m\u001b[0;34m\u001b[0m\u001b[0;34m\u001b[0m\u001b[0m\n\u001b[0;32m--> 226\u001b[0;31m                     \u001b[0mtime\u001b[0m\u001b[0;34m.\u001b[0m\u001b[0msleep\u001b[0m\u001b[0;34m(\u001b[0m\u001b[0mqjob_config\u001b[0m\u001b[0;34m[\u001b[0m\u001b[0;34m\"wait\"\u001b[0m\u001b[0;34m]\u001b[0m\u001b[0;34m)\u001b[0m\u001b[0;34m\u001b[0m\u001b[0;34m\u001b[0m\u001b[0m\n\u001b[0m\u001b[1;32m    227\u001b[0m \u001b[0;34m\u001b[0m\u001b[0m\n\u001b[1;32m    228\u001b[0m                 \u001b[0;31m# get result after the status is DONE\u001b[0m\u001b[0;34m\u001b[0m\u001b[0;34m\u001b[0m\u001b[0;34m\u001b[0m\u001b[0m\n",
            "\u001b[0;31mKeyboardInterrupt\u001b[0m: "
          ]
        }
      ]
    },
    {
      "cell_type": "markdown",
      "source": [
        "## SHOR Aqua"
      ],
      "metadata": {
        "id": "_FVLesEZV2K6"
      }
    },
    {
      "cell_type": "code",
      "source": [
        "from qiskit import Aer, IBMQ\n",
        "from qiskit.algorithms import Shor\n",
        "from qiskit.utils import QuantumInstance\n",
        "import time\n",
        "global backend, shots\n",
        "\n",
        "def display_shor(N, backend, shots):\n",
        "    print(\"Building Shor circuit...\")\n",
        "    instance = QuantumInstance(backend=backend, shots=shots)\n",
        "    shors = Shor(quantum_instance = instance)\n",
        "    shor_circuit = shors.construct_circuit(N)\n",
        "    print(\"Shor circuit for: \",str(N) )\n",
        "    print(shor_circuit)\n",
        "    print(\"Decomposed Shor circuit for: \",str(N) )\n",
        "    print(shor_circuit.decompose())\n",
        "    print(\"Circuit data\\n\\nDepth: \",shor_circuit.depth(),\"\\nWidth: \",shor_circuit.width(),\"\\nSize: \",shor_circuit.size())\n",
        "\n",
        "def run_shor(N, backend, shots):\n",
        "    print(\"Running Shor's algorithm for\",str(N),\"on\", backend,\"...\")\n",
        "    instance = QuantumInstance(backend=backend, shots=shots)\n",
        "    shors = Shor(quantum_instance = instance)\n",
        "    results=shors.factor(N)\n",
        "\n",
        "    if results.factors==[]:\n",
        "        print(\"No prime factors: \",str(N),\"=\",str(N))\n",
        "    elif isinstance(results.factors[0],int):\n",
        "        print(\"Prime factors: \",str(N),\"=\",results.factors[0],\"^ 2\")\n",
        "    else:\n",
        "        print(\"Prime factors: \",str(N),\"=\",results.factors[0][0],\"*\",results.factors[0][1])\n",
        "def main():\n",
        "    number=1\n",
        "    print(\"\\nCh 11: Shor's algorithm with Aqua\")     \n",
        "    print(\"---------------------------------\")   \n",
        "    while number!=0:\n",
        "        number=int(input(\"\\nEnter an odd number N >1 (0 to exit):\\n\"))\n",
        "        if number<=64: #Arbitrarily set upper limit for local simulator    \n",
        "            print(\"Getting local simulator backend...\")\n",
        "            backend = Aer.get_backend('qasm_simulator')\n",
        "            shots = 1024\n",
        "        else:\n",
        "            print(\"Getting provider...\")\n",
        "            if not IBMQ.active_account():\n",
        "                IBMQ.load_account()\n",
        "            provider = IBMQ.get_provider()\n",
        "            print(\"Getting IBM Q simulator backend...\")\n",
        "            backend = provider.get_backend('ibmq_qasm_simulator')\n",
        "        if number>1 and number % 2>0:\n",
        "            type=input(\"Enter R to run the Shor algorithm, D to display the circuit.\\n\")\n",
        "            start_time=time.time()\n",
        "            if type.upper()==\"D\":\n",
        "                display_shor(number, backend, shots)\n",
        "            elif type.upper()==\"R\":\n",
        "                run_shor(number, backend, shots)\n",
        "            elif type.upper() in [\"RD\",\"DR\"]:\n",
        "                display_shor(number, backend, shots)\n",
        "                run_shor(number, backend, shots)\n",
        "            end_time=time.time()\n",
        "            print(\"Elapsed time: \",\"%.2f\" % (end_time-start_time), \"s\")\n",
        "        else:\n",
        "            print(\"The number must be odd and larger than 1.\")\n",
        "\n",
        "if __name__ == '__main__':\n",
        "    main()"
      ],
      "metadata": {
        "colab": {
          "base_uri": "https://localhost:8080/"
        },
        "id": "OAN_ki6BV9BG",
        "outputId": "2b58c6a5-5dda-40a2-e9c9-294c72e3e088"
      },
      "execution_count": 13,
      "outputs": [
        {
          "output_type": "stream",
          "name": "stdout",
          "text": [
            "\n",
            "Ch 11: Shor's algorithm with Aqua\n",
            "---------------------------------\n",
            "\n",
            "Enter an odd number N >1 (0 to exit):\n",
            "5\n",
            "Getting local simulator backend...\n",
            "Enter R to run the Shor algorithm, D to display the circuit.\n",
            "D\n",
            "Building Shor circuit...\n",
            "Shor circuit for:  5\n",
            "        ┌───┐┌─────────────┐┌───────┐\n",
            "  up_0: ┤ H ├┤0            ├┤0      ├\n",
            "        ├───┤│             ││       │\n",
            "  up_1: ┤ H ├┤1            ├┤1      ├\n",
            "        ├───┤│             ││       │\n",
            "  up_2: ┤ H ├┤2            ├┤2      ├\n",
            "        ├───┤│             ││  IQFT │\n",
            "  up_3: ┤ H ├┤3            ├┤3      ├\n",
            "        ├───┤│             ││       │\n",
            "  up_4: ┤ H ├┤4            ├┤4      ├\n",
            "        ├───┤│             ││       │\n",
            "  up_5: ┤ H ├┤5            ├┤5      ├\n",
            "        ├───┤│             │└───────┘\n",
            "down_0: ┤ X ├┤6            ├─────────\n",
            "        └───┘│   2^x mod 5 │         \n",
            "down_1: ─────┤7            ├─────────\n",
            "             │             │         \n",
            "down_2: ─────┤8            ├─────────\n",
            "             │             │         \n",
            " aux_0: ─────┤9            ├─────────\n",
            "             │             │         \n",
            " aux_1: ─────┤10           ├─────────\n",
            "             │             │         \n",
            " aux_2: ─────┤11           ├─────────\n",
            "             │             │         \n",
            " aux_3: ─────┤12           ├─────────\n",
            "             │             │         \n",
            " aux_4: ─────┤13           ├─────────\n",
            "             └─────────────┘         \n",
            "Decomposed Shor circuit for:  5\n",
            "         ┌─────────┐ ┌────────────────┐                                    »\n",
            "  up_0: ─┤ U2(0,π) ├─┤0               ├────────────────────────────────────»\n",
            "         ├─────────┤ │                │┌────────────────┐                  »\n",
            "  up_1: ─┤ U2(0,π) ├─┤                ├┤0               ├──────────────────»\n",
            "         ├─────────┤ │                ││                │┌────────────────┐»\n",
            "  up_2: ─┤ U2(0,π) ├─┤                ├┤                ├┤0               ├»\n",
            "         ├─────────┤ │                ││                ││                │»\n",
            "  up_3: ─┤ U2(0,π) ├─┤                ├┤                ├┤                ├»\n",
            "         ├─────────┤ │                ││                ││                │»\n",
            "  up_4: ─┤ U2(0,π) ├─┤                ├┤                ├┤                ├»\n",
            "         ├─────────┤ │                ││                ││                │»\n",
            "  up_5: ─┤ U2(0,π) ├─┤                ├┤                ├┤                ├»\n",
            "        ┌┴─────────┴┐│                ││                ││                │»\n",
            "down_0: ┤ U3(π,0,π) ├┤1               ├┤1               ├┤1               ├»\n",
            "        └───────────┘│  cmult_a_mod_N ││                ││                │»\n",
            "down_1: ─────────────┤2               ├┤2 cmult_a_mod_N ├┤2               ├»\n",
            "                     │                ││                ││  cmult_a_mod_N │»\n",
            "down_2: ─────────────┤3               ├┤3               ├┤3               ├»\n",
            "                     │                ││                ││                │»\n",
            " aux_0: ─────────────┤4               ├┤4               ├┤4               ├»\n",
            "                     │                ││                ││                │»\n",
            " aux_1: ─────────────┤5               ├┤5               ├┤5               ├»\n",
            "                     │                ││                ││                │»\n",
            " aux_2: ─────────────┤6               ├┤6               ├┤6               ├»\n",
            "                     │                ││                ││                │»\n",
            " aux_3: ─────────────┤7               ├┤7               ├┤7               ├»\n",
            "                     │                ││                ││                │»\n",
            " aux_4: ─────────────┤8               ├┤8               ├┤8               ├»\n",
            "                     └────────────────┘└────────────────┘└────────────────┘»\n",
            "«                                                              ┌───────┐\n",
            "«  up_0: ──────────────────────────────────────────────────────┤0      ├\n",
            "«                                                              │       │\n",
            "«  up_1: ──────────────────────────────────────────────────────┤1      ├\n",
            "«                                                              │       │\n",
            "«  up_2: ──────────────────────────────────────────────────────┤2      ├\n",
            "«        ┌────────────────┐                                    │  IQFT │\n",
            "«  up_3: ┤0               ├────────────────────────────────────┤3      ├\n",
            "«        │                │┌────────────────┐                  │       │\n",
            "«  up_4: ┤                ├┤0               ├──────────────────┤4      ├\n",
            "«        │                ││                │┌────────────────┐│       │\n",
            "«  up_5: ┤                ├┤                ├┤0               ├┤5      ├\n",
            "«        │                ││                ││                │└───────┘\n",
            "«down_0: ┤1               ├┤1               ├┤1               ├─────────\n",
            "«        │                ││                ││                │         \n",
            "«down_1: ┤2               ├┤2               ├┤2               ├─────────\n",
            "«        │                ││                ││                │         \n",
            "«down_2: ┤3 cmult_a_mod_N ├┤3               ├┤3               ├─────────\n",
            "«        │                ││  cmult_a_mod_N ││                │         \n",
            "« aux_0: ┤4               ├┤4               ├┤4 cmult_a_mod_N ├─────────\n",
            "«        │                ││                ││                │         \n",
            "« aux_1: ┤5               ├┤5               ├┤5               ├─────────\n",
            "«        │                ││                ││                │         \n",
            "« aux_2: ┤6               ├┤6               ├┤6               ├─────────\n",
            "«        │                ││                ││                │         \n",
            "« aux_3: ┤7               ├┤7               ├┤7               ├─────────\n",
            "«        │                ││                ││                │         \n",
            "« aux_4: ┤8               ├┤8               ├┤8               ├─────────\n",
            "«        └────────────────┘└────────────────┘└────────────────┘         \n",
            "Circuit data\n",
            "\n",
            "Depth:  3 \n",
            "Width:  14 \n",
            "Size:  9\n",
            "Elapsed time:  6.44 s\n",
            "\n",
            "Enter an odd number N >1 (0 to exit):\n",
            "0\n",
            "Getting local simulator backend...\n",
            "The number must be odd and larger than 1.\n"
          ]
        }
      ]
    },
    {
      "cell_type": "code",
      "source": [],
      "metadata": {
        "id": "3UU-yDNYZsRj"
      },
      "execution_count": null,
      "outputs": []
    }
  ]
}