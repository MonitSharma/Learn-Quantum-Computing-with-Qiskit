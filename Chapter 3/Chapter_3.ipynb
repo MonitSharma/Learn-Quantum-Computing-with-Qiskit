{
  "nbformat": 4,
  "nbformat_minor": 0,
  "metadata": {
    "colab": {
      "provenance": []
    },
    "kernelspec": {
      "name": "python3",
      "display_name": "Python 3"
    },
    "language_info": {
      "name": "python"
    }
  },
  "cells": [
    {
      "cell_type": "markdown",
      "source": [
        "## Chapter 3"
      ],
      "metadata": {
        "id": "bAR4tJf7mbfi"
      }
    },
    {
      "cell_type": "markdown",
      "source": [
        "### QASM Simulator"
      ],
      "metadata": {
        "id": "87hO2botmd79"
      }
    },
    {
      "cell_type": "markdown",
      "source": [
        "#### QASM FIle\n",
        "\n"
      ],
      "metadata": {
        "id": "XQxnoIKuv6PY"
      }
    },
    {
      "cell_type": "code",
      "source": [
        "## paste the below code in the dialog box\n",
        "\n",
        "OPENQASM 2.0;\n",
        "include \"qelib1.inc\";\n",
        "qreg q[2];\n",
        "creg c[2];\n",
        "ry(0.44273617) q[0];\n",
        "ry(0.91818272) q[1];\n",
        "rz(4.1618866) q[1];\n",
        "rx(2.7181229) q[0];\n",
        "measure q[0] -> c[0];\n",
        "measure q[1] -> c[1];"
      ],
      "metadata": {
        "id": "jOK-MXOhwvjX"
      },
      "execution_count": null,
      "outputs": []
    },
    {
      "cell_type": "code",
      "execution_count": 6,
      "metadata": {
        "colab": {
          "base_uri": "https://localhost:8080/"
        },
        "id": "wH2kldKWmTTn",
        "outputId": "3539f8d0-6c00-4397-bbbc-75e44c703b21"
      },
      "outputs": [
        {
          "output_type": "stream",
          "name": "stdout",
          "text": [
            "Ch 3: Moving between worlds 1\n",
            "-----------------------------\n",
            "Paste in a QASM string from IBM Qx (or enter the full path and file name of a .qasm file to import):\n",
            "OPENQASM 2.0; include \"qelib1.inc\"; qreg q[2]; creg c[2]; ry(0.44273617) q[0]; ry(0.91818272) q[1]; rz(4.1618866) q[1]; rx(2.7181229) q[0]; measure q[0] -> c[0]; measure q[1] -> c[1];\n",
            "Imported quantum circuit\n",
            "------------------------\n",
            "     ┌─────────────┐┌────────────┐┌─┐   \n",
            "q_0: ┤ Ry(0.44274) ├┤ Rx(2.7181) ├┤M├───\n",
            "     ├─────────────┤├────────────┤└╥┘┌─┐\n",
            "q_1: ┤ Ry(0.91818) ├┤ Rz(4.1619) ├─╫─┤M├\n",
            "     └─────────────┘└────────────┘ ║ └╥┘\n",
            "c: 2/══════════════════════════════╩══╩═\n",
            "                                   0  1 \n"
          ]
        }
      ],
      "source": [
        "\n",
        "# For this simple recipe we will only need the QuantumCircuit method\n",
        "from qiskit import QuantumCircuit\n",
        "\n",
        "print(\"Ch 3: Moving between worlds 1\")\n",
        "print(\"-----------------------------\")\n",
        "\n",
        "# First we import the QASM string from IBM Qx\n",
        "qasm_string=input(\"Paste in a QASM string from IBM Qx (or enter the full path and file name of a .qasm file to import):\\n\")\n",
        "\n",
        "if qasm_string[-5:] == \".qasm\":\n",
        "    # Create a quantum circuit from the file\n",
        "    circ=QuantumCircuit.from_qasm_file(qasm_string)\n",
        "else:\n",
        "    # Create a quantum circuit from the string\n",
        "    circ=QuantumCircuit.from_qasm_str(qasm_string)\n",
        "\n",
        "# Print the circuitCoin.qasm\n",
        "print(\"Imported quantum circuit\")    \n",
        "print(\"------------------------\")    \n",
        "print(circ)"
      ]
    },
    {
      "cell_type": "markdown",
      "source": [
        "### Export QASM"
      ],
      "metadata": {
        "id": "UesurFHjuyzH"
      }
    },
    {
      "cell_type": "code",
      "source": [
        "# For this simple recipe we will only need the random_circuit method\n",
        "from qiskit.circuit.random.utils import random_circuit\n",
        "\n",
        "print(\"Ch 3: Moving between worlds 2\")\n",
        "print(\"-----------------------------\")\n",
        "\n",
        "# First we create and print a random quantum circuit\n",
        "print(\"Random quantum circuit\")\n",
        "print(\"----------------------\\n\")\n",
        "circ=random_circuit(2,2,measure=True)\n",
        "print(circ)\n",
        "\n",
        "\n",
        "# Next, we export the circuit as QASM code. If you include a filename you can also save the QASM code as a text file on your local machine\n",
        "print(\"\\nOpenQASM code\")\n",
        "print(\"-------------\\n\")\n",
        "\n",
        "circ.qasm(formatted=True, filename=\"Circuit.qasm\")"
      ],
      "metadata": {
        "colab": {
          "base_uri": "https://localhost:8080/"
        },
        "id": "82_yhobBm0_i",
        "outputId": "46d6d5f4-cb0d-41dc-eccd-28abf8b85c49"
      },
      "execution_count": 8,
      "outputs": [
        {
          "output_type": "stream",
          "name": "stdout",
          "text": [
            "Ch 3: Moving between worlds 2\n",
            "-----------------------------\n",
            "Random quantum circuit\n",
            "----------------------\n",
            "\n",
            "     ┌───┐┌─────┐┌─┐   \n",
            "q_0: ┤ H ├┤ Sdg ├┤M├───\n",
            "     └─┬─┘└┬───┬┘└╥┘┌─┐\n",
            "q_1: ──■───┤ I ├──╫─┤M├\n",
            "           └───┘  ║ └╥┘\n",
            "c: 2/═════════════╩══╩═\n",
            "                  0  1 \n",
            "\n",
            "OpenQASM code\n",
            "-------------\n",
            "\n",
            "\u001b[92mOPENQASM\u001b[39m \u001b[96m2\u001b[39m.\u001b[96m0\u001b[39m;\n",
            "\u001b[92minclude\u001b[39m\u001b[91m \"qelib1.inc\"\u001b[39m;\n",
            "\u001b[92mqreg\u001b[39m q[\u001b[96m2\u001b[39m];\n",
            "\u001b[92mcreg\u001b[39m c[\u001b[96m2\u001b[39m];\n",
            "\u001b[95mch\u001b[39m q[\u001b[96m1\u001b[39m],q[\u001b[96m0\u001b[39m];\n",
            "\u001b[95msdg\u001b[39m q[\u001b[96m0\u001b[39m];\n",
            "\u001b[95mid\u001b[39m q[\u001b[96m1\u001b[39m];\n",
            "\u001b[94mmeasure\u001b[39m q[\u001b[96m0\u001b[39m] -> c[\u001b[96m0\u001b[39m];\n",
            "\u001b[94mmeasure\u001b[39m q[\u001b[96m1\u001b[39m] -> c[\u001b[96m1\u001b[39m];\n",
            "\n"
          ]
        }
      ]
    },
    {
      "cell_type": "code",
      "source": [
        "\n"
      ],
      "metadata": {
        "id": "Jq96Bd6pvSZK"
      },
      "execution_count": null,
      "outputs": []
    }
  ]
}