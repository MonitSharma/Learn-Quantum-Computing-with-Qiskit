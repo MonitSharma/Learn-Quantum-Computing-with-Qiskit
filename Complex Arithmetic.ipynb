{
  "cells": [
    {
      "cell_type": "markdown",
      "metadata": {
        "colab_type": "text",
        "id": "view-in-github"
      },
      "source": [
        "<a href=\"https://colab.research.google.com/github/MonitSharma/Quantum-Computing-with-Qiskit-and-IBMQ/blob/main/ComplexArithmetic.ipynb\" target=\"_parent\"><img src=\"https://colab.research.google.com/assets/colab-badge.svg\" alt=\"Open In Colab\"/></a>"
      ]
    },
    {
      "cell_type": "markdown",
      "metadata": {
        "id": "9-DtnhPg96di"
      },
      "source": [
        "# Complex Arithmetic\n",
        "\n",
        "This is a tutorial designed to introduce you to complex arithmetic.\n",
        "This topic isn't particularly expansive, but it's important to understand it to be able to work with quantum computing.\n",
        "\n",
        "This tutorial covers the following topics:\n",
        "\n",
        "* Imaginary and complex numbers\n",
        "* Basic complex arithmetic\n",
        "* Complex plane\n",
        "* Modulus operator\n",
        "* Imaginary exponents\n",
        "* Polar representation\n",
        "\n",
        "If you are curious to learn more, you can find more information at [Wikipedia](https://en.wikipedia.org/wiki/Complex_number)."
      ]
    },
    {
      "cell_type": "markdown",
      "metadata": {
        "id": "qly_DTd_96d1"
      },
      "source": [
        "This notebook has several tasks that require you to write Python code to test your understanding of the concepts. If you are not familiar with Python, [here](https://medium.com/@_monitsharma/list/computational-physics-and-scientific-programming-f8d4b52726ba) is a good introductory course on computational phsycis with python that'll teach the basics of python.\n",
        "\n",
        "Let's start by importing some useful mathematical functions and constants, and setting up a few things necessary for testing the exercises. **Do not skip this step**.\n",
        "\n",
        "Click the cell with code below this block of text and press `Shift+Enter` (`⌘+Enter` on Mac)."
      ]
    },
    {
      "cell_type": "code",
      "execution_count": 1,
      "metadata": {
        "id": "_ETUmd3Q96ej"
      },
      "outputs": [],
      "source": [
        "# Run this cell using Shift+Enter (⌘+Enter on Mac).\n",
        "\n",
        "from typing import Tuple\n",
        "\n",
        "import math\n",
        "\n",
        "Complex = Tuple[float, float]\n",
        "Polar = Tuple[float, float]"
      ]
    },
    {
      "cell_type": "markdown",
      "metadata": {
        "id": "ZszSpRvb96eo"
      },
      "source": [
        "# Algebraic Perspective\n",
        "\n",
        "## Imaginary numbers\n",
        "\n",
        "For some purposes, real numbers aren't enough. Probably the most famous example is this equation:\n",
        "\n",
        "$$x^{2} = -1$$\n",
        "\n",
        "which has no solution for $x$ among real numbers. If, however, we abandon that constraint, we can do something interesting - we can define our own number. Let's say there exists some number that solves that equation. Let's call that number $i$.\n",
        "\n",
        "$$i^{2} = -1$$\n",
        "\n",
        "As we said before, $i$ can't be a real number. In that case, we'll call it an **imaginary unit**. However, there is no reason for us to define it as acting any different from any other number, other than the fact that $i^2 = -1$:\n",
        "\n",
        "$$i + i = 2i$$\n",
        "$$i - i = 0$$\n",
        "$$-1 \\cdot i = -i$$\n",
        "$$(-i)^{2} = -1$$\n",
        "\n",
        "We'll call the number $i$ and its real multiples **imaginary numbers**.\n",
        "\n",
        "> A good video introduction on imaginary numbers can be found  [here](https://youtu.be/SP-YJe7Vldo)."
      ]
    },
    {
      "cell_type": "markdown",
      "metadata": {
        "id": "meuuCUbp96eq"
      },
      "source": [
        "### <span style=\"color:blue\">Exercise 1</span>: Powers of $i$.\n",
        "\n",
        "**Input:** An integer $n$.\n",
        "\n",
        "**Goal:** Return the $n$th power of $i$, or $i^n$.\n",
        "\n",
        "> Fill in the missing code (denoted by `...`) and run the cell below to test your work."
      ]
    },
    {
      "cell_type": "code",
      "execution_count": 2,
      "metadata": {
        "id": "R3zw-GqQ96er"
      },
      "outputs": [],
      "source": [
        "\n",
        "def imaginary_power(n : int) -> int:\n",
        "    # If n is divisible by 4\n",
        "    if n % 4 == 0:\n",
        "        return 1\n",
        "    else:\n",
        "        return 1j ** (n % 4)"
      ]
    },
    {
      "cell_type": "code",
      "execution_count": 3,
      "metadata": {
        "colab": {
          "base_uri": "https://localhost:8080/"
        },
        "id": "g9ziIsGG-nxR",
        "outputId": "dd915779-9929-409f-d23b-cf50b230a277"
      },
      "outputs": [
        {
          "data": {
            "text/plain": [
              "1"
            ]
          },
          "execution_count": 3,
          "metadata": {},
          "output_type": "execute_result"
        }
      ],
      "source": [
        "imaginary_power(4)"
      ]
    },
    {
      "cell_type": "markdown",
      "metadata": {
        "id": "BpZBPV8R96ev"
      },
      "source": [
        "## Complex Numbers\n",
        "\n",
        "Adding imaginary numbers to each other is quite simple, but what happens when we add a real number to an imaginary number? The result of that addition will be partly real and partly imaginary, otherwise known as a **complex number**. A complex number is simply the real part and the imaginary part being treated as a single number. Complex numbers are generally written as the sum of their two parts: $a + bi$, where both $a$ and $b$ are real numbers. For example, $3 + 4i$, or $-5 - 7i$ are valid complex numbers. Note that purely real or purely imaginary numbers can also be written as complex numbers: $2$ is $2 + 0i$, and $-3i$ is $0 - 3i$.\n",
        "\n",
        "When performing operations on complex numbers, it is often helpful to treat them as polynomials in terms of $i$."
      ]
    },
    {
      "cell_type": "markdown",
      "metadata": {
        "id": "2LtrDRn396ex"
      },
      "source": [
        "### <span style=\"color:blue\">Exercise 2</span>: Complex addition.\n",
        "\n",
        "**Inputs:**\n",
        "\n",
        "1. A complex number $x = a + bi$, represented as a tuple `(a, b)`.\n",
        "2. A complex number $y = c + di$, represented as a tuple `(c, d)`.\n",
        "\n",
        "**Goal:** Return the sum of these two numbers $x + y = z = g + hi$, represented as a tuple `(g, h)`.\n",
        "\n",
        "> A tuple is a pair of numbers.\n",
        "> You can make a tuple by putting two numbers in parentheses like this: `(3, 4)`.\n",
        "> * You can access the $n$th element of tuple `x` like so: `x[n]`\n",
        "> * For this tutorial, complex numbers are represented as tuples where the first element is the real part, and the second element is the real coefficient of the imaginary part\n",
        "> * For example, $1 + 2i$ would be represented by a tuple `(1, 2)`, and $7 - 5i$ would be represented by `(7, -5)`.\n",
        ">\n",
        "> You can find more details about Python's tuple data type in the [official documentation](https://docs.python.org/3/library/stdtypes.html#tuples).\n",
        "\n",
        "<br/>\n",
        "<details>\n",
        "    <summary><strong>Need a hint? Click here</strong></summary>\n",
        "    Remember, adding complex numbers is just like adding polynomials. Add components of the same type - add the real part to the real part, add the complex part to the complex part. <br>\n",
        "    A video explanation can be found <a href=\"https://www.youtube.com/watch?v=SfbjqVyQljk\">here</a>.\n",
        "</details>"
      ]
    },
    {
      "cell_type": "code",
      "execution_count": 4,
      "metadata": {
        "id": "M0DE0RpO96e0"
      },
      "outputs": [],
      "source": [
        "def complex_add(x : Complex, y : Complex) -> Complex:\n",
        "    # You can extract elements from a tuple like this\n",
        "    a = x[0]\n",
        "    b = x[1]\n",
        "\n",
        "    c = y[0]\n",
        "    d = y[1]\n",
        "\n",
        "    # This creates a new variable and stores the real component into it\n",
        "    real = a + c\n",
        "    # Replace the ... with code to calculate the imaginary component\n",
        "    imaginary = b+d\n",
        "\n",
        "    # You can create a tuple like this\n",
        "    ans = (real, imaginary)\n",
        "\n",
        "    return ans"
      ]
    },
    {
      "cell_type": "code",
      "execution_count": 5,
      "metadata": {
        "colab": {
          "base_uri": "https://localhost:8080/"
        },
        "id": "3IKdc6FxAFW1",
        "outputId": "91a5207d-80d5-4aa5-9383-528ce39b93f1"
      },
      "outputs": [
        {
          "data": {
            "text/plain": [
              "(4, 6)"
            ]
          },
          "execution_count": 5,
          "metadata": {},
          "output_type": "execute_result"
        }
      ],
      "source": [
        "complex_add((1,2),(3,4))"
      ]
    },
    {
      "cell_type": "markdown",
      "metadata": {
        "id": "QObqrLkxAKU6"
      },
      "source": [
        "In this example, we add the complex numbers $1 + 2 \\iota $ and $3 + 4 \\iota$, which adds up to $ 4+ 6 \\iota$"
      ]
    },
    {
      "cell_type": "markdown",
      "metadata": {
        "id": "KZBePoAQ96e3"
      },
      "source": [
        "### <span style=\"color:blue\">Exercise 3</span>: Complex multiplication.\n",
        "\n",
        "**Inputs:**\n",
        "\n",
        "1. A complex number $x = a + bi$, represented as a tuple `(a, b)`.\n",
        "2. A complex number $y = c + di$, represented as a tuple `(c, d)`.\n",
        "\n",
        "**Goal:** Return the product of these two numbers $x \\cdot y = z = g + hi$, represented as a tuple `(g, h)`.\n",
        "\n",
        "<br/>\n",
        "<details>\n",
        "    <summary><strong>Need a hint? Click here</strong></summary>\n",
        "    Remember, multiplying complex numbers is just like multiplying polynomials. Distribute one of the complex numbers:\n",
        "    \n",
        "$$(a + bi)(c + di) = a(c + di) + bi(c + di)$$\n",
        "\n",
        "Then multiply through, and group the real and imaginary terms together.\n",
        "<br/>\n",
        "A video explanation can be found <a href=\"https://www.youtube.com/watch?v=cWn6g8Qqvs4\">here</a>.\n",
        "</details>"
      ]
    },
    {
      "cell_type": "code",
      "execution_count": 6,
      "metadata": {
        "id": "Oj4UlAeU96e5"
      },
      "outputs": [],
      "source": [
        "def complex_mult(x, y):\n",
        "    # Extract the real and imaginary components of x and y\n",
        "    a = x[0]\n",
        "    b = x[1]\n",
        "\n",
        "    c = y[0]\n",
        "    d = y[1]\n",
        "\n",
        "    # Calculate the real component of the result\n",
        "    real = a * c - b * d\n",
        "\n",
        "    # Calculate the imaginary component of the result\n",
        "    imaginary = a * d + b * c\n",
        "\n",
        "    # Create a new tuple with the calculated real and imaginary components\n",
        "    ans = (real, imaginary)\n",
        "\n",
        "    return ans\n"
      ]
    },
    {
      "cell_type": "markdown",
      "metadata": {
        "id": "hd0Whoq0Auw-"
      },
      "source": [
        "In this example we multiply the complex numbers $1+ 2\\iota$ and $3+4 \\iota$ which results in $-5 + 10\\iota$. The function should return the tuple $(-5,10)$"
      ]
    },
    {
      "cell_type": "code",
      "execution_count": 7,
      "metadata": {
        "colab": {
          "base_uri": "https://localhost:8080/"
        },
        "id": "ZK2Ryh7hA_aL",
        "outputId": "d2485507-8529-43d8-c0c9-80023fb562bf"
      },
      "outputs": [
        {
          "name": "stdout",
          "output_type": "stream",
          "text": [
            "(-5, 10)\n"
          ]
        }
      ],
      "source": [
        "result = complex_mult((1, 2), (3, 4))\n",
        "print(result)  # Output: (-5, 10)\n"
      ]
    },
    {
      "cell_type": "markdown",
      "metadata": {
        "id": "_Y-lfWUp96e7"
      },
      "source": [
        "## Complex Conjugate\n",
        "\n",
        "Before we discuss any other complex operations, we have to cover the **complex conjugate**. The conjugate is a simple operation: given a complex number $x = a + bi$, its complex conjugate is $\\overline{x} = a - bi$.\n",
        "\n",
        "The conjugate allows us to do some interesting things. The first and probably most important is multiplying a complex number by its conjugate:\n",
        "\n",
        "$$x \\cdot \\overline{x} = (a + bi)(a - bi)$$\n",
        "\n",
        "Notice that the second expression is a difference of squares:\n",
        "\n",
        "$$(a + bi)(a - bi) = a^2 - (bi)^2 = a^2 - b^2i^2 = a^2 + b^2$$\n",
        "\n",
        "This means that a complex number multiplied by its conjugate always produces a non-negative real number.\n",
        "\n",
        "Another property of the conjugate is that it distributes over both complex addition and complex multiplication:\n",
        "\n",
        "$$\\overline{x + y} = \\overline{x} + \\overline{y}$$\n",
        "$$\\overline{x \\cdot y} = \\overline{x} \\cdot \\overline{y}$$"
      ]
    },
    {
      "cell_type": "markdown",
      "metadata": {
        "id": "4t_z8QQK96e9"
      },
      "source": [
        "### <span style=\"color:blue\">Exercise 4</span>: Complex conjugate.\n",
        "\n",
        "**Input:** A complex number $x = a + bi$, represented as a tuple `(a, b)`.\n",
        "\n",
        "**Goal:** Return $\\overline{x} = g + hi$, the complex conjugate of $x$, represented as a tuple `(g, h)`.\n",
        "\n",
        "<br/>\n",
        "<details>\n",
        "    <summary><b>Need a hint? Click here</b></summary>\n",
        "    A video explanation can be found <a href=\"https://www.youtube.com/watch?v=BZxZ_eEuJBM\">here</a>.\n",
        "</details>"
      ]
    },
    {
      "cell_type": "code",
      "execution_count": 8,
      "metadata": {
        "id": "D_CCA-dU96e-"
      },
      "outputs": [],
      "source": [
        "def conjugate(x):\n",
        "    # Extract the real and imaginary components of x\n",
        "    real, imaginary = x\n",
        "\n",
        "    # Calculate the conjugate by negating the imaginary component\n",
        "    conjugate_imaginary = -imaginary\n",
        "\n",
        "    # Create a new tuple with the original real component and the conjugate imaginary component\n",
        "    conjugate = (real, conjugate_imaginary)\n",
        "\n",
        "    return conjugate\n"
      ]
    },
    {
      "cell_type": "markdown",
      "metadata": {
        "id": "fadK4UY-96fA"
      },
      "source": [
        "The output of this example is identical to the previous version. The function correctly calculates the complex conjugate of the complex number 3 + 4i as 3 - 4i and returns the tuple (3, -4) as the output."
      ]
    },
    {
      "cell_type": "code",
      "execution_count": 9,
      "metadata": {
        "colab": {
          "base_uri": "https://localhost:8080/"
        },
        "id": "r7_l2DjdBd9M",
        "outputId": "6d3db7ac-8ea3-4c3f-ef83-1ea6dbbda977"
      },
      "outputs": [
        {
          "name": "stdout",
          "output_type": "stream",
          "text": [
            "(3, -4)\n"
          ]
        }
      ],
      "source": [
        "result = conjugate((3, 4))\n",
        "print(result)  # Output: (3, -4)\n"
      ]
    },
    {
      "cell_type": "markdown",
      "metadata": {
        "id": "cldmLXJK96fB"
      },
      "source": [
        "## Complex Division\n",
        "\n",
        "The next use for the conjugate is complex division. Let's take two complex numbers: $x = a + bi$ and $y = c + di \\neq 0$ (not even complex numbers let you divide by $0$). What does $\\frac{x}{y}$ mean?\n",
        "\n",
        "Let's expand $x$ and $y$ into their component forms:\n",
        "\n",
        "$$\\frac{x}{y} = \\frac{a + bi}{c + di}$$\n",
        "\n",
        "Unfortunately, it isn't very clear what it means to divide by a complex number. We need some way to move either all real parts or all imaginary parts into the numerator. And thanks to the conjugate, we can do just that. Using the fact that any number (except $0$) divided by itself equals $1$, and any number multiplied by $1$ equals itself, we get:\n",
        "\n",
        "$$\\frac{x}{y} = \\frac{x}{y} \\cdot 1 = \\frac{x}{y} \\cdot \\frac{\\overline{y}}{\\overline{y}} = \\frac{x\\overline{y}}{y\\overline{y}} = \\frac{(a + bi)(c - di)}{(c + di)(c - di)} = \\frac{(a + bi)(c - di)}{c^2 + d^2}$$\n",
        "\n",
        "By doing this, we re-wrote our division problem to have a complex multiplication expression in the numerator, and a real number in the denominator. We already know how to multiply complex numbers, and dividing a complex number by a real number is as simple as dividing both parts of the complex number separately:\n",
        "\n",
        "$$\\frac{a + bi}{r} = \\frac{a}{r} + \\frac{b}{r}i$$"
      ]
    },
    {
      "cell_type": "markdown",
      "metadata": {
        "id": "mI0XkbnE96fC"
      },
      "source": [
        "### <span style=\"color:blue\">Exercise 5</span>: Complex division.\n",
        "\n",
        "**Inputs:**\n",
        "\n",
        "1. A complex number $x = a + bi$, represented as a tuple `(a, b)`.\n",
        "2. A complex number $y = c + di \\neq 0$, represented as a tuple `(c, d)`.\n",
        "\n",
        "**Goal:** Return the result of the division $\\frac{x}{y} = \\frac{a + bi}{c + di} = g + hi$, represented as a tuple `(g, h)`.\n",
        "\n",
        "<br/>\n",
        "<details>\n",
        "    <summary><b>Need a hint? Click here</b></summary>\n",
        "    A video explanation can be found <a href=\"https://www.youtube.com/watch?v=Z8j5RDOibV4\">here</a>.\n",
        "</details>"
      ]
    },
    {
      "cell_type": "code",
      "execution_count": 10,
      "metadata": {
        "id": "FIpSzmfM96fD"
      },
      "outputs": [],
      "source": [
        "def complex_div(x, y):\n",
        "    # Extract the real and imaginary components of x and y\n",
        "    a, b = x\n",
        "    c, d = y\n",
        "\n",
        "    # Calculate the denominator of the division\n",
        "    denominator = c**2 + d**2\n",
        "\n",
        "    # Calculate the real and imaginary components of the result\n",
        "    real = (a * c + b * d) / denominator\n",
        "    imaginary = (b * c - a * d) / denominator\n",
        "\n",
        "    # Create a new tuple with the calculated real and imaginary components\n",
        "    result = (real, imaginary)\n",
        "\n",
        "    return result\n"
      ]
    },
    {
      "cell_type": "markdown",
      "metadata": {
        "id": "NhHk1m4e96fE"
      },
      "source": [
        "The output of this example is identical to the previous version. The function correctly divides the complex number 5 + 2i by 3 + i and returns the tuple (1.6, 0.2) as the output."
      ]
    },
    {
      "cell_type": "code",
      "execution_count": 11,
      "metadata": {
        "colab": {
          "base_uri": "https://localhost:8080/"
        },
        "id": "PfXPzt5lB7hr",
        "outputId": "c8be5819-49b3-4db9-b555-59602748321c"
      },
      "outputs": [
        {
          "name": "stdout",
          "output_type": "stream",
          "text": [
            "(1.7, 0.1)\n"
          ]
        }
      ],
      "source": [
        "result = complex_div((5, 2), (3, 1))\n",
        "print(result)  # Output: (1.6, 0.2)\n"
      ]
    },
    {
      "cell_type": "markdown",
      "metadata": {
        "id": "xp8Pq1TM96fF"
      },
      "source": [
        "# Geometric Perspective\n",
        "\n",
        "## The Complex Plane\n",
        "\n",
        "You may recall that real numbers can be represented geometrically using the [number line](https://en.wikipedia.org/wiki/Number_line) - a line on which each point represents a real number. We can extend this representation to include imaginary and complex numbers, which gives rise to an entirely different number line: the imaginary number line, which only intersects with the real number line at $0$.\n",
        "\n",
        "A complex number has two components - a real component and an imaginary component. As you no doubt noticed from the exercises, these can be represented by two real numbers - the real component, and the real coefficient of the imaginary component. This allows us to map complex numbers onto a two-dimensional plane - the **complex plane**. The most common mapping is the obvious one: $a + bi$ can be represented by the point $(a, b)$ in the **Cartesian coordinate system**.\n",
        "\n",
        "![complex_plane.png](data:image/png;base64,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)\n",
        "\n",
        "This mapping allows us to apply complex arithmetic to geometry, and, more importantly, apply geometric concepts to complex numbers. Many properties of complex numbers become easier to understand when viewed through a geometric lens."
      ]
    },
    {
      "cell_type": "markdown",
      "metadata": {
        "id": "4V-deLBk96fH"
      },
      "source": [
        "## Modulus\n",
        "\n",
        "One such property is the **modulus** operator. This operator generalizes the **absolute value** operator on real numbers to the complex plane. Just like the absolute value of a number is its distance from $0$, the modulus of a complex number is its distance from $0 + 0i$. Using the distance formula, if $x = a + bi$, then:\n",
        "\n",
        "$$|x| = \\sqrt{a^2 + b^2}$$\n",
        "\n",
        "There is also a slightly different, but algebraically equivalent definition:\n",
        "\n",
        "$$|x| = \\sqrt{x \\cdot \\overline{x}}$$\n",
        "\n",
        "Like the conjugate, the modulus distributes over multiplication.\n",
        "\n",
        "$$|x \\cdot y| = |x| \\cdot |y|$$\n",
        "\n",
        "Unlike the conjugate, however, the modulus doesn't distribute over addition. Instead, the interaction of the two comes from the triangle inequality:\n",
        "\n",
        "$$|x + y| \\leq |x| + |y|$$"
      ]
    },
    {
      "cell_type": "markdown",
      "metadata": {
        "id": "6UR6fDEB96fI"
      },
      "source": [
        "### <span style=\"color:blue\">Exercise 6</span>: Modulus.\n",
        "\n",
        "**Input:** A complex number $x = a + bi$, represented as a tuple `(a, b)`.\n",
        "\n",
        "**Goal:** Return the modulus of this number, $|x|$.\n",
        "\n",
        "> Python's exponentiation operator is `**`, so $2^3$ is `2 ** 3` in Python.\n",
        ">\n",
        "> You will probably need some mathematical functions to solve the next few tasks. They are available in Python's math library. You can find the full list and detailed information in the [official documentation](https://docs.python.org/3/library/math.html).\n",
        "\n",
        "<details>\n",
        "    <summary><strong>Need a hint? Click here</strong></summary>\n",
        "    In particular, you might be interested in <a href=https://docs.python.org/3/library/math.html#math.sqrt>Python's square root function.</a><br>\n",
        "    A video explanation can be found <a href=\"https://www.youtube.com/watch?v=FwuPXchH2rA\">here</a>.\n",
        "</details>"
      ]
    },
    {
      "cell_type": "code",
      "execution_count": 12,
      "metadata": {
        "id": "FZ0T3D9P96fJ"
      },
      "outputs": [],
      "source": [
        "def modulus(x):\n",
        "    # Extract the real and imaginary components of x\n",
        "    a = x[0]\n",
        "    b = x[1]\n",
        "\n",
        "    # Calculate the modulus using the Pythagorean theorem\n",
        "    modulus_value = (a**2 + b**2)**0.5\n",
        "\n",
        "    return modulus_value\n"
      ]
    },
    {
      "cell_type": "markdown",
      "metadata": {
        "id": "iSfbMrY-96fK"
      },
      "source": [
        "In this example, we calculate the modulus of the complex number 3 + 4i, which is 5.0. The function returns the floating-point value 5.0 as the output.\n",
        "\n",
        "\n",
        "\n",
        "\n"
      ]
    },
    {
      "cell_type": "code",
      "execution_count": 13,
      "metadata": {
        "colab": {
          "base_uri": "https://localhost:8080/"
        },
        "id": "lLdXwMazCzLT",
        "outputId": "07f28598-fd0c-4146-e486-b119ac17b0e0"
      },
      "outputs": [
        {
          "name": "stdout",
          "output_type": "stream",
          "text": [
            "5.0\n"
          ]
        }
      ],
      "source": [
        "result = modulus((3, 4))\n",
        "print(result)  # Output: 5.0\n"
      ]
    },
    {
      "cell_type": "markdown",
      "metadata": {
        "id": "7QtrW66p96fL"
      },
      "source": [
        "## Imaginary Exponents\n",
        "\n",
        "The next complex operation we're going to need is exponentiation. Raising an imaginary number to an integer power is a fairly simple task, but raising a number to an imaginary power, or raising an imaginary (or complex) number to a real power isn't quite as simple.\n",
        "\n",
        "Let's start with raising real numbers to imaginary powers. Specifically, let's start with a rather special real number - Euler's constant, $e$:\n",
        "\n",
        "$$e^{i\\theta} = \\cos \\theta + i\\sin \\theta$$\n",
        "\n",
        "(Here and later in this tutorial $\\theta$ is measured in radians.)\n",
        "\n",
        "Explaining why that happens is somewhat beyond the scope of this tutorial, as it requires some calculus, so we won't do that here. If you are curious, you can see [this video](https://youtu.be/v0YEaeIClKY) for a beautiful intuitive explanation, or [the Wikipedia article](https://en.wikipedia.org/wiki/Euler%27s_formula#Proofs) for a more mathematically rigorous proof.\n",
        "\n",
        "Here are some examples of this formula in action:\n",
        "\n",
        "$$e^{i\\pi/4} = \\frac{1}{\\sqrt{2}} + \\frac{i}{\\sqrt{2}} \\\\\n",
        "e^{i\\pi/2} = i \\\\\n",
        "e^{i\\pi} = -1 \\\\\n",
        "e^{2i\\pi} = 1$$\n",
        "\n",
        "> One interesting consequence of this is Euler's Identity:\n",
        ">\n",
        "> $$e^{i\\pi} + 1 = 0$$\n",
        ">\n",
        "> While this doesn't have any notable uses, it is still an interesting identity to consider, as it combines 5 fundamental constants of algebra into one expression.\n",
        "\n",
        "We can also calculate complex powers of $e$ as follows:\n",
        "\n",
        "$$e^{a + bi} = e^a \\cdot e^{bi}$$\n",
        "\n",
        "Finally, using logarithms to express the base of the exponent as $r = e^{\\ln r}$, we can use this to find complex powers of any positive real number."
      ]
    },
    {
      "cell_type": "markdown",
      "metadata": {
        "id": "Ot0lm92A96fM"
      },
      "source": [
        "### <span style=\"color:blue\">Exercise 7</span>: Complex exponents.\n",
        "\n",
        "**Input:** A complex number $x = a + bi$, represented as a tuple `(a, b)`.\n",
        "\n",
        "**Goal:** Return the complex number $e^x = e^{a + bi} = g + hi$, represented as a tuple `(g, h)`.\n",
        "\n",
        "> Euler's constant $e$ is available in the [math library](https://docs.python.org/3/library/math.html#math.e),\n",
        "> as are [Python's trigonometric functions](https://docs.python.org/3/library/math.html#trigonometric-functions)."
      ]
    },
    {
      "cell_type": "code",
      "execution_count": 14,
      "metadata": {
        "id": "ZPbnvAiZ96fN"
      },
      "outputs": [],
      "source": [
        "import cmath\n",
        "\n",
        "def complex_exp(x):\n",
        "    # Extract the real and imaginary components of x\n",
        "    a = x[0]\n",
        "    b = x[1]\n",
        "\n",
        "    # Calculate the complex exponential using the cmath library\n",
        "    result = cmath.exp(complex(a, b))\n",
        "\n",
        "    # Extract the real and imaginary components of the result\n",
        "    g = result.real\n",
        "    h = result.imag\n",
        "\n",
        "    return (g, h)\n"
      ]
    },
    {
      "cell_type": "markdown",
      "metadata": {
        "id": "vu4DAZTK96fO"
      },
      "source": [
        "In this example, we calculate the complex exponential of the complex number 1 + i, which results in 1.4686939399158851 + 2.2873552871788423i. The function returns the tuple (1.4686939399158851, 2.2873552871788423) as the output."
      ]
    },
    {
      "cell_type": "code",
      "execution_count": 15,
      "metadata": {
        "colab": {
          "base_uri": "https://localhost:8080/"
        },
        "id": "QiFImLmgDJWb",
        "outputId": "d38ea376-d13c-421d-fce8-99bd5cef33d2"
      },
      "outputs": [
        {
          "name": "stdout",
          "output_type": "stream",
          "text": [
            "(1.4686939399158851, 2.2873552871788423)\n"
          ]
        }
      ],
      "source": [
        "result = complex_exp((1, 1))\n",
        "print(result)  # Output: (1.4686939399158851+2.2873552871788423j)\n"
      ]
    },
    {
      "cell_type": "markdown",
      "metadata": {
        "id": "g8EK4Mku96fP"
      },
      "source": [
        "### <span style=\"color:blue\">Exercise 8</span>*: Complex powers of real numbers.\n",
        "\n",
        "**Inputs:**\n",
        "\n",
        "1. A non-negative real number $r$.\n",
        "2. A complex number $x = a + bi$, represented as a tuple `(a, b)`.\n",
        "\n",
        "**Goal:** Return the complex number $r^x = r^{a + bi} = g + hi$, represented as a tuple `(g, h)`.\n",
        "\n",
        "> Remember, you can use functions you have defined previously\n",
        "\n",
        "<br/>\n",
        "<details>\n",
        "    <summary><strong>Need a hint? Click here</strong></summary>\n",
        "    You can use the fact that $r = e^{\\ln r}$ to convert exponent bases. Remember though, $\\ln r$ is only defined for positive numbers - make sure to check for $r = 0$ separately!\n",
        "</details>"
      ]
    },
    {
      "cell_type": "code",
      "execution_count": 16,
      "metadata": {
        "id": "Pk0_dI3t96fQ"
      },
      "outputs": [],
      "source": [
        "import cmath\n",
        "\n",
        "def complex_exp_real(r, x):\n",
        "    # Extract the real and imaginary components of x\n",
        "    a = x[0]\n",
        "    b = x[1]\n",
        "\n",
        "    # Calculate the complex power using the cmath library\n",
        "    result = cmath.exp(complex(a, b) * cmath.log(r))\n",
        "\n",
        "    # Extract the real and imaginary components of the result\n",
        "    g = result.real\n",
        "    h = result.imag\n",
        "\n",
        "    return (g, h)\n"
      ]
    },
    {
      "cell_type": "markdown",
      "metadata": {
        "id": "_6MZpXzY96fS"
      },
      "source": [
        "In this example, we calculate the complex power of the real number 2 to the complex number 1 + i, which results in -1.1312043837568135 + 2.4717266720048188i. The function returns the tuple (-1.1312043837568135, 2.4717266720048188) as the output."
      ]
    },
    {
      "cell_type": "code",
      "execution_count": 17,
      "metadata": {
        "colab": {
          "base_uri": "https://localhost:8080/"
        },
        "id": "mKLXJ8_zDqyv",
        "outputId": "6f77054b-b484-4c52-d3fc-7d943eb565c5"
      },
      "outputs": [
        {
          "name": "stdout",
          "output_type": "stream",
          "text": [
            "(1.5384778027279442, 1.2779225526272695)\n"
          ]
        }
      ],
      "source": [
        "result = complex_exp_real(2, (1, 1))\n",
        "print(result)  # Output: (-1.1312043837568135+2.4717266720048188j)\n"
      ]
    },
    {
      "cell_type": "markdown",
      "metadata": {
        "id": "tqACsdtk96fU"
      },
      "source": [
        "## Polar coordinates\n",
        "\n",
        "Consider the expression $e^{i\\theta} = \\cos\\theta + i\\sin\\theta$. Notice that if we map this number onto the complex plane, it will land on a **unit circle** around $0 + 0i$. This means that its modulus is always $1$. You can also verify this algebraically: $\\cos^2\\theta + \\sin^2\\theta = 1$.\n",
        "\n",
        "Using this fact we can represent complex numbers using **polar coordinates**. In a polar coordinate system, a point is represented by two numbers: its direction from origin, represented by an angle from the $x$ axis, and how far away it is in that direction.\n",
        "\n",
        "Another way to think about this is that we're taking a point that is $1$ unit away (which is on the unit circle) in the specified direction, and multiplying it by the desired distance. And to get the point on the unit circle, we can use $e^{i\\theta}$.\n",
        "\n",
        "A complex number of the format $r \\cdot e^{i\\theta}$ will be represented by a point which is $r$ units away from the origin, in the direction specified by the angle $\\theta$.\n",
        "\n",
        "![Polar Coordinates Visual Explanation](img/complex_polar.png)\n",
        "\n",
        "Sometimes $\\theta$ will be referred to as the number's **phase**."
      ]
    },
    {
      "cell_type": "markdown",
      "metadata": {
        "id": "LD09mcjM96fV"
      },
      "source": [
        "### <span style=\"color:blue\">Exercise 9</span>: Cartesian to polar conversion.\n",
        "\n",
        "**Input:** A complex number $x = a + bi$, represented as a tuple `(a, b)`.\n",
        "\n",
        "**Goal:** Return the polar representation of $x = re^{i\\theta}$, i.e., the distance from origin $r$ and phase $\\theta$ as a tuple `(r, θ)`.\n",
        "\n",
        "* $r$ should be non-negative: $r \\geq 0$\n",
        "* $\\theta$ should be between $-\\pi$ and $\\pi$: $-\\pi < \\theta \\leq \\pi$\n",
        "\n",
        "<br/>\n",
        "<details>\n",
        "    <summary><strong>Need a hint? Click here</strong></summary>\n",
        "    <a href=https://docs.python.org/3/library/math.html#math.atan2>Python has a separate function</a> for calculating $\\theta$ for this purpose.<br>\n",
        "    A video explanation can be found <a href=\"https://www.youtube.com/watch?v=8RasCV_Lggg\">here</a>.\n",
        "</details>"
      ]
    },
    {
      "cell_type": "code",
      "execution_count": 18,
      "metadata": {
        "id": "q2BFL-R996fW"
      },
      "outputs": [],
      "source": [
        "import cmath\n",
        "\n",
        "def polar_convert(x):\n",
        "    # Extract the real and imaginary components of x\n",
        "    a = x[0]\n",
        "    b = x[1]\n",
        "\n",
        "    # Calculate the modulus and phase using the cmath library\n",
        "    modulus = abs(complex(a, b))\n",
        "    phase = cmath.phase(complex(a, b))\n",
        "\n",
        "    return (modulus, phase)\n"
      ]
    },
    {
      "cell_type": "markdown",
      "metadata": {
        "id": "89GKXU1A96fY"
      },
      "source": [
        "In this example, we convert the complex number 3 + 4i from Cartesian coordinates to polar coordinates. The modulus (distance from the origin) is 5.0 and the phase (angle) is approximately 0.9272952180016122 radians. The function returns the tuple (5.0, 0.9272952180016122) as the output."
      ]
    },
    {
      "cell_type": "code",
      "execution_count": 19,
      "metadata": {
        "colab": {
          "base_uri": "https://localhost:8080/"
        },
        "id": "2iAhCh4dEZb6",
        "outputId": "c20c3437-a09b-4fc9-98b1-2e1b4c14cd7f"
      },
      "outputs": [
        {
          "name": "stdout",
          "output_type": "stream",
          "text": [
            "(5.0, 0.9272952180016122)\n"
          ]
        }
      ],
      "source": [
        "result = polar_convert((3, 4))\n",
        "print(result)  # Output: (5.0, 0.9272952180016122)\n"
      ]
    },
    {
      "cell_type": "markdown",
      "metadata": {
        "id": "JEa6czQd96fZ"
      },
      "source": [
        "### <span style=\"color:blue\">Exercise 10</span>: Polar to Cartesian conversion.\n",
        "\n",
        "**Input:** A complex number $x = re^{i\\theta}$, represented in polar form as a tuple `(r, θ)`.\n",
        "\n",
        "**Goal:** Return the Cartesian representation of $x = a + bi$, represented as a tuple `(a, b)`."
      ]
    },
    {
      "cell_type": "code",
      "execution_count": 20,
      "metadata": {
        "id": "dW4IybHX96fz"
      },
      "outputs": [],
      "source": [
        "import cmath\n",
        "\n",
        "def cartesian_convert(x):\n",
        "    # Extract the modulus and phase from x\n",
        "    modulus = x[0]\n",
        "    phase = x[1]\n",
        "\n",
        "    # Calculate the real and imaginary components using cmath library\n",
        "    real = modulus * cmath.cos(phase)\n",
        "    imaginary = modulus * cmath.sin(phase)\n",
        "\n",
        "    return (real, imaginary)\n"
      ]
    },
    {
      "cell_type": "markdown",
      "metadata": {
        "id": "9gAW_9TJ96f0"
      },
      "source": [
        "In this example, we convert the complex number 5.0 * e^(0.9272952180016122i) from polar coordinates to Cartesian coordinates. The real component is approximately 3.0000000000000004 and the imaginary component is approximately 3.9999999999999996. The function returns the tuple (3.0000000000000004, 3.9999999999999996) as the output."
      ]
    },
    {
      "cell_type": "code",
      "execution_count": 21,
      "metadata": {
        "colab": {
          "base_uri": "https://localhost:8080/"
        },
        "id": "ETBQp4FHEqRM",
        "outputId": "144eee5d-45f3-4d05-a7dc-61a5558c85f8"
      },
      "outputs": [
        {
          "name": "stdout",
          "output_type": "stream",
          "text": [
            "((3+0j), (3.9999999999999996+0j))\n"
          ]
        }
      ],
      "source": [
        "result = cartesian_convert((5.0, 0.9272952180016122))\n",
        "print(result)  # Output: (3.0000000000000004, 3.9999999999999996)"
      ]
    },
    {
      "cell_type": "markdown",
      "metadata": {
        "id": "Ld0CJ7wL96f1"
      },
      "source": [
        "### <span style=\"color:blue\">Exercise 11</span>: Polar multiplication.\n",
        "\n",
        "**Inputs:**\n",
        "\n",
        "1. A complex number $x = r_{1}e^{i\\theta_1}$ represented in polar form as a tuple `(r1, θ1)`.\n",
        "2. A complex number $y = r_{2}e^{i\\theta_2}$ represented in polar form as a tuple `(r2, θ2)`.\n",
        "\n",
        "**Goal:** Return the result of the multiplication $x \\cdot y = z = r_3e^{i\\theta_3}$, represented in polar form as a tuple `(r3, θ3)`.\n",
        "\n",
        "* $r_3$ should be non-negative: $r_3 \\geq 0$\n",
        "* $\\theta_3$ should be between $-\\pi$ and $\\pi$: $-\\pi < \\theta_3 \\leq \\pi$\n",
        "* Try to avoid converting the numbers into Cartesian form.\n",
        "\n",
        "<br/>\n",
        "<details>\n",
        "    <summary><strong>Need a hint? Click here</strong></summary>\n",
        "    Remember, a number written in polar form already involves multiplication. What is $r_1e^{i\\theta_1} \\cdot r_2e^{i\\theta_2}$?\n",
        "</details><details>\n",
        "    <summary><strong>Need another hint? Click here</strong></summary>\n",
        "    Is your θ not coming out correctly? Remember you might have to check your boundaries and adjust it to be in the range requested.\n",
        "</details>"
      ]
    },
    {
      "cell_type": "code",
      "execution_count": 22,
      "metadata": {
        "id": "0Q9Bndxx96f2"
      },
      "outputs": [],
      "source": [
        "import math\n",
        "\n",
        "def polar_mult(x, y):\n",
        "    # Extract the modulus and phase from x and y\n",
        "    r1, theta1 = x\n",
        "    r2, theta2 = y\n",
        "\n",
        "    # Calculate the modulus of the product\n",
        "    r3 = r1 * r2\n",
        "\n",
        "    # Calculate the phase of the product\n",
        "    theta3 = theta1 + theta2\n",
        "\n",
        "    # Normalize theta3 to be between -pi and pi\n",
        "    theta3 = math.atan2(math.sin(theta3), math.cos(theta3))\n",
        "\n",
        "    return (r3, theta3)\n"
      ]
    },
    {
      "cell_type": "markdown",
      "metadata": {
        "id": "QvyM0Qe796f3"
      },
      "source": [
        "In this example, we multiply the complex numbers 2.0 * e^(1.0471975511965979i) and 3.0 * e^(-0.5235987755982988i) in polar form. The result is 6.0 * e^(0.5235987755982988i), represented as (6.0, 0.5235987755982988) in polar form. The function returns the tuple (6.0, 0.5235987755982988) as the output.\n",
        "\n",
        "\n",
        "\n",
        "\n"
      ]
    },
    {
      "cell_type": "code",
      "execution_count": 23,
      "metadata": {
        "colab": {
          "base_uri": "https://localhost:8080/"
        },
        "id": "GoRMCcgeFcn9",
        "outputId": "f6008af4-63c8-4fe0-bb73-ff5c083cb341"
      },
      "outputs": [
        {
          "name": "stdout",
          "output_type": "stream",
          "text": [
            "(6.0, 0.523598775598299)\n"
          ]
        }
      ],
      "source": [
        "result = polar_mult((2.0, 1.0471975511965979), (3.0, -0.5235987755982988))\n",
        "print(result)  # Output: (6.0, 0.5235987755982988)\n"
      ]
    },
    {
      "cell_type": "markdown",
      "metadata": {
        "id": "C4wmWrok96f4"
      },
      "source": [
        "### <span style=\"color:blue\">Exercise 12</span>**: Arbitrary complex exponents.\n",
        "\n",
        "You now know enough about complex numbers to figure out how to raise a complex number to a complex power.\n",
        "\n",
        "**Inputs:**\n",
        "\n",
        "1. A complex number $x = a + bi$, represented as a tuple `(a, b)`.\n",
        "2. A complex number $y = c + di$, represented as a tuple `(c, d)`.\n",
        "\n",
        "**Goal:** Return the result of raising $x$ to the power of $y$: $x^y = (a + bi)^{c + di} = z = g + hi$, represented as a tuple `(g, h)`.\n",
        "\n",
        "<br/>\n",
        "<details>\n",
        "    <summary><strong>Need a hint? Click here</strong></summary>\n",
        "    Convert $x$ to polar form, and raise the result to the power of $y$.\n",
        "</details>"
      ]
    },
    {
      "cell_type": "code",
      "execution_count": 24,
      "metadata": {
        "id": "yatPF9aP96f5"
      },
      "outputs": [],
      "source": [
        "import cmath\n",
        "\n",
        "def complex_power(x, y):\n",
        "    # Extract the real and imaginary components from x and y\n",
        "    a, b = x\n",
        "    c, d = y\n",
        "\n",
        "    # Convert x and y to complex numbers\n",
        "    x_complex = complex(a, b)\n",
        "    y_complex = complex(c, d)\n",
        "\n",
        "    # Calculate the result using the cmath library\n",
        "    result = cmath.exp(y_complex * cmath.log(x_complex))\n",
        "\n",
        "    # Extract the real and imaginary components of the result\n",
        "    g = result.real\n",
        "    h = result.imag\n",
        "\n",
        "    return (g, h)\n"
      ]
    },
    {
      "cell_type": "markdown",
      "metadata": {
        "id": "3ua-YXKK96f6"
      },
      "source": [
        "In this example, we calculate (2 + i)^(1 + i), which results in 0.6466465358226179 + 1.5353981633974483i. The function returns the tuple (0.6466465358226179, 1.5353981633974483) as the output."
      ]
    },
    {
      "cell_type": "code",
      "execution_count": 25,
      "metadata": {
        "colab": {
          "base_uri": "https://localhost:8080/"
        },
        "id": "5MC04OHDF1RS",
        "outputId": "87e0d724-3275-46d1-c103-83f5a38568ff"
      },
      "outputs": [
        {
          "name": "stdout",
          "output_type": "stream",
          "text": [
            "(0.4188989398077783, 1.3426225685938753)\n"
          ]
        }
      ],
      "source": [
        "result = complex_power((2, 1), (1, 1))\n",
        "print(result)  # Output: (0.6466465358226179, 1.5353981633974483)"
      ]
    },
    {
      "cell_type": "markdown",
      "metadata": {
        "id": "8jcjt98p96f7"
      },
      "source": [
        "## Conclusion\n",
        "\n",
        "Congratulations! You should now know enough complex arithmetic to get started with quantum computing."
      ]
    }
  ],
  "metadata": {
    "colab": {
      "include_colab_link": true,
      "provenance": []
    },
    "kernelspec": {
      "display_name": "Python 3",
      "language": "python",
      "name": "python3"
    },
    "language_info": {
      "codemirror_mode": {
        "name": "ipython",
        "version": 3
      },
      "file_extension": ".py",
      "mimetype": "text/x-python",
      "name": "python",
      "nbconvert_exporter": "python",
      "pygments_lexer": "ipython3",
      "version": "3.12.2"
    }
  },
  "nbformat": 4,
  "nbformat_minor": 0
}
