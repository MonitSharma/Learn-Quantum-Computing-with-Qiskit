{
  "nbformat": 4,
  "nbformat_minor": 0,
  "metadata": {
    "colab": {
      "provenance": [],
      "authorship_tag": "ABX9TyOb/23UEVWFs9DMH+0z5Fgx",
      "include_colab_link": true
    },
    "kernelspec": {
      "name": "python3",
      "display_name": "Python 3"
    },
    "language_info": {
      "name": "python"
    }
  },
  "cells": [
    {
      "cell_type": "markdown",
      "metadata": {
        "id": "view-in-github",
        "colab_type": "text"
      },
      "source": [
        "<a href=\"https://colab.research.google.com/github/MonitSharma/Learn-Quantum-Computing-with-Qiskit/blob/main/Basic_Circuit_Identities.ipynb\" target=\"_parent\"><img src=\"https://colab.research.google.com/assets/colab-badge.svg\" alt=\"Open In Colab\"/></a>"
      ]
    },
    {
      "cell_type": "code",
      "source": [
        "%pip install qiskit\n",
        "%pip install pylatexenc"
      ],
      "metadata": {
        "colab": {
          "base_uri": "https://localhost:8080/"
        },
        "id": "eY3ssiL7TXJS",
        "outputId": "363bd14e-2852-47c3-a3ed-d1c5698cb585"
      },
      "execution_count": 1,
      "outputs": [
        {
          "output_type": "stream",
          "name": "stdout",
          "text": [
            "Collecting qiskit\n",
            "  Downloading qiskit-0.43.3.tar.gz (9.1 kB)\n",
            "  Installing build dependencies ... \u001b[?25l\u001b[?25hdone\n",
            "  Getting requirements to build wheel ... \u001b[?25l\u001b[?25hdone\n",
            "  Installing backend dependencies ... \u001b[?25l\u001b[?25hdone\n",
            "  Preparing metadata (pyproject.toml) ... \u001b[?25l\u001b[?25hdone\n",
            "Collecting qiskit-terra==0.24.2 (from qiskit)\n",
            "  Downloading qiskit_terra-0.24.2-cp310-cp310-manylinux_2_17_x86_64.manylinux2014_x86_64.whl (6.0 MB)\n",
            "\u001b[2K     \u001b[90m━━━━━━━━━━━━━━━━━━━━━━━━━━━━━━━━━━━━━━━━\u001b[0m \u001b[32m6.0/6.0 MB\u001b[0m \u001b[31m22.1 MB/s\u001b[0m eta \u001b[36m0:00:00\u001b[0m\n",
            "\u001b[?25hCollecting qiskit-aer==0.12.2 (from qiskit)\n",
            "  Downloading qiskit_aer-0.12.2-cp310-cp310-manylinux_2_17_x86_64.manylinux2014_x86_64.whl (12.8 MB)\n",
            "\u001b[2K     \u001b[90m━━━━━━━━━━━━━━━━━━━━━━━━━━━━━━━━━━━━━━━━\u001b[0m \u001b[32m12.8/12.8 MB\u001b[0m \u001b[31m65.0 MB/s\u001b[0m eta \u001b[36m0:00:00\u001b[0m\n",
            "\u001b[?25hCollecting qiskit-ibmq-provider==0.20.2 (from qiskit)\n",
            "  Downloading qiskit_ibmq_provider-0.20.2-py3-none-any.whl (241 kB)\n",
            "\u001b[2K     \u001b[90m━━━━━━━━━━━━━━━━━━━━━━━━━━━━━━━━━━━━━━\u001b[0m \u001b[32m241.5/241.5 kB\u001b[0m \u001b[31m26.3 MB/s\u001b[0m eta \u001b[36m0:00:00\u001b[0m\n",
            "\u001b[?25hRequirement already satisfied: numpy>=1.16.3 in /usr/local/lib/python3.10/dist-packages (from qiskit-aer==0.12.2->qiskit) (1.22.4)\n",
            "Requirement already satisfied: scipy>=1.0 in /usr/local/lib/python3.10/dist-packages (from qiskit-aer==0.12.2->qiskit) (1.10.1)\n",
            "Requirement already satisfied: requests>=2.19 in /usr/local/lib/python3.10/dist-packages (from qiskit-ibmq-provider==0.20.2->qiskit) (2.27.1)\n",
            "Collecting requests-ntlm<=1.1.0 (from qiskit-ibmq-provider==0.20.2->qiskit)\n",
            "  Downloading requests_ntlm-1.1.0-py2.py3-none-any.whl (5.7 kB)\n",
            "Requirement already satisfied: urllib3>=1.21.1 in /usr/local/lib/python3.10/dist-packages (from qiskit-ibmq-provider==0.20.2->qiskit) (1.26.16)\n",
            "Requirement already satisfied: python-dateutil>=2.8.0 in /usr/local/lib/python3.10/dist-packages (from qiskit-ibmq-provider==0.20.2->qiskit) (2.8.2)\n",
            "Requirement already satisfied: websocket-client>=1.5.1 in /usr/local/lib/python3.10/dist-packages (from qiskit-ibmq-provider==0.20.2->qiskit) (1.6.1)\n",
            "Collecting websockets>=10.0 (from qiskit-ibmq-provider==0.20.2->qiskit)\n",
            "  Downloading websockets-11.0.3-cp310-cp310-manylinux_2_5_x86_64.manylinux1_x86_64.manylinux_2_17_x86_64.manylinux2014_x86_64.whl (129 kB)\n",
            "\u001b[2K     \u001b[90m━━━━━━━━━━━━━━━━━━━━━━━━━━━━━━━━━━━━━━\u001b[0m \u001b[32m129.9/129.9 kB\u001b[0m \u001b[31m13.7 MB/s\u001b[0m eta \u001b[36m0:00:00\u001b[0m\n",
            "\u001b[?25hCollecting rustworkx>=0.12.0 (from qiskit-terra==0.24.2->qiskit)\n",
            "  Downloading rustworkx-0.13.0-cp310-cp310-manylinux_2_17_x86_64.manylinux2014_x86_64.whl (1.9 MB)\n",
            "\u001b[2K     \u001b[90m━━━━━━━━━━━━━━━━━━━━━━━━━━━━━━━━━━━━━━━━\u001b[0m \u001b[32m1.9/1.9 MB\u001b[0m \u001b[31m73.4 MB/s\u001b[0m eta \u001b[36m0:00:00\u001b[0m\n",
            "\u001b[?25hCollecting ply>=3.10 (from qiskit-terra==0.24.2->qiskit)\n",
            "  Downloading ply-3.11-py2.py3-none-any.whl (49 kB)\n",
            "\u001b[2K     \u001b[90m━━━━━━━━━━━━━━━━━━━━━━━━━━━━━━━━━━━━━━━━\u001b[0m \u001b[32m49.6/49.6 kB\u001b[0m \u001b[31m5.1 MB/s\u001b[0m eta \u001b[36m0:00:00\u001b[0m\n",
            "\u001b[?25hRequirement already satisfied: psutil>=5 in /usr/local/lib/python3.10/dist-packages (from qiskit-terra==0.24.2->qiskit) (5.9.5)\n",
            "Requirement already satisfied: sympy>=1.3 in /usr/local/lib/python3.10/dist-packages (from qiskit-terra==0.24.2->qiskit) (1.11.1)\n",
            "Collecting dill>=0.3 (from qiskit-terra==0.24.2->qiskit)\n",
            "  Downloading dill-0.3.6-py3-none-any.whl (110 kB)\n",
            "\u001b[2K     \u001b[90m━━━━━━━━━━━━━━━━━━━━━━━━━━━━━━━━━━━━━━\u001b[0m \u001b[32m110.5/110.5 kB\u001b[0m \u001b[31m12.9 MB/s\u001b[0m eta \u001b[36m0:00:00\u001b[0m\n",
            "\u001b[?25hCollecting stevedore>=3.0.0 (from qiskit-terra==0.24.2->qiskit)\n",
            "  Downloading stevedore-5.1.0-py3-none-any.whl (49 kB)\n",
            "\u001b[2K     \u001b[90m━━━━━━━━━━━━━━━━━━━━━━━━━━━━━━━━━━━━━━━━\u001b[0m \u001b[32m49.6/49.6 kB\u001b[0m \u001b[31m5.6 MB/s\u001b[0m eta \u001b[36m0:00:00\u001b[0m\n",
            "\u001b[?25hCollecting symengine<0.10,>=0.9 (from qiskit-terra==0.24.2->qiskit)\n",
            "  Downloading symengine-0.9.2-cp310-cp310-manylinux2010_x86_64.whl (37.5 MB)\n",
            "\u001b[2K     \u001b[90m━━━━━━━━━━━━━━━━━━━━━━━━━━━━━━━━━━━━━━━━\u001b[0m \u001b[32m37.5/37.5 MB\u001b[0m \u001b[31m19.8 MB/s\u001b[0m eta \u001b[36m0:00:00\u001b[0m\n",
            "\u001b[?25hRequirement already satisfied: six>=1.5 in /usr/local/lib/python3.10/dist-packages (from python-dateutil>=2.8.0->qiskit-ibmq-provider==0.20.2->qiskit) (1.16.0)\n",
            "Requirement already satisfied: certifi>=2017.4.17 in /usr/local/lib/python3.10/dist-packages (from requests>=2.19->qiskit-ibmq-provider==0.20.2->qiskit) (2023.5.7)\n",
            "Requirement already satisfied: charset-normalizer~=2.0.0 in /usr/local/lib/python3.10/dist-packages (from requests>=2.19->qiskit-ibmq-provider==0.20.2->qiskit) (2.0.12)\n",
            "Requirement already satisfied: idna<4,>=2.5 in /usr/local/lib/python3.10/dist-packages (from requests>=2.19->qiskit-ibmq-provider==0.20.2->qiskit) (3.4)\n",
            "Collecting ntlm-auth>=1.0.2 (from requests-ntlm<=1.1.0->qiskit-ibmq-provider==0.20.2->qiskit)\n",
            "  Downloading ntlm_auth-1.5.0-py2.py3-none-any.whl (29 kB)\n",
            "Requirement already satisfied: cryptography>=1.3 in /usr/lib/python3/dist-packages (from requests-ntlm<=1.1.0->qiskit-ibmq-provider==0.20.2->qiskit) (3.4.8)\n",
            "Collecting pbr!=2.1.0,>=2.0.0 (from stevedore>=3.0.0->qiskit-terra==0.24.2->qiskit)\n",
            "  Downloading pbr-5.11.1-py2.py3-none-any.whl (112 kB)\n",
            "\u001b[2K     \u001b[90m━━━━━━━━━━━━━━━━━━━━━━━━━━━━━━━━━━━━━━\u001b[0m \u001b[32m112.7/112.7 kB\u001b[0m \u001b[31m11.9 MB/s\u001b[0m eta \u001b[36m0:00:00\u001b[0m\n",
            "\u001b[?25hRequirement already satisfied: mpmath>=0.19 in /usr/local/lib/python3.10/dist-packages (from sympy>=1.3->qiskit-terra==0.24.2->qiskit) (1.3.0)\n",
            "Building wheels for collected packages: qiskit\n",
            "  Building wheel for qiskit (pyproject.toml) ... \u001b[?25l\u001b[?25hdone\n",
            "  Created wheel for qiskit: filename=qiskit-0.43.3-py3-none-any.whl size=7639 sha256=56e407ee42682c9389e7320501c15f05f7f11dbbe51d7e260e8d3f4c4231caf6\n",
            "  Stored in directory: /root/.cache/pip/wheels/c3/88/e5/483e1c761b53470dad74ee047f8ad4d67d4f52ec9dc9d13563\n",
            "Successfully built qiskit\n",
            "Installing collected packages: ply, websockets, symengine, rustworkx, pbr, ntlm-auth, dill, stevedore, requests-ntlm, qiskit-terra, qiskit-ibmq-provider, qiskit-aer, qiskit\n",
            "Successfully installed dill-0.3.6 ntlm-auth-1.5.0 pbr-5.11.1 ply-3.11 qiskit-0.43.3 qiskit-aer-0.12.2 qiskit-ibmq-provider-0.20.2 qiskit-terra-0.24.2 requests-ntlm-1.1.0 rustworkx-0.13.0 stevedore-5.1.0 symengine-0.9.2 websockets-11.0.3\n",
            "Collecting pylatexenc\n",
            "  Downloading pylatexenc-2.10.tar.gz (162 kB)\n",
            "\u001b[2K     \u001b[90m━━━━━━━━━━━━━━━━━━━━━━━━━━━━━━━━━━━━━━━\u001b[0m \u001b[32m162.6/162.6 kB\u001b[0m \u001b[31m3.5 MB/s\u001b[0m eta \u001b[36m0:00:00\u001b[0m\n",
            "\u001b[?25h  Preparing metadata (setup.py) ... \u001b[?25l\u001b[?25hdone\n",
            "Building wheels for collected packages: pylatexenc\n",
            "  Building wheel for pylatexenc (setup.py) ... \u001b[?25l\u001b[?25hdone\n",
            "  Created wheel for pylatexenc: filename=pylatexenc-2.10-py3-none-any.whl size=136820 sha256=38fc87558adf683f833dc8a98b544a99f428a62e7347b6c22acd098a6a122460\n",
            "  Stored in directory: /root/.cache/pip/wheels/d3/31/8b/e09b0386afd80cfc556c00408c9aeea5c35c4d484a9c762fd5\n",
            "Successfully built pylatexenc\n",
            "Installing collected packages: pylatexenc\n",
            "Successfully installed pylatexenc-2.10\n"
          ]
        }
      ]
    },
    {
      "cell_type": "markdown",
      "source": [
        "# Basic Circuit Identities\n",
        "\n",
        "In the realm of quantum computing, our objective is to construct valuable quantum circuits utilizing fundamental building blocks. However, there may be instances where we lack certain desired basic building blocks. In this section, we will explore methods for converting between basic gates and utilizing them to construct relatively straightforward yet slightly more intricate gates.\n",
        "\n",
        "The techniques covered in this chapter draw upon the pioneering work of Barenco and collaborators, initially introduced in their influential 1995 paper. These techniques offer valuable insights into transforming gates and assembling them to expand our repertoire of quantum circuit components. By harnessing these methods, we can navigate the constraints posed by limited gate availability and continue to develop sophisticated quantum circuits."
      ],
      "metadata": {
        "id": "3bsZWDvWTKTq"
      }
    },
    {
      "cell_type": "code",
      "execution_count": 2,
      "metadata": {
        "id": "AOONanl2TFTz"
      },
      "outputs": [],
      "source": [
        "from qiskit import QuantumCircuit\n",
        "from qiskit.circuit import Gate\n",
        "from math import pi\n",
        "qc = QuantumCircuit(2)\n",
        "c = 0\n",
        "t = 1"
      ]
    },
    {
      "cell_type": "markdown",
      "source": [
        "##  Making a Controlled-Z from a CNOT\n",
        "\n",
        "The Controlled Z gate is a well used two qubit gate. Just as CNOT applies an $X$ gate to its target qubit whenever the control is $|1\\rangle$ , the controlled Z gate applies a $Z$ gate in the same case.\n",
        "\n",
        "Let's see how to do this in Qiskit:"
      ],
      "metadata": {
        "id": "sz7C7KUpTeXJ"
      }
    },
    {
      "cell_type": "code",
      "source": [
        "# a controlled-Z\n",
        "qc.cz(c,t)\n",
        "qc.draw('mpl')"
      ],
      "metadata": {
        "colab": {
          "base_uri": "https://localhost:8080/",
          "height": 191
        },
        "id": "4ydAMP8ETyFx",
        "outputId": "6d46cd4f-d0a0-4a70-b754-24861bbadd94"
      },
      "execution_count": 3,
      "outputs": [
        {
          "output_type": "execute_result",
          "data": {
            "text/plain": [
              "<Figure size 203.683x200.667 with 1 Axes>"
            ],
            "image/png": "[encoded data removed]"
          },
          "metadata": {},
          "execution_count": 3
        }
      ]
    },
    {
      "cell_type": "markdown",
      "source": [
        "where c and t are the control and target qubits. In IBM Q devices, however, the only kind of two-qubit gate that can be directly applied is the CNOT. We therefore need a way to transform one to the other."
      ],
      "metadata": {
        "id": "zfK00LvlT6Ex"
      }
    },
    {
      "cell_type": "markdown",
      "source": [
        "The process for this is quite simple. We know that the Hadamard transforms the states $|0\\rangle$ and $|1\\rangle$ to the states $|+\\rangle$ and $|-\\rangle$ respectively. We also know that the effect of the $Z$ gate on the states $|+\\rangle$ and  $|-\\rangle$ is the same as that for $X$ on the states $|0\\rangle$ and $|1\\rangle$ respectively. From this reasoning, or from simply multiplying matrices, we find that:\n",
        "\n",
        "![Screenshot 2023-07-18 at 17-24-49 Basic Circuit Identities.png](data:image/png;base64,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)"
      ],
      "metadata": {
        "id": "LUqQnz0_T8SY"
      }
    },
    {
      "cell_type": "markdown",
      "source": [
        "The same trick can be used to transform a CNOT into a controlled-$Z$. All we need to do is precede and follow the CNOT with a Hadamard on the target qubit. This will transform any $X$ applied to that qubit into a $Z$."
      ],
      "metadata": {
        "id": "MQ7_cOqEUT8Q"
      }
    },
    {
      "cell_type": "code",
      "source": [
        "qc = QuantumCircuit(2)\n",
        "# also a controlled-Z\n",
        "qc.h(t)\n",
        "qc.cx(c,t)\n",
        "qc.h(t)\n",
        "qc.draw('mpl')"
      ],
      "metadata": {
        "colab": {
          "base_uri": "https://localhost:8080/",
          "height": 191
        },
        "id": "sY7KHnvZT1JB",
        "outputId": "78a1bb14-ffa9-4165-d1f0-a31e176b1892"
      },
      "execution_count": 4,
      "outputs": [
        {
          "output_type": "execute_result",
          "data": {
            "text/plain": [
              "<Figure size 370.906x200.667 with 1 Axes>"
            ],
            "image/png": "[encoded data removed]"
          },
          "metadata": {},
          "execution_count": 4
        }
      ]
    },
    {
      "cell_type": "markdown",
      "source": [
        "More generally, we can transform a single CNOT into a controlled version of any rotation around the Bloch sphere by an angle $\\pi$, by simply preceding and following it with the correct rotations. For example, a controlled-$Y$:"
      ],
      "metadata": {
        "id": "0EWKDVCcUdbI"
      }
    },
    {
      "cell_type": "code",
      "source": [
        "qc = QuantumCircuit(2)\n",
        "# a controlled-Y\n",
        "qc.sdg(t)\n",
        "qc.cx(c,t)\n",
        "qc.s(t)\n",
        "qc.draw('mpl')"
      ],
      "metadata": {
        "colab": {
          "base_uri": "https://localhost:8080/",
          "height": 191
        },
        "id": "dkhwwCkTUaBq",
        "outputId": "d2f4fb1d-283d-427c-ff2d-9ffea8979ba3"
      },
      "execution_count": 5,
      "outputs": [
        {
          "output_type": "execute_result",
          "data": {
            "text/plain": [
              "<Figure size 370.906x200.667 with 1 Axes>"
            ],
            "image/png": "[encoded data removed]"
          },
          "metadata": {},
          "execution_count": 5
        }
      ]
    },
    {
      "cell_type": "markdown",
      "source": [
        "and a controlled-$H$:"
      ],
      "metadata": {
        "id": "gusSICKMUkzZ"
      }
    },
    {
      "cell_type": "code",
      "source": [
        "qc = QuantumCircuit(2)\n",
        "# a controlled-H\n",
        "qc.ry(pi/4,t)\n",
        "qc.cx(c,t)\n",
        "qc.ry(-pi/4,t)\n",
        "qc.draw('mpl')"
      ],
      "metadata": {
        "colab": {
          "base_uri": "https://localhost:8080/",
          "height": 191
        },
        "id": "0UvJBieRUjRS",
        "outputId": "095984c4-61f0-4383-e900-120cbf887390"
      },
      "execution_count": 6,
      "outputs": [
        {
          "output_type": "execute_result",
          "data": {
            "text/plain": [
              "<Figure size 370.906x200.667 with 1 Axes>"
            ],
            "image/png": "[encoded data removed]"
          },
          "metadata": {},
          "execution_count": 6
        }
      ]
    },
    {
      "cell_type": "markdown",
      "source": [
        "## Swapping Qubits"
      ],
      "metadata": {
        "id": "4Ur7caW5UpgH"
      }
    },
    {
      "cell_type": "code",
      "source": [
        "a = 0\n",
        "b = 1"
      ],
      "metadata": {
        "id": "n0Hb0gL7Unqx"
      },
      "execution_count": 7,
      "outputs": []
    },
    {
      "cell_type": "markdown",
      "source": [
        "Sometimes we need to move information around in a quantum computer. For some qubit implementations, this could be done by physically moving them. Another option is simply to move the state between two qubits. This is done by the SWAP gate."
      ],
      "metadata": {
        "id": "eUmwqv8-Ut4p"
      }
    },
    {
      "cell_type": "code",
      "source": [
        "qc = QuantumCircuit(2)\n",
        "# swaps states of qubits a and b\n",
        "qc.swap(a,b)\n",
        "qc.draw('mpl')"
      ],
      "metadata": {
        "colab": {
          "base_uri": "https://localhost:8080/",
          "height": 191
        },
        "id": "QCEe59X4UsQR",
        "outputId": "b7877fc4-1856-4de3-9be5-b356b70b447d"
      },
      "execution_count": 8,
      "outputs": [
        {
          "output_type": "execute_result",
          "data": {
            "text/plain": [
              "<Figure size 203.683x200.667 with 1 Axes>"
            ],
            "image/png": "[encoded data removed]"
          },
          "metadata": {},
          "execution_count": 8
        }
      ]
    },
    {
      "cell_type": "markdown",
      "source": [
        "The command above directly invokes this gate, but let's see how we might make it using our standard gate set. For this, we'll need to consider a few examples."
      ],
      "metadata": {
        "id": "PZLohq3nUzqA"
      }
    },
    {
      "cell_type": "markdown",
      "source": [
        "First, we'll look at the case that qubit a is in state $|1\\rangle$ and qubit b is in state $|0\\rangle$. For this we'll apply the following gates:"
      ],
      "metadata": {
        "id": "-no4T8BjU1YI"
      }
    },
    {
      "cell_type": "code",
      "source": [
        "qc = QuantumCircuit(2)\n",
        "# swap a 1 from a to b\n",
        "qc.cx(a,b) # copies 1 from a to b\n",
        "qc.cx(b,a) # uses the 1 on b to rotate the state of a to 0\n",
        "qc.draw('mpl')"
      ],
      "metadata": {
        "colab": {
          "base_uri": "https://localhost:8080/",
          "height": 191
        },
        "id": "bWS8UsslUwub",
        "outputId": "30fb2227-a461-44fa-8138-34294bf493d2"
      },
      "execution_count": 9,
      "outputs": [
        {
          "output_type": "execute_result",
          "data": {
            "text/plain": [
              "<Figure size 287.294x200.667 with 1 Axes>"
            ],
            "image/png": "[encoded data removed]"
          },
          "metadata": {},
          "execution_count": 9
        }
      ]
    },
    {
      "cell_type": "markdown",
      "source": [
        "This has the effect of putting qubit b in state $|1\\rangle$ and qubit a in state $|0\\rangle$. In this case at least, we have done a SWAP."
      ],
      "metadata": {
        "id": "tqtO7F6GVBoA"
      }
    },
    {
      "cell_type": "markdown",
      "source": [
        "Now let's take this state and SWAP back to the original one. As you may have guessed, we can do this with the reverse of the above process:"
      ],
      "metadata": {
        "id": "zASNj6WIVHEQ"
      }
    },
    {
      "cell_type": "code",
      "source": [
        "# swap a q from b to a\n",
        "qc.cx(b,a) # copies 1 from b to a\n",
        "qc.cx(a,b) # uses the 1 on a to rotate the state of b to 0\n",
        "qc.draw('mpl')"
      ],
      "metadata": {
        "colab": {
          "base_uri": "https://localhost:8080/",
          "height": 191
        },
        "id": "ZIh0_7kuU8tx",
        "outputId": "24e09221-e40f-4f6b-d565-6fce3f491829"
      },
      "execution_count": 10,
      "outputs": [
        {
          "output_type": "execute_result",
          "data": {
            "text/plain": [
              "<Figure size 454.517x200.667 with 1 Axes>"
            ],
            "image/png": "[encoded data removed]"
          },
          "metadata": {},
          "execution_count": 10
        }
      ]
    },
    {
      "cell_type": "markdown",
      "source": [
        "Note that in these two processes, the first gate of one would have no effect on the initial state of the other. For example, when we swap the $|1\\rangle$ b to a, the first gate is cx(b,a). If this were instead applied to a state where no $|1\\rangle$ was initially on b, it would have no effect.\n",
        "\n",
        "\n",
        "Note also that for these two processes, the final gate of one would have no effect on the final state of the other. For example, the final cx(b,a) that is required when we swap the $|1\\rangle$ from a to b has no effect on the state where the $|1\\rangle$ is not on b.\n",
        "\n",
        "With these observations, we can combine the two processes by adding an ineffective gate from one onto the other. For example,"
      ],
      "metadata": {
        "id": "6Seu1zFHVMc5"
      }
    },
    {
      "cell_type": "code",
      "source": [
        "qc = QuantumCircuit(2)\n",
        "qc.cx(b,a)\n",
        "qc.cx(a,b)\n",
        "qc.cx(b,a)\n",
        "qc.draw('mpl')"
      ],
      "metadata": {
        "colab": {
          "base_uri": "https://localhost:8080/",
          "height": 191
        },
        "id": "dg6cBHDfVJ0y",
        "outputId": "68f534c8-d233-4a9f-c35a-3df2c068dbdb"
      },
      "execution_count": 11,
      "outputs": [
        {
          "output_type": "execute_result",
          "data": {
            "text/plain": [
              "<Figure size 370.906x200.667 with 1 Axes>"
            ],
            "image/png": "[encoded data removed]"
          },
          "metadata": {},
          "execution_count": 11
        }
      ]
    },
    {
      "cell_type": "markdown",
      "source": [
        "We can think of this as a process that swaps a $|1\\rangle$ from a to b, but with a useless `qc.cx(b,a)` at the beginning. We can also think of it as a process that swaps a $|1\\rangle$ from `b` to `a`, but with a useless `qc.cx(b,a)` at the end. Either way, the result is a process that can do the swap both ways around.\n",
        "\n",
        "It also has the correct effect on the $|00\\rangle$ state. This is symmetric, and so swapping the states should have no effect. Since the CNOT gates have no effect when their control qubits are $|0\\rangle$, the process correctly does nothing.\n",
        "\n",
        "The $|11\\rangle$ state is also symmetric, and so needs a trivial effect from the swap. In this case, the first CNOT gate in the process above will cause the second to have no effect, and the third undoes the first. Therefore, the whole effect is indeed trivial.\n",
        "\n",
        "We have thus found a way to decompose SWAP gates into our standard gate set of single-qubit rotations and CNOT gates."
      ],
      "metadata": {
        "id": "YbN5t8hwW_qD"
      }
    },
    {
      "cell_type": "code",
      "source": [
        "qc = QuantumCircuit(2)\n",
        "# swaps states of qubits a and b\n",
        "qc.cx(b,a)\n",
        "qc.cx(a,b)\n",
        "qc.cx(b,a)\n",
        "qc.draw('mpl')"
      ],
      "metadata": {
        "colab": {
          "base_uri": "https://localhost:8080/",
          "height": 191
        },
        "id": "ES8_IcLJVeYZ",
        "outputId": "51fbce3c-883f-4779-a5fe-b755037382c0"
      },
      "execution_count": 12,
      "outputs": [
        {
          "output_type": "execute_result",
          "data": {
            "text/plain": [
              "<Figure size 370.906x200.667 with 1 Axes>"
            ],
            "image/png": "[encoded data removed]"
          },
          "metadata": {},
          "execution_count": 12
        }
      ]
    },
    {
      "cell_type": "markdown",
      "source": [
        "It works for the states $|00\\rangle$,$|01\\rangle$ ,$|10\\rangle$ and $|11\\rangle$, and if it works for all the states in the computational basis, it must work for all states generally. This circuit therefore swaps all possible two-qubit states.\n",
        "\n",
        "The same effect would also result if we changed the order of the CNOT gates:"
      ],
      "metadata": {
        "id": "M_YPYRqJXXOh"
      }
    },
    {
      "cell_type": "code",
      "source": [
        "qc = QuantumCircuit(2)\n",
        "# swaps states of qubits a and b\n",
        "qc.cx(a,b)\n",
        "qc.cx(b,a)\n",
        "qc.cx(a,b)\n",
        "qc.draw('mpl')"
      ],
      "metadata": {
        "colab": {
          "base_uri": "https://localhost:8080/",
          "height": 191
        },
        "id": "kU623nrfXU9e",
        "outputId": "f3827601-b2a6-4b56-fd03-aa95d002f3f7"
      },
      "execution_count": 13,
      "outputs": [
        {
          "output_type": "execute_result",
          "data": {
            "text/plain": [
              "<Figure size 370.906x200.667 with 1 Axes>"
            ],
            "image/png": "[encoded data removed]"
          },
          "metadata": {},
          "execution_count": 13
        }
      ]
    },
    {
      "cell_type": "markdown",
      "source": [
        "This is an equally valid way to get the SWAP gate.\n",
        "\n",
        "The derivation used here was very much based on the z basis states, but it could also be done by thinking about what is required to swap qubits in states $|+\\rangle$ and $|-⟩$. The resulting ways of implementing the SWAP gate will be completely equivalent to the ones here."
      ],
      "metadata": {
        "id": "FE3ObjpHXjnR"
      }
    },
    {
      "cell_type": "markdown",
      "source": [
        "## Controlled Rotations\n",
        "\n"
      ],
      "metadata": {
        "id": "m1hWdM9OXpwB"
      }
    },
    {
      "cell_type": "markdown",
      "source": [
        "We have already seen how to build controlled $\\pi$ rotations from a single CNOT gate. Now we'll look at how to build any controlled rotation.\n",
        "\n",
        "First, let's consider arbitrary rotations around the y axis. Specifically, consider the following sequence of gates."
      ],
      "metadata": {
        "id": "xCBR6mapyY-w"
      }
    },
    {
      "cell_type": "code",
      "source": [
        "qc = QuantumCircuit(2)\n",
        "theta = pi # theta can be anything (pi chosen arbitrarily)\n",
        "qc.ry(theta/2,t)\n",
        "qc.cx(c,t)\n",
        "qc.ry(-theta/2,t)\n",
        "qc.cx(c,t)\n",
        "qc.draw('mpl')"
      ],
      "metadata": {
        "colab": {
          "base_uri": "https://localhost:8080/",
          "height": 191
        },
        "id": "tIHgD6fZXh5T",
        "outputId": "5db2eb6b-ad26-4115-fb2a-d07f36a99c78"
      },
      "execution_count": 14,
      "outputs": [
        {
          "output_type": "execute_result",
          "data": {
            "text/plain": [
              "<Figure size 454.517x200.667 with 1 Axes>"
            ],
            "image/png": "[encoded data removed]"
          },
          "metadata": {},
          "execution_count": 14
        }
      ]
    },
    {
      "cell_type": "markdown",
      "source": [
        "If the control qubit is in state $|0⟩$ all we have here is $R_y(\\theta/2)$\n",
        "immediately followed by its inverse,$R_y(-\\theta/2)$\n",
        ". The end effect is trivial. If the control qubit is in state $|1⟩$, however, the `ry(-theta/2)` is effectively preceded and followed by an X gate. This has the effect of flipping the direction of the y rotation and making a second $R_y(\\theta/2)$\n",
        ". The net effect in this case is therefore to make a controlled version of the rotation $R_y(\\theta)$\n",
        ".\n",
        "\n",
        "This method works because the x and y axis are orthogonal, which causes the x gates to flip the direction of the rotation. It therefore similarly works to make a controlled $R_z(\\theta)$\n",
        ". A controlled $R_z(\\theta)$\n",
        "could similarly be made using CNOT gates.\n",
        "\n",
        "We can also make a controlled version of any single-qubit rotation, V . For this we simply need to find three rotations A, B and C, and a phase $\\alpha$ such that\n",
        "\n",
        "\n",
        "![Screenshot 2023-07-21 at 17-33-25 Basic Circuit Identities.png](data:image/png;base64,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)"
      ],
      "metadata": {
        "id": "xaxVAt19yg4e"
      }
    },
    {
      "cell_type": "markdown",
      "source": [
        "We then use controlled-Z gates to cause the first of these relations to happen whenever the control is in state $|0⟩$, and the second to happen when the control in state $|1⟩$ . An $R_z(2\\alpha)$\n",
        "rotation is also used on the control to get the right phase, which will be important whenever there are superposition states."
      ],
      "metadata": {
        "id": "SXJv3CO6zDQX"
      }
    },
    {
      "cell_type": "code",
      "source": [
        "A = Gate('A', 1, [])\n",
        "B = Gate('B', 1, [])\n",
        "C = Gate('C', 1, [])\n",
        "alpha = 1 # arbitrarily define alpha to allow drawing of circuit"
      ],
      "metadata": {
        "id": "GH9Bi5GzzB8x"
      },
      "execution_count": 15,
      "outputs": []
    },
    {
      "cell_type": "code",
      "source": [
        "qc = QuantumCircuit(2)\n",
        "qc.append(C, [t])\n",
        "qc.cz(c,t)\n",
        "qc.append(B, [t])\n",
        "qc.cz(c,t)\n",
        "qc.append(A, [t])\n",
        "qc.p(alpha,c)\n",
        "qc.draw('mpl')"
      ],
      "metadata": {
        "colab": {
          "base_uri": "https://localhost:8080/",
          "height": 191
        },
        "id": "hkACgPC5zV5G",
        "outputId": "370c5be6-aa2e-4896-d3a2-2237fbb2d660"
      },
      "execution_count": 16,
      "outputs": [
        {
          "output_type": "execute_result",
          "data": {
            "text/plain": [
              "<Figure size 538.128x200.667 with 1 Axes>"
            ],
            "image/png": "[encoded data removed]"
          },
          "metadata": {},
          "execution_count": 16
        }
      ]
    },
    {
      "cell_type": "markdown",
      "source": [
        "![iden1.png](data:image/png;base64,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)"
      ],
      "metadata": {
        "id": "klhtLCBezZYV"
      }
    },
    {
      "cell_type": "markdown",
      "source": [
        "Here A, B and C are gates that implement A,B and C, respectively."
      ],
      "metadata": {
        "id": "ivhynKI6zb3-"
      }
    },
    {
      "cell_type": "markdown",
      "source": [
        "## The Toffoli\n",
        "\n",
        "\n",
        "The Toffoli gate is a three-qubit gate with two controls and one target. It performs an X on the target only if both controls are in the state $|1⟩$ . The final state of the target is then equal to either the AND or the NAND of the two controls, depending on whether the initial state of the target was $|0⟩$ or $|1⟩$. A Toffoli can also be thought of as a controlled-controlled-NOT, and is also called the CCX gate.\n"
      ],
      "metadata": {
        "id": "V0aQsHWQzhEV"
      }
    },
    {
      "cell_type": "code",
      "source": [
        "qc = QuantumCircuit(3)\n",
        "a = 0\n",
        "b = 1\n",
        "t = 2\n",
        "# Toffoli with control qubits a and b and target t\n",
        "qc.ccx(a,b,t)\n",
        "qc.draw('mpl')"
      ],
      "metadata": {
        "colab": {
          "base_uri": "https://localhost:8080/",
          "height": 255
        },
        "id": "8E823Op7zXr_",
        "outputId": "f5c331ff-6333-42d4-a1b1-7449ac64ae9a"
      },
      "execution_count": 17,
      "outputs": [
        {
          "output_type": "execute_result",
          "data": {
            "text/plain": [
              "<Figure size 203.885x284.278 with 1 Axes>"
            ],
            "image/png": "[encoded data removed]"
          },
          "metadata": {},
          "execution_count": 17
        }
      ]
    },
    {
      "cell_type": "markdown",
      "source": [
        "To see how to build it from single- and two-qubit gates, it is helpful to first show how to build something even more general: an arbitrary controlled-controlled-U for any single-qubit rotation U. For this we need to define controlled versions of $V = \\sqrt{U}$ and $V^{\\dagger}$\n",
        " . In the code below, we use cp(theta,c,t) and cp(-theta,c,t)in place of the undefined subroutines cv and cvdg respectively. The controls are qubits a and b, and the target is qubit t."
      ],
      "metadata": {
        "id": "FgIEjgCxztFW"
      }
    },
    {
      "cell_type": "code",
      "source": [
        "qc = QuantumCircuit(3)\n",
        "qc.cp(theta,b,t)\n",
        "qc.cx(a,b)\n",
        "qc.cp(-theta,b,t)\n",
        "qc.cx(a,b)\n",
        "qc.cp(theta,a,t)\n",
        "qc.draw('mpl')"
      ],
      "metadata": {
        "colab": {
          "base_uri": "https://localhost:8080/",
          "height": 255
        },
        "id": "djp2tW7PzrsG",
        "outputId": "9b39c14b-af2d-4655-b934-6a8a30024f15"
      },
      "execution_count": 18,
      "outputs": [
        {
          "output_type": "execute_result",
          "data": {
            "text/plain": [
              "<Figure size 621.941x284.278 with 1 Axes>"
            ],
            "image/png": "[encoded data removed]"
          },
          "metadata": {},
          "execution_count": 18
        }
      ]
    },
    {
      "cell_type": "markdown",
      "source": [
        "![iden2.png](data:image/png;base64,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)"
      ],
      "metadata": {
        "id": "IgNLQnQ5z8gF"
      }
    },
    {
      "cell_type": "markdown",
      "source": [
        "By tracing through each value of the two control qubits, you can convince yourself that a U gate is applied to the target qubit if and only if both controls are 1. Using ideas we have already described, you could now implement each controlled-V gate to arrive at some circuit for the doubly-controlled-U gate. It turns out that the minimum number of CNOT gates required to implement the Toffoli gate is six"
      ],
      "metadata": {
        "id": "nEieLVFLz_fW"
      }
    },
    {
      "cell_type": "markdown",
      "source": [
        "![iden3.png](data:image/png;base64,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)"
      ],
      "metadata": {
        "id": "hP0CJazO0BV9"
      }
    },
    {
      "cell_type": "markdown",
      "source": [
        "This is a Toffoli with 3 qubits(q0,q1,q2) respectively. In this circuit example, q0 is connected with q2 but q0 is not connected with q1.\n",
        "\n",
        "The Toffoli is not the unique way to implement an AND gate in quantum computing. We could also define other gates that have the same effect, but which also introduce relative phases. In these cases, we can implement the gate with fewer CNOTs.\n",
        "\n",
        "For example, suppose we use both the controlled-Hadamard and controlled-Z| gates, which can both be implemented with a single CNOT. With these we can make the following circuit:"
      ],
      "metadata": {
        "id": "dU4kr0Xi0DxV"
      }
    },
    {
      "cell_type": "code",
      "source": [
        "qc = QuantumCircuit(3)\n",
        "qc.ch(a,t)\n",
        "qc.cz(b,t)\n",
        "qc.ch(a,t)\n",
        "qc.draw('mpl')"
      ],
      "metadata": {
        "colab": {
          "base_uri": "https://localhost:8080/",
          "height": 255
        },
        "id": "SGZdEH8pz6sP",
        "outputId": "ecb05555-290a-403b-838c-0af75cc95da6"
      },
      "execution_count": 19,
      "outputs": [
        {
          "output_type": "execute_result",
          "data": {
            "text/plain": [
              "<Figure size 371.107x284.278 with 1 Axes>"
            ],
            "image/png": "[encoded data removed]"
          },
          "metadata": {},
          "execution_count": 19
        }
      ]
    },
    {
      "cell_type": "markdown",
      "source": [
        "For the state $|00⟩$ on the two controls, this does nothing to the target. For $|11⟩$, the target experiences a Z gate that is both preceded and followed by an H. The net effect is an X on the target. For the states $|01⟩$ and $|10⟩$, the target experiences either just the two Hadamards (which cancel each other out) or just the Z (which only induces a relative phase). This therefore also reproduces the effect of an AND, because the value of the target is only changed for the $|11⟩$ state on the controls -- but it does it with the equivalent of just three CNOT gates."
      ],
      "metadata": {
        "id": "IePM1Wsb0KIV"
      }
    },
    {
      "cell_type": "markdown",
      "source": [
        "## Arbitrary rotations from H and T\n",
        "\n",
        "\n",
        "The qubits in current devices are subject to noise, which basically consists of gates that are done by mistake. Simple things like temperature, stray magnetic fields or activity on neighboring qubits can make things happen that we didn't intend.\n",
        "\n",
        "For large applications of quantum computers, it will be necessary to encode our qubits in a way that protects them from this noise. This is done by making gates much harder to do by mistake, or to implement in a manner that is slightly wrong.\n"
      ],
      "metadata": {
        "id": "RnQhC9DX0d9t"
      }
    },
    {
      "cell_type": "markdown",
      "source": [
        "This is unfortunate for the single-qubit rotations $R_x(Θ)$,$R_y(Θ)$ and $R_z(Θ)$ .\n",
        "\n",
        "It is impossible to implement an angle $\\theta$ with perfect accuracy, such that you are sure that you are not accidentally implementing something like $\\theta + 0.0000000000001$. There will always be a limit to the accuracy we can achieve, and it will always be larger than is tolerable when we account for the build-up of imperfections over large circuits. We will therefore not be able to implement these rotations directly in fault-tolerant quantum computers, but will instead need to build them in a much more deliberate manner.\n",
        "\n",
        "Fault-tolerant schemes typically perform these rotations using multiple applications of just two gates: H and T.\n",
        "\n",
        "The T gate is expressed in Qiskit as .t():"
      ],
      "metadata": {
        "id": "qDYWr6cs0iAt"
      }
    },
    {
      "cell_type": "code",
      "source": [
        "qc = QuantumCircuit(1)\n",
        "qc.t(0) # T gate on qubit 0\n",
        "qc.draw('mpl')"
      ],
      "metadata": {
        "colab": {
          "base_uri": "https://localhost:8080/",
          "height": 127
        },
        "id": "fjQjVrOS0H9-",
        "outputId": "53fb51f1-f9c6-4dc4-efe5-704155019ab4"
      },
      "execution_count": 20,
      "outputs": [
        {
          "output_type": "execute_result",
          "data": {
            "text/plain": [
              "<Figure size 185.453x117.056 with 1 Axes>"
            ],
            "image/png": "[encoded data removed]"
          },
          "metadata": {},
          "execution_count": 20
        }
      ]
    },
    {
      "cell_type": "markdown",
      "source": [
        "It is a rotation around the z axis by $\\theta = \\pi/4$, and so is expressed mathematically as $R_x(\\pi/4) = e^{\\iota \\pi /8 Z}$\n",
        ".\n",
        "\n",
        "In the following we assume that the H and T gates are effectively perfect. This can be engineered by suitable methods for error correction and fault-tolerance.\n",
        "\n",
        "Using the Hadamard and the methods discussed in the last chapter, we can use the T gate to create a similar rotation around the x axis."
      ],
      "metadata": {
        "id": "cqyRDTKN02c-"
      }
    },
    {
      "cell_type": "code",
      "source": [
        "qc = QuantumCircuit(1)\n",
        "qc.h(0)\n",
        "qc.t(0)\n",
        "qc.h(0)\n",
        "qc.draw('mpl')"
      ],
      "metadata": {
        "colab": {
          "base_uri": "https://localhost:8080/",
          "height": 127
        },
        "id": "BLLhRvXe00lP",
        "outputId": "b3aa80cc-9deb-4142-a9d2-4bcac8d65e91"
      },
      "execution_count": 21,
      "outputs": [
        {
          "output_type": "execute_result",
          "data": {
            "text/plain": [
              "<Figure size 352.675x117.056 with 1 Axes>"
            ],
            "image/png": "[encoded data removed]"
          },
          "metadata": {},
          "execution_count": 21
        }
      ]
    },
    {
      "cell_type": "markdown",
      "source": [
        "Now let's put the two together. Let's make the gate $R_z(\\pi/4) R_x(\\pi/4)$\n",
        "."
      ],
      "metadata": {
        "id": "iQIQeeaC1F19"
      }
    },
    {
      "cell_type": "code",
      "source": [
        "qc = QuantumCircuit(1)\n",
        "qc.h(0)\n",
        "qc.t(0)\n",
        "qc.h(0)\n",
        "qc.t(0)\n",
        "qc.draw('mpl')"
      ],
      "metadata": {
        "colab": {
          "base_uri": "https://localhost:8080/",
          "height": 127
        },
        "id": "6lGof2lL1EBe",
        "outputId": "2dccec51-b647-4d42-c6db-489f46e6b1d7"
      },
      "execution_count": 22,
      "outputs": [
        {
          "output_type": "execute_result",
          "data": {
            "text/plain": [
              "<Figure size 436.286x117.056 with 1 Axes>"
            ],
            "image/png": "[encoded data removed]"
          },
          "metadata": {},
          "execution_count": 22
        }
      ]
    },
    {
      "cell_type": "markdown",
      "source": [
        "Since this is a single-qubit gate, we can think of it as a rotation around the Bloch sphere. That means that it is a rotation around some axis by some angle. We don't need to think about the axis too much here, but it clearly won't be simply x, y or z. More important is the angle."
      ],
      "metadata": {
        "id": "U07-YUxo1QfV"
      }
    }
  ]
}