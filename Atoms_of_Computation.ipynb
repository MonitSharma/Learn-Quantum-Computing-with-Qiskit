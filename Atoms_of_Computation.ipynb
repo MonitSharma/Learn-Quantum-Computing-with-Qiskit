{
  "nbformat": 4,
  "nbformat_minor": 0,
  "metadata": {
    "colab": {
      "provenance": [],
      "authorship_tag": "ABX9TyO+dG2dOizpsFii5KducbgY",
      "include_colab_link": true
    },
    "kernelspec": {
      "name": "python3",
      "display_name": "Python 3"
    },
    "language_info": {
      "name": "python"
    }
  },
  "cells": [
    {
      "cell_type": "markdown",
      "metadata": {
        "id": "view-in-github",
        "colab_type": "text"
      },
      "source": [
        "<a href=\"https://colab.research.google.com/github/MonitSharma/Quantum-Computing-with-Qiskit-and-IBMQ/blob/main/Atoms_of_Computation.ipynb\" target=\"_parent\"><img src=\"https://colab.research.google.com/assets/colab-badge.svg\" alt=\"Open In Colab\"/></a>"
      ]
    },
    {
      "cell_type": "code",
      "source": [
        "%pip install qiskit"
      ],
      "metadata": {
        "id": "UfnK3HHqDBR9"
      },
      "execution_count": null,
      "outputs": []
    },
    {
      "cell_type": "code",
      "source": [
        "%pip install pylatexenc"
      ],
      "metadata": {
        "id": "co75ld3ykbHu"
      },
      "execution_count": null,
      "outputs": []
    },
    {
      "cell_type": "markdown",
      "source": [
        "# Atoms of Computation\n",
        "\n",
        "\n",
        "You can program a quantum computer from the comfort of your home. But to understand quantum computing and how it works, we have to begin with how classical computers work,  Let's see this in brief:\n"
      ],
      "metadata": {
        "id": "q-vNOnI-ef-e"
      }
    },
    {
      "cell_type": "code",
      "source": [
        "from qiskit import QuantumCircuit, assemble, Aer\n",
        "from qiskit.visualization import plot_histogram"
      ],
      "metadata": {
        "id": "R4x3EhWNecmO"
      },
      "execution_count": 2,
      "outputs": []
    },
    {
      "cell_type": "markdown",
      "source": [
        "## Unit of Information: Bits\n",
        "\n",
        "Welcome to the fascinating world of information! 🌟 In this section, we'll delve into the fundamental unit of information: bits. 🧐\n",
        "\n",
        "🤔 But what exactly is a bit? 🤔\n",
        "\n",
        "Imagine a world where everything is reduced to its simplest form—a world of zeros and ones. That's precisely what a bit represents: the building block of digital information. 🧱\n",
        "\n",
        "✨ The term \"bit\" is a contraction of \"binary digit,\" and it carries an incredible power to store and transmit information. It's like the atom of the digital realm, the tiniest speck that can hold a universe of meaning. 🌌\n",
        "\n",
        "To put it simply, a bit can have one of two values: 0 or 1. It's the ultimate yes-or-no, true-or-false, on-or-off switch. But don't be fooled by its seemingly limited range! 🎯\n",
        "\n",
        "Bits come together like puzzle pieces to form larger units of information. Eight bits make up a byte, which can represent a single character of text or a small number. With every additional bit, the possibilities expand exponentially. 💥\n",
        "\n",
        "In the vast landscape of digital communication and computation, bits are the currency of exchange. They flow through the circuits of our devices, bringing life to our screens and enabling the marvels of modern technology. 🌐💻"
      ],
      "metadata": {
        "id": "Zo69bGQDe7X1"
      }
    },
    {
      "cell_type": "markdown",
      "source": [
        "We are used to represent numbers through a string of $0$ to $9$. In the string of digits, each digit represents how many times the number contains a certain power of ten. For example $9213$ means:\n",
        "\n",
        "$$ 9000 + 200 + 10 + 3 $$\n",
        "\n",
        "or we can write it as\n",
        "\n",
        "$$ 9213 = ( 1 \\times 2^{13}) +  (0 \\times 2^{12}) + (0 \\times 2^{11}) + ( 0 \\times 2^{10}) \\\\ + (1 \\times 2^{9}) + (1 \\times 2^{8}) + ( 1 \\times 2^{7}) +  (1 \\times 2^{6}) \\\\\n",
        "+  ( 1 \\times 2^{5}) +  (1 \\times 2^{4}) + ( 1 \\times 2^{3}) +   (1 \\times 2^{2}) \\\\ +  (0 \\times 2^{1}) +  ( 1 \\times 2^{0}) $$\n",
        "\n",
        "\n",
        "Hence in binary it can be written as $10001111111101$"
      ],
      "metadata": {
        "id": "GFHDewYqfiaO"
      }
    },
    {
      "cell_type": "code",
      "source": [
        "def decimal_to_binary(decimal):\n",
        "    binary = \"\"\n",
        "    if decimal == 0:\n",
        "        return \"0\"\n",
        "    while decimal > 0:\n",
        "        binary = str(decimal % 2) + binary\n",
        "        decimal //= 2\n",
        "    return binary\n",
        "\n",
        "# Example usage\n",
        "decimal_number = 42\n",
        "binary_number = decimal_to_binary(decimal_number)\n",
        "print(f\"The binary representation of {decimal_number} is: {binary_number}\")\n"
      ],
      "metadata": {
        "colab": {
          "base_uri": "https://localhost:8080/"
        },
        "id": "br9XAv0ve6C-",
        "outputId": "9fe2bf09-2c48-40ae-bcf5-2f16e3feb860"
      },
      "execution_count": 6,
      "outputs": [
        {
          "output_type": "stream",
          "name": "stdout",
          "text": [
            "The binary representation of 42 is: 101010\n"
          ]
        }
      ]
    },
    {
      "cell_type": "code",
      "source": [
        "def binary_to_decimal(binary):\n",
        "    decimal = 0\n",
        "    power = len(binary) - 1\n",
        "    for digit in binary:\n",
        "        decimal += int(digit) * (2 ** power)\n",
        "        power -= 1\n",
        "    return decimal\n",
        "\n",
        "# Example usage\n",
        "binary_number = \"101010\"\n",
        "decimal_number = binary_to_decimal(binary_number)\n",
        "print(f\"The decimal representation of {binary_number} is: {decimal_number}\")\n"
      ],
      "metadata": {
        "colab": {
          "base_uri": "https://localhost:8080/"
        },
        "id": "nbNbBGhahdCe",
        "outputId": "6a9cf40f-1903-420c-fe17-c5fd4713d258"
      },
      "execution_count": 4,
      "outputs": [
        {
          "output_type": "stream",
          "name": "stdout",
          "text": [
            "The decimal representation of 101010 is: 42\n"
          ]
        }
      ]
    },
    {
      "cell_type": "markdown",
      "source": [
        "## Computation as Diagram\n",
        "\n",
        "Whether we are using bits or qubits, we need to manipulate then in order to turn the inputs we have into outputs we need. We will demonstrate with circuit diagrams, with the inputs on the left and the output on the right. These operations are called **gates**. Here's an example of what a circuit looks like:\n",
        "\n",
        "\n",
        "\n",
        "![](https://learn.qiskit.org/content/v2/ch-states/images/classical_circuit.png)\n",
        "You aren't expected to know what this does.\n",
        "\n",
        "\n",
        "\n",
        "\n",
        "---\n",
        "\n",
        "For a quantum computer, we use the same idea and make a quantum circuit:\n",
        "\n",
        "\n",
        "\n",
        "![](https://learn.qiskit.org/content/v2/ch-states/images/quantum_circuit.png)\n",
        "\n",
        "\n",
        "\n",
        "\n",
        "**Now let's make a quantum circuit of our own**\n",
        "\n",
        "\n",
        "Don't get worried about what these gates are, and what they are doing, we will see that shortly in detail.\n",
        "\n",
        "\n",
        "\n",
        "\n",
        "\n"
      ],
      "metadata": {
        "id": "Xj6tGMcVhwql"
      }
    },
    {
      "cell_type": "markdown",
      "source": [
        "## First Quantum Circuit\n",
        "\n",
        "In making a quantum circuit, we need to do three jobs.\n",
        "1. Encode the input\n",
        "2. Do some computation\n",
        "3. Extract the result\n",
        "\n",
        "![](https://learn.qiskit.org/content/v2/ch-states/images/half-adder.svg)\n",
        "\n",
        "Let's start by creating a quantum circuit"
      ],
      "metadata": {
        "id": "c4XzQLakjRK5"
      }
    },
    {
      "cell_type": "code",
      "source": [
        "qcirc = QuantumCircuit(8)"
      ],
      "metadata": {
        "id": "-Zg1HDA0jPJu"
      },
      "execution_count": 7,
      "outputs": []
    },
    {
      "cell_type": "markdown",
      "source": [
        "So, we created a quantum circuit by the name `qcirc` and using the `QuantumCircuit` function of Python. This function takes in the number of **qubits** we need for the quantum circuit.\n",
        "\n"
      ],
      "metadata": {
        "id": "VvuNtDFojmsf"
      }
    },
    {
      "cell_type": "markdown",
      "source": [
        "To extract the output, we need to do a measurement, hence use the `measure_all` function of qiskit. It measures all the qubits and give specific output bit"
      ],
      "metadata": {
        "id": "vP1W_wXkj1xX"
      }
    },
    {
      "cell_type": "code",
      "source": [
        "qcirc.measure_all()"
      ],
      "metadata": {
        "id": "TJ2YCo86jl6A"
      },
      "execution_count": 8,
      "outputs": []
    },
    {
      "cell_type": "markdown",
      "source": [
        "We can also visualize how our quantum circuit looks like by using the `draw` function of qiskit."
      ],
      "metadata": {
        "id": "n8Eom3wekPV1"
      }
    },
    {
      "cell_type": "code",
      "source": [
        "qcirc.draw()"
      ],
      "metadata": {
        "colab": {
          "base_uri": "https://localhost:8080/",
          "height": 310
        },
        "id": "CD_XS_7IkkC3",
        "outputId": "33724c0a-8627-47ee-f7d6-fbbefa465d7b"
      },
      "execution_count": 12,
      "outputs": [
        {
          "output_type": "execute_result",
          "data": {
            "text/plain": [
              "         ░ ┌─┐                     \n",
              "   q_0: ─░─┤M├─────────────────────\n",
              "         ░ └╥┘┌─┐                  \n",
              "   q_1: ─░──╫─┤M├──────────────────\n",
              "         ░  ║ └╥┘┌─┐               \n",
              "   q_2: ─░──╫──╫─┤M├───────────────\n",
              "         ░  ║  ║ └╥┘┌─┐            \n",
              "   q_3: ─░──╫──╫──╫─┤M├────────────\n",
              "         ░  ║  ║  ║ └╥┘┌─┐         \n",
              "   q_4: ─░──╫──╫──╫──╫─┤M├─────────\n",
              "         ░  ║  ║  ║  ║ └╥┘┌─┐      \n",
              "   q_5: ─░──╫──╫──╫──╫──╫─┤M├──────\n",
              "         ░  ║  ║  ║  ║  ║ └╥┘┌─┐   \n",
              "   q_6: ─░──╫──╫──╫──╫──╫──╫─┤M├───\n",
              "         ░  ║  ║  ║  ║  ║  ║ └╥┘┌─┐\n",
              "   q_7: ─░──╫──╫──╫──╫──╫──╫──╫─┤M├\n",
              "         ░  ║  ║  ║  ║  ║  ║  ║ └╥┘\n",
              "meas: 8/════╩══╩══╩══╩══╩══╩══╩══╩═\n",
              "            0  1  2  3  4  5  6  7 "
            ],
            "text/html": [
              "<pre style=\"word-wrap: normal;white-space: pre;background: #fff0;line-height: 1.1;font-family: &quot;Courier New&quot;,Courier,monospace\">         ░ ┌─┐                     \n",
              "   q_0: ─░─┤M├─────────────────────\n",
              "         ░ └╥┘┌─┐                  \n",
              "   q_1: ─░──╫─┤M├──────────────────\n",
              "         ░  ║ └╥┘┌─┐               \n",
              "   q_2: ─░──╫──╫─┤M├───────────────\n",
              "         ░  ║  ║ └╥┘┌─┐            \n",
              "   q_3: ─░──╫──╫──╫─┤M├────────────\n",
              "         ░  ║  ║  ║ └╥┘┌─┐         \n",
              "   q_4: ─░──╫──╫──╫──╫─┤M├─────────\n",
              "         ░  ║  ║  ║  ║ └╥┘┌─┐      \n",
              "   q_5: ─░──╫──╫──╫──╫──╫─┤M├──────\n",
              "         ░  ║  ║  ║  ║  ║ └╥┘┌─┐   \n",
              "   q_6: ─░──╫──╫──╫──╫──╫──╫─┤M├───\n",
              "         ░  ║  ║  ║  ║  ║  ║ └╥┘┌─┐\n",
              "   q_7: ─░──╫──╫──╫──╫──╫──╫──╫─┤M├\n",
              "         ░  ║  ║  ║  ║  ║  ║  ║ └╥┘\n",
              "meas: 8/════╩══╩══╩══╩══╩══╩══╩══╩═\n",
              "            0  1  2  3  4  5  6  7 </pre>"
            ]
          },
          "metadata": {},
          "execution_count": 12
        }
      ]
    },
    {
      "cell_type": "markdown",
      "source": [
        "These are bit bland, not that colorful. To make quantum circuits more colorful, you need to install `pylatexenc` library\n",
        "\n",
        "Simply run\n",
        "```python\n",
        "%pip install pylatexenc\n",
        "```\n",
        "\n",
        "and then run the below code:"
      ],
      "metadata": {
        "id": "cikZu4jbksWO"
      }
    },
    {
      "cell_type": "code",
      "source": [
        "qcirc.draw('mpl')"
      ],
      "metadata": {
        "colab": {
          "base_uri": "https://localhost:8080/",
          "height": 642
        },
        "id": "s9DY8WvvkO1e",
        "outputId": "42ad08ba-4320-4fd4-8745-7ed0b53d21e8"
      },
      "execution_count": 11,
      "outputs": [
        {
          "output_type": "execute_result",
          "data": {
            "text/plain": [
              "<Figure size 914.831x785.944 with 1 Axes>"
            ],
            "image/png": "[encoded data removed]"
          },
          "metadata": {},
          "execution_count": 11
        }
      ]
    },
    {
      "cell_type": "markdown",
      "source": [
        "Now the circuit is more colorful"
      ],
      "metadata": {
        "id": "Wk7NwUi-k7kO"
      }
    },
    {
      "cell_type": "markdown",
      "source": [
        "We started with $8$ qubits, which are represented here via $q_0, q_1,...q_7$, they all were initialised in $0$ state, and we didn't applied any gate in between and then measured directly. So our output will be $00000000$ , one zero for each qubit.\n",
        "\n",
        "Let's see how to run the circuit.\n",
        "(we'll learn about all the simulators and backends later)"
      ],
      "metadata": {
        "id": "RGlwjKMNk97e"
      }
    },
    {
      "cell_type": "code",
      "source": [
        "sim = Aer.get_backend('aer_simulator')    # decide the backend on which to run the circuit\n",
        "result = sim.run(qcirc).result()          # run the circuit and save the results\n",
        "\n",
        "result"
      ],
      "metadata": {
        "colab": {
          "base_uri": "https://localhost:8080/"
        },
        "id": "mnoM2U-KkY8e",
        "outputId": "6a4323fc-c430-42f5-ebd2-34551b3a80e0"
      },
      "execution_count": 13,
      "outputs": [
        {
          "output_type": "execute_result",
          "data": {
            "text/plain": [
              "Result(backend_name='aer_simulator', backend_version='0.12.1', qobj_id='', job_id='459ba7d1-f5c8-4905-815b-d3e651b0b0de', success=True, results=[ExperimentResult(shots=1024, success=True, meas_level=2, data=ExperimentResultData(counts={'0x0': 1024}), header=QobjExperimentHeader(creg_sizes=[['meas', 8]], global_phase=0.0, memory_slots=8, n_qubits=8, name='circuit-114', qreg_sizes=[['q', 8]], metadata={}), status=DONE, circuit=Circuit(qubit=8, num_memory=8, num_registers=0, ops={measure[0],[],measure[1],[],measure[2],[],measure[3],[],measure[4],[],measure[5],[],measure[6],[],measure[7],[]}, shots=1024, seed=1860944768, global_phase_angle=0), seed_simulator=1860944768, metadata={'noise': 'ideal', 'batched_shots_optimization': False, 'measure_sampling': True, 'parallel_shots': 1, 'remapped_qubits': False, 'active_input_qubits': [0, 1, 2, 3, 4, 5, 6, 7], 'num_clbits': 8, 'parallel_state_update': 2, 'sample_measure_time': 0.003148062, 'num_qubits': 8, 'device': 'CPU', 'input_qubit_map': [[7, 7], [6, 6], [5, 5], [4, 4], [3, 3], [2, 2], [1, 1], [0, 0]], 'method': 'stabilizer', 'fusion': {'enabled': False}}, time_taken=0.005109367)], date=2023-07-03T07:11:28.740292, status=COMPLETED, header=None, metadata={'time_taken_execute': 0.005148991, 'mpi_rank': 0, 'num_mpi_processes': 1, 'max_gpu_memory_mb': 0, 'max_memory_mb': 12982, 'parallel_experiments': 1, 'num_processes_per_experiments': 1, 'omp_enabled': True}, time_taken=0.005879640579223633)"
            ]
          },
          "metadata": {},
          "execution_count": 13
        }
      ]
    },
    {
      "cell_type": "markdown",
      "source": [
        "You see the result. It's very complicated and detailed, about the `job_id` and every detail the circuit. But we don't need much, we only need to see the measurement. So we use:"
      ],
      "metadata": {
        "id": "ft93lVVhl6kf"
      }
    },
    {
      "cell_type": "code",
      "source": [
        "counts = result.get_counts()\n",
        "counts"
      ],
      "metadata": {
        "colab": {
          "base_uri": "https://localhost:8080/"
        },
        "id": "ZoMa_nMxl5nv",
        "outputId": "2564b3b3-fe8b-449a-baa9-a9e32bd36d57"
      },
      "execution_count": 14,
      "outputs": [
        {
          "output_type": "execute_result",
          "data": {
            "text/plain": [
              "{'00000000': 1024}"
            ]
          },
          "metadata": {},
          "execution_count": 14
        }
      ]
    },
    {
      "cell_type": "markdown",
      "source": [
        "This shows how many times a certain shot was measured, and we can see that we measured $00000000$ 100% of the times. The $1024$ at the end tells the number of shots or number of times the circuit was executed. The reason for running many times and showing the result as a histogram is because quantum computers may have some randomness in their results. In this case, since we aren’t doing anything quantum, we get just the 0 result with certainty.\n",
        "\n",
        "\n",
        "\n",
        " Let's plot this"
      ],
      "metadata": {
        "id": "82IHZqWNmNze"
      }
    },
    {
      "cell_type": "code",
      "source": [
        "plot_histogram(counts)"
      ],
      "metadata": {
        "colab": {
          "base_uri": "https://localhost:8080/",
          "height": 530
        },
        "id": "GMps3OegmNEO",
        "outputId": "406dc543-2c48-43e9-e872-804927b048bb"
      },
      "execution_count": 15,
      "outputs": [
        {
          "output_type": "execute_result",
          "data": {
            "text/plain": [
              "<Figure size 700x500 with 1 Axes>"
            ],
            "image/png": "[encoded data removed]"
          },
          "metadata": {},
          "execution_count": 15
        }
      ]
    },
    {
      "cell_type": "markdown",
      "source": [
        "### What is a qubit?\n",
        "\n",
        "Let's look at it from the Linear Algebra point of view. Since we are also working with mathematical representations.\n",
        "\n",
        "\n",
        "We'll again start by creating a quantum circuit."
      ],
      "metadata": {
        "id": "yN20TVC8pGtX"
      }
    },
    {
      "cell_type": "code",
      "source": [
        "qcirc = QuantumCircuit(1)  # only a single qubit quantum circuit\n",
        "qcirc.draw('mpl')          # let's visualize the circuit"
      ],
      "metadata": {
        "colab": {
          "base_uri": "https://localhost:8080/",
          "height": 127
        },
        "id": "qDoSxxaLpgHX",
        "outputId": "e137db0e-17e9-410d-a1cd-c7473c76e226"
      },
      "execution_count": 16,
      "outputs": [
        {
          "output_type": "execute_result",
          "data": {
            "text/plain": [
              "<Figure size 143.647x117.056 with 1 Axes>"
            ],
            "image/png": "[encoded data removed]"
          },
          "metadata": {},
          "execution_count": 16
        }
      ]
    },
    {
      "cell_type": "markdown",
      "source": [
        "The state $|0⟩$ is a vector $\\begin{bmatrix} 1 \\\\ 0 \\end{bmatrix}$ and the state $|1\\rangle$ is also a vector, represented by $\\begin{bmatrix} 0 \\\\ 1 \\end{bmatrix}$\n",
        "\n",
        "\n",
        "Let's initialize this as a state"
      ],
      "metadata": {
        "id": "oLwVdyyhpwdo"
      }
    },
    {
      "cell_type": "code",
      "source": [
        "qcirc.initialize([1,0])\n",
        "qcirc.draw('mpl')"
      ],
      "metadata": {
        "colab": {
          "base_uri": "https://localhost:8080/",
          "height": 127
        },
        "id": "2DUVsawLqp7O",
        "outputId": "f9794a19-b13f-4711-d653-ad479092b8d5"
      },
      "execution_count": 17,
      "outputs": [
        {
          "output_type": "execute_result",
          "data": {
            "text/plain": [
              "<Figure size 185.453x117.056 with 1 Axes>"
            ],
            "image/png": "[encoded data removed]"
          },
          "metadata": {},
          "execution_count": 17
        }
      ]
    },
    {
      "cell_type": "markdown",
      "source": [
        "by this `QuantumCircuit.initialize` function, you can initialize your quantum state in any vector you want.\n",
        "\n",
        "This is just qubit initialized in $|0⟩$ state.\n",
        "\n",
        "\n",
        "Let's measure the state, we would be getting the result `0` 100% of time."
      ],
      "metadata": {
        "id": "wYc9CsFiqxo3"
      }
    },
    {
      "cell_type": "code",
      "source": [
        "qcirc.measure_all()         # applying the measurement"
      ],
      "metadata": {
        "id": "ndJCWQMrrb_Y"
      },
      "execution_count": 19,
      "outputs": []
    },
    {
      "cell_type": "code",
      "source": [
        "qcirc.draw('mpl')"
      ],
      "metadata": {
        "colab": {
          "base_uri": "https://localhost:8080/",
          "height": 191
        },
        "id": "IpZ7efspr5TI",
        "outputId": "c1627012-56d7-4c45-a01d-096883049659"
      },
      "execution_count": 25,
      "outputs": [
        {
          "output_type": "execute_result",
          "data": {
            "text/plain": [
              "<Figure size 413.165x200.667 with 1 Axes>"
            ],
            "image/png": "[encoded data removed]"
          },
          "metadata": {},
          "execution_count": 25
        }
      ]
    },
    {
      "cell_type": "code",
      "source": [
        "result = sim.run(qcirc).result()\n",
        "counts = result.get_counts()\n",
        "counts"
      ],
      "metadata": {
        "colab": {
          "base_uri": "https://localhost:8080/"
        },
        "id": "cUG-QguorSwH",
        "outputId": "b2c5cab4-999f-4cd2-ea27-0c31ea3cae23"
      },
      "execution_count": 22,
      "outputs": [
        {
          "output_type": "execute_result",
          "data": {
            "text/plain": [
              "{'0': 1024}"
            ]
          },
          "metadata": {},
          "execution_count": 22
        }
      ]
    },
    {
      "cell_type": "code",
      "source": [
        "plot_histogram(counts)"
      ],
      "metadata": {
        "colab": {
          "base_uri": "https://localhost:8080/",
          "height": 449
        },
        "id": "kAMyMS_Srj24",
        "outputId": "281d0182-81a6-4273-85cc-8a68274a29cd"
      },
      "execution_count": 21,
      "outputs": [
        {
          "output_type": "execute_result",
          "data": {
            "text/plain": [
              "<Figure size 700x500 with 1 Axes>"
            ],
            "image/png": "[encoded data removed]"
          },
          "metadata": {},
          "execution_count": 21
        }
      ]
    },
    {
      "cell_type": "markdown",
      "source": [
        "We can also change the number of shots."
      ],
      "metadata": {
        "id": "9ehdeX3lrnnn"
      }
    },
    {
      "cell_type": "code",
      "source": [
        "result = sim.run(qcirc, shots = 2000).result()\n",
        "counts = result.get_counts()\n",
        "counts"
      ],
      "metadata": {
        "colab": {
          "base_uri": "https://localhost:8080/"
        },
        "id": "kqXl1BaorrHf",
        "outputId": "47f0c3b9-48ef-4189-fc0e-e361f5ec0615"
      },
      "execution_count": 23,
      "outputs": [
        {
          "output_type": "execute_result",
          "data": {
            "text/plain": [
              "{'0': 2000}"
            ]
          },
          "metadata": {},
          "execution_count": 23
        }
      ]
    },
    {
      "cell_type": "code",
      "source": [
        "plot_histogram(counts)"
      ],
      "metadata": {
        "colab": {
          "base_uri": "https://localhost:8080/",
          "height": 449
        },
        "id": "2Ace6t-9r2Tg",
        "outputId": "326b2cfd-98e8-4a63-be4a-d2b0b9cf8d1d"
      },
      "execution_count": 24,
      "outputs": [
        {
          "output_type": "execute_result",
          "data": {
            "text/plain": [
              "<Figure size 700x500 with 1 Axes>"
            ],
            "image/png": "[encoded data removed]"
          },
          "metadata": {},
          "execution_count": 24
        }
      ]
    },
    {
      "cell_type": "markdown",
      "source": [
        "Another way of creating the quantum circuit is presented below. In it, we create quantum registers (qubits), classical registers (bits) and the results from the qubit measurement are stored in the classical register (the bit)."
      ],
      "metadata": {
        "id": "oXHPUc1OsAQZ"
      }
    },
    {
      "cell_type": "code",
      "source": [
        "from qiskit import QuantumRegister, ClassicalRegister"
      ],
      "metadata": {
        "id": "Xdf8xEpesQ6P"
      },
      "execution_count": 27,
      "outputs": []
    },
    {
      "cell_type": "code",
      "source": [
        "qr = QuantumRegister(1,'q0')            # you can specifically name the qubit q0\n",
        "cr = ClassicalRegister(1,'c0')\n",
        "qc = QuantumCircuit(qr, cr)             # combine the quantum and classical register\n",
        "qc.initialize([1,0],0)\n",
        "qc.measure(0,0)                         # apply the measurement as operator\n",
        "qc.draw('mpl')"
      ],
      "metadata": {
        "colab": {
          "base_uri": "https://localhost:8080/",
          "height": 191
        },
        "id": "HgCvf-N_sAtg",
        "outputId": "a2664f6e-23f3-4e85-c273-72496605dd3c"
      },
      "execution_count": 28,
      "outputs": [
        {
          "output_type": "execute_result",
          "data": {
            "text/plain": [
              "<Figure size 287.093x200.667 with 1 Axes>"
            ],
            "image/png": "[encoded data removed]"
          },
          "metadata": {},
          "execution_count": 28
        }
      ]
    },
    {
      "cell_type": "markdown",
      "source": [
        "Run the cirucit on simulator"
      ],
      "metadata": {
        "id": "cJwbl1WFsy3H"
      }
    },
    {
      "cell_type": "code",
      "source": [
        "result = sim.run(qc, shots = 2000).result()\n",
        "counts = result.get_counts()\n",
        "counts"
      ],
      "metadata": {
        "colab": {
          "base_uri": "https://localhost:8080/"
        },
        "id": "8MiqTm7Ks1_X",
        "outputId": "ad771233-0ec7-4aa9-de98-651aae14e578"
      },
      "execution_count": 29,
      "outputs": [
        {
          "output_type": "execute_result",
          "data": {
            "text/plain": [
              "{'0': 2000}"
            ]
          },
          "metadata": {},
          "execution_count": 29
        }
      ]
    },
    {
      "cell_type": "code",
      "source": [
        "plot_histogram(counts)"
      ],
      "metadata": {
        "colab": {
          "base_uri": "https://localhost:8080/",
          "height": 449
        },
        "id": "R9WbomuQs4mH",
        "outputId": "fa654275-8ee6-4cc8-c28e-8e292dfefaf7"
      },
      "execution_count": 30,
      "outputs": [
        {
          "output_type": "execute_result",
          "data": {
            "text/plain": [
              "<Figure size 700x500 with 1 Axes>"
            ],
            "image/png": "[encoded data removed]"
          },
          "metadata": {},
          "execution_count": 30
        }
      ]
    },
    {
      "cell_type": "markdown",
      "source": [
        "**Congratulations** you just ran your first quantum circuit. In the next lecture we will learn about quantum operations or Basic gates."
      ],
      "metadata": {
        "id": "YBFXvskKmc83"
      }
    }
  ]
}