{
  "cells": [
    {
      "cell_type": "markdown",
      "metadata": {
        "colab_type": "text",
        "id": "view-in-github"
      },
      "source": [
        "<a href=\"https://colab.research.google.com/github/MonitSharma/Quantum-Computing-with-Qiskit-and-IBMQ/blob/main/Atoms_of_Computation.ipynb\" target=\"_parent\"><img src=\"https://colab.research.google.com/assets/colab-badge.svg\" alt=\"Open In Colab\"/></a>"
      ]
    },
    {
      "cell_type": "markdown",
      "metadata": {
        "id": "q-vNOnI-ef-e"
      },
      "source": [
        "# Atoms of Computation\n",
        "\n",
        "\n",
        "You can program a quantum computer from the comfort of your home. But to understand quantum computing and how it works, we have to begin with how classical computers work,  Let's see this in brief:\n"
      ]
    },
    {
      "cell_type": "code",
      "execution_count": 3,
      "metadata": {
        "id": "R4x3EhWNecmO"
      },
      "outputs": [],
      "source": [
        "from qiskit.circuit import QuantumCircuit\n",
        "from qiskit_aer import AerSimulator\n",
        "from qiskit.visualization import plot_histogram"
      ]
    },
    {
      "cell_type": "markdown",
      "metadata": {
        "id": "Zo69bGQDe7X1"
      },
      "source": [
        "## Unit of Information: Bits\n",
        "\n",
        "Welcome to the fascinating world of information! 🌟 In this section, we'll delve into the fundamental unit of information: bits. 🧐\n",
        "\n",
        "🤔 But what exactly is a bit? 🤔\n",
        "\n",
        "Imagine a world where everything is reduced to its simplest form—a world of zeros and ones. That's precisely what a bit represents: the building block of digital information. 🧱\n",
        "\n",
        "✨ The term \"bit\" is a contraction of \"binary digit,\" and it carries an incredible power to store and transmit information. It's like the atom of the digital realm, the tiniest speck that can hold a universe of meaning. 🌌\n",
        "\n",
        "To put it simply, a bit can have one of two values: 0 or 1. It's the ultimate yes-or-no, true-or-false, on-or-off switch. But don't be fooled by its seemingly limited range! 🎯\n",
        "\n",
        "Bits come together like puzzle pieces to form larger units of information. Eight bits make up a byte, which can represent a single character of text or a small number. With every additional bit, the possibilities expand exponentially. 💥\n",
        "\n",
        "In the vast landscape of digital communication and computation, bits are the currency of exchange. They flow through the circuits of our devices, bringing life to our screens and enabling the marvels of modern technology. 🌐💻"
      ]
    },
    {
      "cell_type": "markdown",
      "metadata": {
        "id": "GFHDewYqfiaO"
      },
      "source": [
        "We are used to represent numbers through a string of $0$ to $9$. In the string of digits, each digit represents how many times the number contains a certain power of ten. For example $9213$ means:\n",
        "\n",
        "$$ 9000 + 200 + 10 + 3 $$\n",
        "\n",
        "or we can write it as\n",
        "\n",
        "$$ 9213 = ( 1 \\times 2^{13}) +  (0 \\times 2^{12}) + (0 \\times 2^{11}) + ( 0 \\times 2^{10}) \\\\ + (1 \\times 2^{9}) + (1 \\times 2^{8}) + ( 1 \\times 2^{7}) +  (1 \\times 2^{6}) \\\\\n",
        "+  ( 1 \\times 2^{5}) +  (1 \\times 2^{4}) + ( 1 \\times 2^{3}) +   (1 \\times 2^{2}) \\\\ +  (0 \\times 2^{1}) +  ( 1 \\times 2^{0}) $$\n",
        "\n",
        "\n",
        "Hence in binary it can be written as $10001111111101$"
      ]
    },
    {
      "cell_type": "code",
      "execution_count": 4,
      "metadata": {
        "colab": {
          "base_uri": "https://localhost:8080/"
        },
        "id": "br9XAv0ve6C-",
        "outputId": "9fe2bf09-2c48-40ae-bcf5-2f16e3feb860"
      },
      "outputs": [
        {
          "name": "stdout",
          "output_type": "stream",
          "text": [
            "The binary representation of 42 is: 101010\n"
          ]
        }
      ],
      "source": [
        "def decimal_to_binary(decimal):\n",
        "    binary = \"\"\n",
        "    if decimal == 0:\n",
        "        return \"0\"\n",
        "    while decimal > 0:\n",
        "        binary = str(decimal % 2) + binary\n",
        "        decimal //= 2\n",
        "    return binary\n",
        "\n",
        "# Example usage\n",
        "decimal_number = 42\n",
        "binary_number = decimal_to_binary(decimal_number)\n",
        "print(f\"The binary representation of {decimal_number} is: {binary_number}\")\n"
      ]
    },
    {
      "cell_type": "code",
      "execution_count": 5,
      "metadata": {
        "colab": {
          "base_uri": "https://localhost:8080/"
        },
        "id": "nbNbBGhahdCe",
        "outputId": "6a9cf40f-1903-420c-fe17-c5fd4713d258"
      },
      "outputs": [
        {
          "name": "stdout",
          "output_type": "stream",
          "text": [
            "The decimal representation of 101010 is: 42\n"
          ]
        }
      ],
      "source": [
        "def binary_to_decimal(binary):\n",
        "    decimal = 0\n",
        "    power = len(binary) - 1\n",
        "    for digit in binary:\n",
        "        decimal += int(digit) * (2 ** power)\n",
        "        power -= 1\n",
        "    return decimal\n",
        "\n",
        "# Example usage\n",
        "binary_number = \"101010\"\n",
        "decimal_number = binary_to_decimal(binary_number)\n",
        "print(f\"The decimal representation of {binary_number} is: {decimal_number}\")\n"
      ]
    },
    {
      "cell_type": "markdown",
      "metadata": {
        "id": "Xj6tGMcVhwql"
      },
      "source": [
        "## Computation as Diagram\n",
        "\n",
        "Whether we are using bits or qubits, we need to manipulate then in order to turn the inputs we have into outputs we need. We will demonstrate with circuit diagrams, with the inputs on the left and the output on the right. These operations are called **gates**. Here's an example of what a circuit looks like:\n",
        "\n",
        "\n",
        "\n",
        "![](https://learn.qiskit.org/content/v2/ch-states/images/classical_circuit.png)\n",
        "You aren't expected to know what this does.\n",
        "\n",
        "\n",
        "\n",
        "\n",
        "---\n",
        "\n",
        "For a quantum computer, we use the same idea and make a quantum circuit:\n",
        "\n",
        "\n",
        "\n",
        "![](https://learn.qiskit.org/content/v2/ch-states/images/quantum_circuit.png)\n",
        "\n",
        "\n",
        "\n",
        "\n",
        "**Now let's make a quantum circuit of our own**\n",
        "\n",
        "\n",
        "Don't get worried about what these gates are, and what they are doing, we will see that shortly in detail.\n",
        "\n",
        "\n",
        "\n",
        "\n",
        "\n"
      ]
    },
    {
      "cell_type": "markdown",
      "metadata": {
        "id": "c4XzQLakjRK5"
      },
      "source": [
        "## First Quantum Circuit\n",
        "\n",
        "In making a quantum circuit, we need to do three jobs.\n",
        "1. Encode the input\n",
        "2. Do some computation\n",
        "3. Extract the result\n",
        "\n",
        "![](https://learn.qiskit.org/content/v2/ch-states/images/half-adder.svg)\n",
        "\n",
        "Let's start by creating a quantum circuit"
      ]
    },
    {
      "cell_type": "code",
      "execution_count": 6,
      "metadata": {
        "id": "-Zg1HDA0jPJu"
      },
      "outputs": [],
      "source": [
        "qcirc = QuantumCircuit(8)"
      ]
    },
    {
      "cell_type": "markdown",
      "metadata": {
        "id": "VvuNtDFojmsf"
      },
      "source": [
        "So, we created a quantum circuit by the name `qcirc` and using the `QuantumCircuit` function of Python. This function takes in the number of **qubits** we need for the quantum circuit.\n",
        "\n"
      ]
    },
    {
      "cell_type": "markdown",
      "metadata": {
        "id": "vP1W_wXkj1xX"
      },
      "source": [
        "To extract the output, we need to do a measurement, hence use the `measure_all` function of qiskit. It measures all the qubits and give specific output bit"
      ]
    },
    {
      "cell_type": "code",
      "execution_count": 7,
      "metadata": {
        "id": "TJ2YCo86jl6A"
      },
      "outputs": [],
      "source": [
        "qcirc.measure_all()"
      ]
    },
    {
      "cell_type": "markdown",
      "metadata": {
        "id": "n8Eom3wekPV1"
      },
      "source": [
        "We can also visualize how our quantum circuit looks like by using the `draw` function of qiskit."
      ]
    },
    {
      "cell_type": "code",
      "execution_count": 8,
      "metadata": {
        "colab": {
          "base_uri": "https://localhost:8080/",
          "height": 310
        },
        "id": "CD_XS_7IkkC3",
        "outputId": "33724c0a-8627-47ee-f7d6-fbbefa465d7b"
      },
      "outputs": [
        {
          "data": {
            "text/html": [
              "<pre style=\"word-wrap: normal;white-space: pre;background: #fff0;line-height: 1.1;font-family: &quot;Courier New&quot;,Courier,monospace\">         ░ ┌─┐                     \n",
              "   q_0: ─░─┤M├─────────────────────\n",
              "         ░ └╥┘┌─┐                  \n",
              "   q_1: ─░──╫─┤M├──────────────────\n",
              "         ░  ║ └╥┘┌─┐               \n",
              "   q_2: ─░──╫──╫─┤M├───────────────\n",
              "         ░  ║  ║ └╥┘┌─┐            \n",
              "   q_3: ─░──╫──╫──╫─┤M├────────────\n",
              "         ░  ║  ║  ║ └╥┘┌─┐         \n",
              "   q_4: ─░──╫──╫──╫──╫─┤M├─────────\n",
              "         ░  ║  ║  ║  ║ └╥┘┌─┐      \n",
              "   q_5: ─░──╫──╫──╫──╫──╫─┤M├──────\n",
              "         ░  ║  ║  ║  ║  ║ └╥┘┌─┐   \n",
              "   q_6: ─░──╫──╫──╫──╫──╫──╫─┤M├───\n",
              "         ░  ║  ║  ║  ║  ║  ║ └╥┘┌─┐\n",
              "   q_7: ─░──╫──╫──╫──╫──╫──╫──╫─┤M├\n",
              "         ░  ║  ║  ║  ║  ║  ║  ║ └╥┘\n",
              "meas: 8/════╩══╩══╩══╩══╩══╩══╩══╩═\n",
              "            0  1  2  3  4  5  6  7 </pre>"
            ],
            "text/plain": [
              "         ░ ┌─┐                     \n",
              "   q_0: ─░─┤M├─────────────────────\n",
              "         ░ └╥┘┌─┐                  \n",
              "   q_1: ─░──╫─┤M├──────────────────\n",
              "         ░  ║ └╥┘┌─┐               \n",
              "   q_2: ─░──╫──╫─┤M├───────────────\n",
              "         ░  ║  ║ └╥┘┌─┐            \n",
              "   q_3: ─░──╫──╫──╫─┤M├────────────\n",
              "         ░  ║  ║  ║ └╥┘┌─┐         \n",
              "   q_4: ─░──╫──╫──╫──╫─┤M├─────────\n",
              "         ░  ║  ║  ║  ║ └╥┘┌─┐      \n",
              "   q_5: ─░──╫──╫──╫──╫──╫─┤M├──────\n",
              "         ░  ║  ║  ║  ║  ║ └╥┘┌─┐   \n",
              "   q_6: ─░──╫──╫──╫──╫──╫──╫─┤M├───\n",
              "         ░  ║  ║  ║  ║  ║  ║ └╥┘┌─┐\n",
              "   q_7: ─░──╫──╫──╫──╫──╫──╫──╫─┤M├\n",
              "         ░  ║  ║  ║  ║  ║  ║  ║ └╥┘\n",
              "meas: 8/════╩══╩══╩══╩══╩══╩══╩══╩═\n",
              "            0  1  2  3  4  5  6  7 "
            ]
          },
          "execution_count": 8,
          "metadata": {},
          "output_type": "execute_result"
        }
      ],
      "source": [
        "qcirc.draw()"
      ]
    },
    {
      "cell_type": "markdown",
      "metadata": {
        "id": "cikZu4jbksWO"
      },
      "source": [
        "These are bit bland, not that colorful. To make quantum circuits more colorful, you need to install `pylatexenc` library\n",
        "\n",
        "Simply run\n",
        "```python\n",
        "%pip install pylatexenc\n",
        "```\n",
        "\n",
        "and then run the below code:"
      ]
    },
    {
      "cell_type": "code",
      "execution_count": 9,
      "metadata": {
        "colab": {
          "base_uri": "https://localhost:8080/",
          "height": 642
        },
        "id": "s9DY8WvvkO1e",
        "outputId": "42ad08ba-4320-4fd4-8745-7ed0b53d21e8"
      },
      "outputs": [
        {
          "data": {
            "image/png": "[encoded data removed]",
            "text/plain": [
              "<Figure size 914.831x785.944 with 1 Axes>"
            ]
          },
          "execution_count": 9,
          "metadata": {},
          "output_type": "execute_result"
        }
      ],
      "source": [
        "qcirc.draw('mpl')"
      ]
    },
    {
      "cell_type": "markdown",
      "metadata": {
        "id": "Wk7NwUi-k7kO"
      },
      "source": [
        "Now the circuit is more colorful"
      ]
    },
    {
      "cell_type": "markdown",
      "metadata": {
        "id": "RGlwjKMNk97e"
      },
      "source": [
        "We started with $8$ qubits, which are represented here via $q_0, q_1,...q_7$, they all were initialised in $0$ state, and we didn't applied any gate in between and then measured directly. So our output will be $00000000$ , one zero for each qubit.\n",
        "\n",
        "Let's see how to run the circuit.\n",
        "(we'll learn about all the simulators and backends later)"
      ]
    },
    {
      "cell_type": "code",
      "execution_count": 10,
      "metadata": {},
      "outputs": [],
      "source": [
        "from qiskit.primitives import Sampler, Estimator, BackendEstimator, BackendSampler"
      ]
    },
    {
      "cell_type": "code",
      "execution_count": 11,
      "metadata": {
        "colab": {
          "base_uri": "https://localhost:8080/"
        },
        "id": "mnoM2U-KkY8e",
        "outputId": "6a4323fc-c430-42f5-ebd2-34551b3a80e0"
      },
      "outputs": [
        {
          "data": {
            "text/plain": [
              "SamplerResult(quasi_dists=[{0: 1.0}], metadata=[{'shots': 1024}])"
            ]
          },
          "execution_count": 11,
          "metadata": {},
          "output_type": "execute_result"
        }
      ],
      "source": [
        "backend = AerSimulator()  # decide the backend on which to run the circuit\n",
        "\n",
        "sampler = BackendSampler(backend)  # create a sampler object\n",
        "sampler2 = Sampler()\n",
        "\n",
        "result = sampler.run(qcirc).result()          # run the circuit and save the results\n",
        "\n",
        "result"
      ]
    },
    {
      "cell_type": "markdown",
      "metadata": {
        "id": "ft93lVVhl6kf"
      },
      "source": [
        "You see the result. It's very complicated and detailed, about the `job_id` and every detail the circuit. But we don't need much, we only need to see the measurement. So we use:"
      ]
    },
    {
      "cell_type": "code",
      "execution_count": 13,
      "metadata": {
        "colab": {
          "base_uri": "https://localhost:8080/"
        },
        "id": "ZoMa_nMxl5nv",
        "outputId": "2564b3b3-fe8b-449a-baa9-a9e32bd36d57"
      },
      "outputs": [
        {
          "name": "stdout",
          "output_type": "stream",
          "text": [
            "Counts {0: 1.0}\n"
          ]
        }
      ],
      "source": [
        "print(\"Counts\",result.quasi_dists[0])"
      ]
    },
    {
      "cell_type": "markdown",
      "metadata": {
        "id": "82IHZqWNmNze"
      },
      "source": [
        "This shows how many times a certain shot was measured, and we can see that we measured $00000000$ 100% of the times. The $1024$ at the end tells the number of shots or number of times the circuit was executed. The reason for running many times and showing the result as a histogram is because quantum computers may have some randomness in their results. In this case, since we aren’t doing anything quantum, we get just the 0 result with certainty.\n",
        "\n",
        "\n",
        "\n",
        " Let's plot this"
      ]
    },
    {
      "cell_type": "code",
      "execution_count": 14,
      "metadata": {
        "colab": {
          "base_uri": "https://localhost:8080/",
          "height": 530
        },
        "id": "GMps3OegmNEO",
        "outputId": "406dc543-2c48-43e9-e872-804927b048bb"
      },
      "outputs": [
        {
          "data": {
            "image/png": "[encoded data removed]",
            "text/plain": [
              "<Figure size 640x480 with 1 Axes>"
            ]
          },
          "execution_count": 14,
          "metadata": {},
          "output_type": "execute_result"
        }
      ],
      "source": [
        "plot_histogram(result.quasi_dists[0])"
      ]
    },
    {
      "cell_type": "markdown",
      "metadata": {
        "id": "yN20TVC8pGtX"
      },
      "source": [
        "### What is a qubit?\n",
        "\n",
        "Let's look at it from the Linear Algebra point of view. Since we are also working with mathematical representations.\n",
        "\n",
        "\n",
        "We'll again start by creating a quantum circuit."
      ]
    },
    {
      "cell_type": "code",
      "execution_count": 15,
      "metadata": {
        "colab": {
          "base_uri": "https://localhost:8080/",
          "height": 127
        },
        "id": "qDoSxxaLpgHX",
        "outputId": "e137db0e-17e9-410d-a1cd-c7473c76e226"
      },
      "outputs": [
        {
          "data": {
            "image/png": "[encoded data removed]",
            "text/plain": [
              "<Figure size 143.647x117.056 with 1 Axes>"
            ]
          },
          "execution_count": 15,
          "metadata": {},
          "output_type": "execute_result"
        }
      ],
      "source": [
        "qcirc = QuantumCircuit(1)  # only a single qubit quantum circuit\n",
        "qcirc.draw('mpl')          # let's visualize the circuit"
      ]
    },
    {
      "cell_type": "markdown",
      "metadata": {
        "id": "oLwVdyyhpwdo"
      },
      "source": [
        "The state $|0⟩$ is a vector $\\begin{bmatrix} 1 \\\\ 0 \\end{bmatrix}$ and the state $|1\\rangle$ is also a vector, represented by $\\begin{bmatrix} 0 \\\\ 1 \\end{bmatrix}$\n",
        "\n",
        "\n",
        "Let's initialize this as a state"
      ]
    },
    {
      "cell_type": "code",
      "execution_count": 16,
      "metadata": {
        "colab": {
          "base_uri": "https://localhost:8080/",
          "height": 127
        },
        "id": "2DUVsawLqp7O",
        "outputId": "f9794a19-b13f-4711-d653-ad479092b8d5"
      },
      "outputs": [
        {
          "data": {
            "image/png": "[encoded data removed]",
            "text/plain": [
              "<Figure size 185.453x117.056 with 1 Axes>"
            ]
          },
          "execution_count": 16,
          "metadata": {},
          "output_type": "execute_result"
        }
      ],
      "source": [
        "qcirc.initialize([1,0])\n",
        "qcirc.draw('mpl')"
      ]
    },
    {
      "cell_type": "markdown",
      "metadata": {
        "id": "wYc9CsFiqxo3"
      },
      "source": [
        "by this `QuantumCircuit.initialize` function, you can initialize your quantum state in any vector you want.\n",
        "\n",
        "This is just qubit initialized in $|0⟩$ state.\n",
        "\n",
        "\n",
        "Let's measure the state, we would be getting the result `0` 100% of time."
      ]
    },
    {
      "cell_type": "code",
      "execution_count": 17,
      "metadata": {
        "id": "ndJCWQMrrb_Y"
      },
      "outputs": [],
      "source": [
        "qcirc.measure_all()         # applying the measurement"
      ]
    },
    {
      "cell_type": "code",
      "execution_count": 18,
      "metadata": {
        "colab": {
          "base_uri": "https://localhost:8080/",
          "height": 191
        },
        "id": "IpZ7efspr5TI",
        "outputId": "c1627012-56d7-4c45-a01d-096883049659"
      },
      "outputs": [
        {
          "data": {
            "image/png": "[encoded data removed]",
            "text/plain": [
              "<Figure size 413.165x200.667 with 1 Axes>"
            ]
          },
          "execution_count": 18,
          "metadata": {},
          "output_type": "execute_result"
        }
      ],
      "source": [
        "qcirc.draw('mpl')"
      ]
    },
    {
      "cell_type": "code",
      "execution_count": 19,
      "metadata": {
        "colab": {
          "base_uri": "https://localhost:8080/"
        },
        "id": "cUG-QguorSwH",
        "outputId": "b2c5cab4-999f-4cd2-ea27-0c31ea3cae23"
      },
      "outputs": [
        {
          "data": {
            "text/plain": [
              "{0: 1.0}"
            ]
          },
          "execution_count": 19,
          "metadata": {},
          "output_type": "execute_result"
        }
      ],
      "source": [
        "result = sampler.run(qcirc).result()\n",
        "counts = result.quasi_dists[0]\n",
        "counts"
      ]
    },
    {
      "cell_type": "code",
      "execution_count": 20,
      "metadata": {
        "colab": {
          "base_uri": "https://localhost:8080/",
          "height": 449
        },
        "id": "kAMyMS_Srj24",
        "outputId": "281d0182-81a6-4273-85cc-8a68274a29cd"
      },
      "outputs": [
        {
          "data": {
            "image/png": "[encoded data removed]",
            "text/plain": [
              "<Figure size 640x480 with 1 Axes>"
            ]
          },
          "execution_count": 20,
          "metadata": {},
          "output_type": "execute_result"
        }
      ],
      "source": [
        "plot_histogram(counts)"
      ]
    },
    {
      "cell_type": "markdown",
      "metadata": {
        "id": "9ehdeX3lrnnn"
      },
      "source": [
        "We can also change the number of shots."
      ]
    },
    {
      "cell_type": "code",
      "execution_count": 21,
      "metadata": {
        "colab": {
          "base_uri": "https://localhost:8080/"
        },
        "id": "kqXl1BaorrHf",
        "outputId": "47f0c3b9-48ef-4189-fc0e-e361f5ec0615"
      },
      "outputs": [
        {
          "data": {
            "text/plain": [
              "{0: 1.0}"
            ]
          },
          "execution_count": 21,
          "metadata": {},
          "output_type": "execute_result"
        }
      ],
      "source": [
        "result = sampler.run(qcirc, shots = 2000).result()\n",
        "counts = result.quasi_dists[0]\n",
        "counts"
      ]
    },
    {
      "cell_type": "code",
      "execution_count": 22,
      "metadata": {
        "colab": {
          "base_uri": "https://localhost:8080/",
          "height": 449
        },
        "id": "2Ace6t-9r2Tg",
        "outputId": "326b2cfd-98e8-4a63-be4a-d2b0b9cf8d1d"
      },
      "outputs": [
        {
          "data": {
            "image/png": "[encoded data removed]",
            "text/plain": [
              "<Figure size 640x480 with 1 Axes>"
            ]
          },
          "execution_count": 22,
          "metadata": {},
          "output_type": "execute_result"
        }
      ],
      "source": [
        "plot_histogram(counts)"
      ]
    },
    {
      "cell_type": "markdown",
      "metadata": {
        "id": "oXHPUc1OsAQZ"
      },
      "source": [
        "Another way of creating the quantum circuit is presented below. In it, we create quantum registers (qubits), classical registers (bits) and the results from the qubit measurement are stored in the classical register (the bit)."
      ]
    },
    {
      "cell_type": "code",
      "execution_count": 23,
      "metadata": {
        "id": "Xdf8xEpesQ6P"
      },
      "outputs": [],
      "source": [
        "from qiskit import QuantumRegister, ClassicalRegister"
      ]
    },
    {
      "cell_type": "code",
      "execution_count": 24,
      "metadata": {
        "colab": {
          "base_uri": "https://localhost:8080/",
          "height": 191
        },
        "id": "HgCvf-N_sAtg",
        "outputId": "a2664f6e-23f3-4e85-c273-72496605dd3c"
      },
      "outputs": [
        {
          "data": {
            "image/png": "[encoded data removed]",
            "text/plain": [
              "<Figure size 287.093x200.667 with 1 Axes>"
            ]
          },
          "execution_count": 24,
          "metadata": {},
          "output_type": "execute_result"
        }
      ],
      "source": [
        "qr = QuantumRegister(1,'q0')            # you can specifically name the qubit q0\n",
        "cr = ClassicalRegister(1,'c0')\n",
        "qc = QuantumCircuit(qr, cr)             # combine the quantum and classical register\n",
        "qc.initialize([1,0],0)\n",
        "qc.measure(0,0)                         # apply the measurement as operator\n",
        "qc.draw('mpl')"
      ]
    },
    {
      "cell_type": "markdown",
      "metadata": {
        "id": "cJwbl1WFsy3H"
      },
      "source": [
        "Run the cirucit on simulator"
      ]
    },
    {
      "cell_type": "code",
      "execution_count": 25,
      "metadata": {
        "colab": {
          "base_uri": "https://localhost:8080/"
        },
        "id": "8MiqTm7Ks1_X",
        "outputId": "ad771233-0ec7-4aa9-de98-651aae14e578"
      },
      "outputs": [
        {
          "data": {
            "text/plain": [
              "{0: 1.0}"
            ]
          },
          "execution_count": 25,
          "metadata": {},
          "output_type": "execute_result"
        }
      ],
      "source": [
        "result = sampler.run(qc, shots = 2000).result()\n",
        "counts = result.quasi_dists[0]\n",
        "counts"
      ]
    },
    {
      "cell_type": "code",
      "execution_count": 26,
      "metadata": {
        "colab": {
          "base_uri": "https://localhost:8080/",
          "height": 449
        },
        "id": "R9WbomuQs4mH",
        "outputId": "fa654275-8ee6-4cc8-c28e-8e292dfefaf7"
      },
      "outputs": [
        {
          "data": {
            "image/png": "[encoded data removed]",
            "text/plain": [
              "<Figure size 640x480 with 1 Axes>"
            ]
          },
          "execution_count": 26,
          "metadata": {},
          "output_type": "execute_result"
        }
      ],
      "source": [
        "plot_histogram(counts)"
      ]
    },
    {
      "cell_type": "markdown",
      "metadata": {
        "id": "YBFXvskKmc83"
      },
      "source": [
        "**Congratulations** you just ran your first quantum circuit. In the next lecture we will learn about quantum operations or Basic gates."
      ]
    }
  ],
  "metadata": {
    "colab": {
      "authorship_tag": "ABX9TyO+dG2dOizpsFii5KducbgY",
      "include_colab_link": true,
      "provenance": []
    },
    "kernelspec": {
      "display_name": "Python 3",
      "name": "python3"
    },
    "language_info": {
      "codemirror_mode": {
        "name": "ipython",
        "version": 3
      },
      "file_extension": ".py",
      "mimetype": "text/x-python",
      "name": "python",
      "nbconvert_exporter": "python",
      "pygments_lexer": "ipython3",
      "version": "3.12.2"
    }
  },
  "nbformat": 4,
  "nbformat_minor": 0
}
