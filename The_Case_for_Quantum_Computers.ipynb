{
  "nbformat": 4,
  "nbformat_minor": 0,
  "metadata": {
    "colab": {
      "provenance": [],
      "authorship_tag": "ABX9TyNKONpjgYWrMUZIYI+5qE78",
      "include_colab_link": true
    },
    "kernelspec": {
      "name": "python3",
      "display_name": "Python 3"
    },
    "language_info": {
      "name": "python"
    }
  },
  "cells": [
    {
      "cell_type": "markdown",
      "metadata": {
        "id": "view-in-github",
        "colab_type": "text"
      },
      "source": [
        "<a href=\"https://colab.research.google.com/github/MonitSharma/Learn-Quantum-Computing-with-Qiskit/blob/main/The_Case_for_Quantum_Computers.ipynb\" target=\"_parent\"><img src=\"https://colab.research.google.com/assets/colab-badge.svg\" alt=\"Open In Colab\"/></a>"
      ]
    },
    {
      "cell_type": "code",
      "source": [
        "%pip install pylatexenc\n",
        "%pip install qiskit"
      ],
      "metadata": {
        "colab": {
          "base_uri": "https://localhost:8080/"
        },
        "id": "7gyXeWB1t_Wj",
        "outputId": "687b9109-b351-4ee6-f091-9fd1f8c36ce7"
      },
      "execution_count": null,
      "outputs": [
        {
          "output_type": "stream",
          "name": "stdout",
          "text": [
            "Collecting pbr!=2.1.0,>=2.0.0 (from stevedore>=3.0.0->qiskit-terra==0.24.1->qiskit)\n",
            "  Downloading pbr-5.11.1-py2.py3-none-any.whl (112 kB)\n",
            "\u001b[?25l     \u001b[90m━━━━━━━━━━━━━━━━━━━━━━━━━━━━━━━━━━━━━━━━\u001b[0m \u001b[32m0.0/112.7 kB\u001b[0m \u001b[31m?\u001b[0m eta \u001b[36m-:--:--\u001b[0m\r\u001b[2K     \u001b[90m━━━━━━━━━━━━━━━━━━━━━━━━━━━━━━━━━━━━━━\u001b[0m \u001b[32m112.7/112.7 kB\u001b[0m \u001b[31m12.3 MB/s\u001b[0m eta \u001b[36m0:00:00\u001b[0m\n",
            "\u001b[?25hRequirement already satisfied: mpmath>=0.19 in /usr/local/lib/python3.10/dist-packages (from sympy>=1.3->qiskit-terra==0.24.1->qiskit) (1.3.0)\n",
            "Requirement already satisfied: cffi>=1.12 in /usr/local/lib/python3.10/dist-packages (from cryptography>=1.3->requests-ntlm<=1.1.0->qiskit-ibmq-provider==0.20.2->qiskit) (1.15.1)\n",
            "Requirement already satisfied: pycparser in /usr/local/lib/python3.10/dist-packages (from cffi>=1.12->cryptography>=1.3->requests-ntlm<=1.1.0->qiskit-ibmq-provider==0.20.2->qiskit) (2.21)\n",
            "Building wheels for collected packages: qiskit\n",
            "  Building wheel for qiskit (pyproject.toml) ... \u001b[?25l\u001b[?25hdone\n",
            "  Created wheel for qiskit: filename=qiskit-0.43.2-py3-none-any.whl size=7640 sha256=c201e89760b1f6e97ede27bfe9a6295b709348ec76c2fac38dcd7c568483944f\n",
            "  Stored in directory: /root/.cache/pip/wheels/d4/ad/4f/f54eb8743e54c5bab69837b842cf56a8a87ac7c57a2abf85ad\n",
            "Successfully built qiskit\n",
            "Installing collected packages: ply, websockets, symengine, rustworkx, pbr, ntlm-auth, dill, stevedore, cryptography, requests-ntlm, qiskit-terra, qiskit-ibmq-provider, qiskit-aer, qiskit\n",
            "Successfully installed cryptography-41.0.2 dill-0.3.6 ntlm-auth-1.5.0 pbr-5.11.1 ply-3.11 qiskit-0.43.2 qiskit-aer-0.12.1 qiskit-ibmq-provider-0.20.2 qiskit-terra-0.24.1 requests-ntlm-1.1.0 rustworkx-0.13.0 stevedore-5.1.0 symengine-0.9.2 websockets-11.0.3\n"
          ]
        }
      ]
    },
    {
      "cell_type": "markdown",
      "source": [
        "# The Case for Quantum Computers!"
      ],
      "metadata": {
        "id": "Y7tcZd-puHAy"
      }
    },
    {
      "cell_type": "markdown",
      "source": [
        "The rationale behind the utilization of quantum computers lies in their ability to tackle specific problems that are beyond the capabilities of classical computers. In order to comprehend this distinction, it is crucial to examine the computational complexity associated with solving particular problem sets."
      ],
      "metadata": {
        "id": "-UIp3ADiuZlz"
      }
    },
    {
      "cell_type": "markdown",
      "source": [
        "Let's consider a simple problem of adding two numbers:\n",
        "\n",
        "![Screenshot 2023-07-14 at 12-47-58 The Case for Quantum Computers.png](data:image/png;base64,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)"
      ],
      "metadata": {
        "id": "-u-fgBsiucla"
      }
    },
    {
      "cell_type": "markdown",
      "source": [
        "The process of adding two n-digit numbers can be accomplished through a series of elementary operations, wherein each operation involves adding two single-digit numbers. By evaluating the complexity of this procedure, we can determine the number of basic additions required and how this quantity relates to the value of n. This number can be denoted as O(n), representing the computational scaling of the addition operation."
      ],
      "metadata": {
        "id": "cXX-5mbXukkS"
      }
    },
    {
      "cell_type": "markdown",
      "source": [
        "For the easiest case, when there is no need to carry 1, only $n$ basic operations are required. In the worst case we need to perform $n$ carry operations, each will require an extra addition, so we conclude\n",
        "\n",
        "$$ n \\le O(n) \\le 2n $$"
      ],
      "metadata": {
        "id": "3cecUZ2Cu0LB"
      }
    },
    {
      "cell_type": "markdown",
      "source": [
        "## The Big O Notation\n",
        "\n",
        "We can infer from the above that $\\mathcal{O}(n)$ grows linearly with $n$. More generally, we can say that a linear function of $n$ can be found which acts as an upper bound for $\\mathcal{O}(n)$ when $n$ is large. Since this is a long and wordy sentence, we won't actually want to say this very often. Instead, we can express it more compactly using 'big O notation'.\n",
        "\n",
        "\n",
        "\n",
        "![Screenshot 2023-07-14 at 12-52-20 The Case for Quantum Computers.png](data:image/png;base64,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)"
      ],
      "metadata": {
        "id": "nLARQ9CBvKbi"
      }
    },
    {
      "cell_type": "markdown",
      "source": [
        "The significance of Big O notation lies in its ability to facilitate comparisons of how algorithmic resources and runtimes scale in relation to the size of the input, irrespective of the specific platform or implementation details. Below are illustrations of typical scaling factors, denoted as N, representing the runtime of an algorithm as a function of the input size, n. It becomes evident that for significantly large problem sizes, the runtime of an algorithm with a complexity of O(a^n) will surpass that of an algorithm with a complexity of O(n^b), where a and b are constants."
      ],
      "metadata": {
        "id": "HPC8uXPNv3by"
      }
    },
    {
      "cell_type": "code",
      "source": [
        "import matplotlib.pyplot as plt\n",
        "import time\n",
        "\n",
        "# Function with constant runtime complexity: O(1)\n",
        "def constant_time():\n",
        "    return 42\n",
        "\n",
        "# Function with linear runtime complexity: O(n)\n",
        "def linear_time(n):\n",
        "    result = 0\n",
        "    for i in range(n):\n",
        "        result += i\n",
        "    return result\n",
        "\n",
        "# Function with quadratic runtime complexity: O(n^2)\n",
        "def quadratic_time(n):\n",
        "    result = 0\n",
        "    for i in range(n):\n",
        "        for j in range(n):\n",
        "            result += i * j\n",
        "    return result\n",
        "\n",
        "# Function with exponential runtime complexity: O(2^n)\n",
        "def exponential_time(n):\n",
        "    if n <= 1:\n",
        "        return n\n",
        "    return exponential_time(n-1) + exponential_time(n-2)\n",
        "\n",
        "# Function to measure the execution time of a function\n",
        "def measure_time(func, *args):\n",
        "    start_time = time.time()\n",
        "    result = func(*args)\n",
        "    end_time = time.time()\n",
        "    execution_time = end_time - start_time\n",
        "    return execution_time\n",
        "\n",
        "# Input sizes\n",
        "input_sizes = list(range(1, 11))  # Adjust the input sizes as desired\n",
        "\n",
        "# Measure execution times for different complexities\n",
        "constant_times = [measure_time(constant_time) for _ in input_sizes]\n",
        "linear_times = [measure_time(linear_time, n) for n in input_sizes]\n",
        "quadratic_times = [measure_time(quadratic_time, n) for n in input_sizes]\n",
        "exponential_times = [measure_time(exponential_time, n) for n in input_sizes]\n",
        "\n",
        "# Plotting the graph\n",
        "plt.plot(input_sizes, constant_times, label='O(1)')\n",
        "plt.plot(input_sizes, linear_times, label='O(n)')\n",
        "plt.plot(input_sizes, quadratic_times, label='O(n^2)')\n",
        "plt.plot(input_sizes, exponential_times, label='O(2^n)')\n",
        "plt.xlabel('Input Size (n)')\n",
        "plt.ylabel('Execution Time (s)')\n",
        "plt.title('Runtime Complexity Comparison')\n",
        "plt.legend()\n",
        "plt.show()\n"
      ],
      "metadata": {
        "colab": {
          "base_uri": "https://localhost:8080/",
          "height": 472
        },
        "id": "MW30Xmj9uEw7",
        "outputId": "970d64af-022a-499a-f2bb-b055cee071a2"
      },
      "execution_count": null,
      "outputs": [
        {
          "output_type": "display_data",
          "data": {
            "text/plain": [
              "<Figure size 640x480 with 1 Axes>"
            ],
            "image/png": "[encoded data removed]"
          },
          "metadata": {}
        }
      ]
    },
    {
      "cell_type": "markdown",
      "source": [
        "## Complexity Theory\n",
        "\n",
        "Complexity theory encompasses the examination of the computational resources needed to execute algorithms. It allows us to explore the inherent computational effort involved in solving specific problems by considering the most efficient algorithm for the task at hand. In the case of addition, we already possess knowledge of the optimal algorithm, which provides insight into the complexity associated with this problem.\n",
        "\n",
        "\n",
        "Multiplication is not so simple. Algorithms we learned at school for multiplying two $n$ digit numbers will have required $\\mathcal{O}(n^2)$ basic operations, such as single-digit additions and multiplications. Though algorithms with lower asymptotic complexity have been found and it is impossible to perform a multiplication with $\\mathcal{O}(n)$ complexity.\n",
        "\n"
      ],
      "metadata": {
        "id": "NTty5CU5w7ST"
      }
    },
    {
      "cell_type": "code",
      "source": [
        "# Python implementation of Karatsuba algorithm for bit string multiplication.\n",
        "\n",
        "# Helper method: given two unequal sized bit strings, converts them to\n",
        "# same length by adding leading 0s in the smaller string. Returns the\n",
        "# the new length\n",
        "def make_equal_length(str1, str2):\n",
        "\tlen1 = len(str1)\n",
        "\tlen2 = len(str2)\n",
        "\tif len1 < len2:\n",
        "\t\tfor i in range(len2 - len1):\n",
        "\t\t\tstr1 = '0' + str1\n",
        "\t\treturn len2\n",
        "\telif len1 > len2:\n",
        "\t\tfor i in range(len1 - len2):\n",
        "\t\t\tstr2 = '0' + str2\n",
        "\treturn len1 # If len1 >= len2\n",
        "\n",
        "# The main function that adds two bit sequences and returns the addition\n",
        "def add_bit_strings(first, second):\n",
        "\tresult = \"\" # To store the sum bits\n",
        "\n",
        "\t# make the lengths same before adding\n",
        "\tlength = make_equal_length(first, second)\n",
        "\tcarry = 0 # Initialize carry\n",
        "\n",
        "\t# Add all bits one by one\n",
        "\tfor i in range(length-1, -1, -1):\n",
        "\t\tfirst_bit = int(first[i])\n",
        "\t\tsecond_bit = int(second[i])\n",
        "\n",
        "\t\t# boolean expression for sum of 3 bits\n",
        "\t\tsum = (first_bit ^ second_bit ^ carry) + ord('0')\n",
        "\n",
        "\t\tresult = chr(sum) + result\n",
        "\n",
        "\t\t# boolean expression for 3-bit addition\n",
        "\t\tcarry = (first_bit & second_bit) | (second_bit & carry) | (first_bit & carry)\n",
        "\n",
        "\t# if overflow, then add a leading 1\n",
        "\tif carry:\n",
        "\t\tresult = '1' + result\n",
        "\n",
        "\treturn result\n",
        "\n",
        "# A utility function to multiply single bits of strings a and b\n",
        "def multiply_single_bit(a, b):\n",
        "\treturn int(a[0]) * int(b[0])\n",
        "\n",
        "# The main function that multiplies two bit strings X and Y and returns\n",
        "# result as long integer\n",
        "def multiply(X, Y):\n",
        "\t# Find the maximum of lengths of x and Y and make length\n",
        "\t# of smaller string same as that of larger string\n",
        "\tn = max(len(X), len(Y))\n",
        "\tX = X.zfill(n)\n",
        "\tY = Y.zfill(n)\n",
        "\n",
        "\t# Base cases\n",
        "\tif n == 0: return 0\n",
        "\tif n == 1: return int(X[0])*int(Y[0])\n",
        "\n",
        "\tfh = n//2 # First half of string\n",
        "\tsh = n - fh # Second half of string\n",
        "\n",
        "\t# Find the first half and second half of first string.\n",
        "\tXl = X[:fh]\n",
        "\tXr = X[fh:]\n",
        "\n",
        "\t# Find the first half and second half of second string\n",
        "\tYl = Y[:fh]\n",
        "\tYr = Y[fh:]\n",
        "\n",
        "\t# Recursively calculate the three products of inputs of size n/2\n",
        "\tP1 = multiply(Xl, Yl)\n",
        "\tP2 = multiply(Xr, Yr)\n",
        "\tP3 = multiply(str(int(Xl, 2) + int(Xr, 2)), str(int(Yl, 2) + int(Yr, 2)))\n",
        "\n",
        "\t# Combine the three products to get the final result.\n",
        "\treturn P1*(1<<(2*sh)) + (P3 - P1 - P2)*(1<<sh) + P2\n",
        "\n",
        "if __name__ == '__main__':\n",
        "\tprint(multiply(\"1100\", \"1010\"))\n",
        "\tprint(multiply(\"110\", \"1010\"))\n",
        "\tprint(multiply(\"11\", \"1010\"))\n",
        "\tprint(multiply(\"1\", \"1010\"))\n",
        "\tprint(multiply(\"0\", \"1010\"))\n",
        "\tprint(multiply(\"111\", \"111\"))\n",
        "\tprint(multiply(\"11\", \"11\"))\n"
      ],
      "metadata": {
        "colab": {
          "base_uri": "https://localhost:8080/"
        },
        "id": "9IebVId5IqjM",
        "outputId": "d6909a7c-ca96-4a92-fc2f-f66ee01648b3"
      },
      "execution_count": 15,
      "outputs": [
        {
          "output_type": "stream",
          "name": "stdout",
          "text": [
            "120\n",
            "60\n",
            "30\n",
            "10\n",
            "0\n",
            "49\n",
            "9\n"
          ]
        }
      ]
    },
    {
      "cell_type": "markdown",
      "source": [
        "Even with all this, multiplication is not them most complex problem that we have. A problem which is far more complex is **factorization**: taking an $n$ digit number and finding its prime factors. The best known algorithm in this case has a complexity of $\\mathcal{O}(e^{n^{1/3}})$.\n",
        "The exponential here means that the compelxity grows very quickly and makes factorizationa very hard probelm to solve.\n",
        "\n",
        "\n",
        "Here's an example of few well known algorithms for prime factorization"
      ],
      "metadata": {
        "id": "4p3XlYHZyBOj"
      }
    },
    {
      "cell_type": "code",
      "source": [
        "# Python 3 program to find a prime factor of composite using\n",
        "# Pollard's Rho algorithm\n",
        "import random\n",
        "import math\n",
        "\n",
        "# Function to calculate (base^exponent)%modulus\n",
        "def modular_pow(base, exponent,modulus):\n",
        "\n",
        "\t# initialize result\n",
        "\tresult = 1\n",
        "\n",
        "\twhile (exponent > 0):\n",
        "\n",
        "\t\t# if y is odd, multiply base with result\n",
        "\t\tif (exponent & 1):\n",
        "\t\t\tresult = (result * base) % modulus\n",
        "\n",
        "\t\t# exponent = exponent/2\n",
        "\t\texponent = exponent >> 1\n",
        "\n",
        "\t\t# base = base * base\n",
        "\t\tbase = (base * base) % modulus\n",
        "\n",
        "\treturn result\n",
        "\n",
        "# method to return prime divisor for n\n",
        "def PollardRho( n):\n",
        "\n",
        "\t# no prime divisor for 1\n",
        "\tif (n == 1):\n",
        "\t\treturn n\n",
        "\n",
        "\t# even number means one of the divisors is 2\n",
        "\tif (n % 2 == 0):\n",
        "\t\treturn 2\n",
        "\n",
        "\t# we will pick from the range [2, N)\n",
        "\tx = (random.randint(0, 2) % (n - 2))\n",
        "\ty = x\n",
        "\n",
        "\t# the constant in f(x).\n",
        "\t# Algorithm can be re-run with a different c\n",
        "\t# if it throws failure for a composite.\n",
        "\tc = (random.randint(0, 1) % (n - 1))\n",
        "\n",
        "\t# Initialize candidate divisor (or result)\n",
        "\td = 1\n",
        "\n",
        "\t# until the prime factor isn't obtained.\n",
        "\t# If n is prime, return n\n",
        "\twhile (d == 1):\n",
        "\n",
        "\t\t# Tortoise Move: x(i+1) = f(x(i))\n",
        "\t\tx = (modular_pow(x, 2, n) + c + n)%n\n",
        "\n",
        "\t\t# Hare Move: y(i+1) = f(f(y(i)))\n",
        "\t\ty = (modular_pow(y, 2, n) + c + n)%n\n",
        "\t\ty = (modular_pow(y, 2, n) + c + n)%n\n",
        "\n",
        "\t\t# check gcd of |x-y| and n\n",
        "\t\td = math.gcd(abs(x - y), n)\n",
        "\n",
        "\t\t# retry if the algorithm fails to find prime factor\n",
        "\t\t# with chosen x and c\n",
        "\t\tif (d == n):\n",
        "\t\t\treturn PollardRho(n)\n",
        "\n",
        "\treturn d\n",
        "\n",
        "# Driver function\n",
        "if __name__ == \"__main__\":\n",
        "\n",
        "\tn = 10967535067\n",
        "\tprint(\"One of the divisors for\", n , \"is \",PollardRho(n))\n",
        "\n",
        "# This code is contributed by chitranayal\n"
      ],
      "metadata": {
        "id": "ARKyLpduyruD",
        "colab": {
          "base_uri": "https://localhost:8080/"
        },
        "outputId": "a60d3aa1-3089-4cec-bd3f-bd510aee29a1"
      },
      "execution_count": 18,
      "outputs": [
        {
          "output_type": "stream",
          "name": "stdout",
          "text": [
            "One of the divisors for 10967535067 is  104729\n"
          ]
        }
      ]
    },
    {
      "cell_type": "markdown",
      "source": [
        "To demonstrate this point using actual computation time, we can take a recent example. Consider the following 829-digit number."
      ],
      "metadata": {
        "id": "JrfALPkwzfIL"
      }
    },
    {
      "cell_type": "code",
      "source": [
        "rsa_250 = 2140324650240744961264423072839333563008614715144755017797754920881418023447140136643345519095804679610992851872470914587687396261921557363047454770520805119056493106687691590019759405693457452230589325976697471681738069364894699871578494975937497937"
      ],
      "metadata": {
        "id": "AinOMmlRzVQ1"
      },
      "execution_count": 19,
      "outputs": []
    },
    {
      "cell_type": "markdown",
      "source": [
        "If you try using your computer to add or multiply numbers of this size, you'll find that it can solve such problems very quickly. If you multiply the number of processors your computer has with the number of seconds it takes to get the number of core-seconds, you are sure to find that very much less than 1 core-second is required.\n",
        "\n",
        "However, performing factorization on this number requires a supercomputer and around 2700 core-years, which eventually yields the following two factors."
      ],
      "metadata": {
        "id": "R9foyU05zjJC"
      }
    },
    {
      "cell_type": "code",
      "source": [
        "p = 64135289477071580278790190170577389084825014742943447208116859632024532344630238623598752668347708737661925585694639798853367\n",
        "q = 33372027594978156556226010605355114227940760344767554666784520987023841729210037080257448673296881877565718986258036932062711\n",
        "p*q"
      ],
      "metadata": {
        "id": "OmV_2Cwdzg4z",
        "colab": {
          "base_uri": "https://localhost:8080/"
        },
        "outputId": "f82496cd-57ec-408d-cde7-67eda7bfae3a"
      },
      "execution_count": 20,
      "outputs": [
        {
          "output_type": "execute_result",
          "data": {
            "text/plain": [
              "2140324650240744961264423072839333563008614715144755017797754920881418023447140136643345519095804679610992851872470914587687396261921557363047454770520805119056493106687691590019759405693457452230589325976697471681738069364894699871578494975937497937"
            ]
          },
          "metadata": {},
          "execution_count": 20
        }
      ]
    },
    {
      "cell_type": "markdown",
      "source": [
        "For the factorization of larger numbers, we easily get to a point where a planet-sized supercomputer would need to run for the age of the universe. Clearly, any such problem is practically impossible."
      ],
      "metadata": {
        "id": "vUQzT1frzptK"
      }
    },
    {
      "cell_type": "markdown",
      "source": [
        "Until now, our focus has primarily been on mathematical operations involving n-digit numbers, where complexity was measured in terms of the count of basic operations needed. Nevertheless, complexity theory can extend its applicability beyond mathematical operations and encompass the analysis of computational approaches for various problem domains. Whether it involves searching databases, rendering graphics, or simulating dynamic systems, complexity theory enables the examination of computational methods across a wide range of applications.\n",
        "\n",
        "In each case, we are able to find a parameter or set of parameters that serve as our input size and express the complexity in terms of this input size using big O notation. For searching a database of $N$ entries, for example, the complexity is $\\mathcal{O}(N)$."
      ],
      "metadata": {
        "id": "QxsYkoV50iNL"
      }
    },
    {
      "cell_type": "markdown",
      "source": [
        "The determination of an algorithm's complexity relies on the precise theoretical model of computation being employed. Each model encompasses a set of fundamental operations, known as primitive operations, which form the basis for expressing any algorithm. In the context of Boolean circuits, as we examined earlier, logic gates serve as the primitive operations.\n",
        "\n",
        "In the case of Turing machines, an abstract computational device devised by Alan Turing, we envision a mechanism that traverses and manipulates information stored on a tape.\n",
        "\n",
        "The RAM model, on the other hand, involves a more intricate set of primitive operations and serves as an idealized representation of the computers we employ in our daily lives.\n",
        "\n",
        "Despite their apparent differences, these models of digital computation are remarkably capable of simulating one another. Consequently, in most scenarios, the computational complexity remains largely independent of the specific model utilized.\n",
        "\n",
        "Rather than ascribing complexity exclusively to the RAM model or Turing machines, we can thus discuss complexity in the context of digital computers as a more general framework."
      ],
      "metadata": {
        "id": "bC2IHcxv02bi"
      }
    },
    {
      "cell_type": "markdown",
      "source": [
        "## Beyond Digital Computation\n",
        "\n",
        "While **digital computers** have emerged as the predominant form of computation today, it is important to acknowledge that they are not the sole representation of computational systems.\n",
        "\n",
        "In the past, **analog computers** were extensively studied and utilized. Unlike their digital counterparts, analog computers rely on precise manipulations of continuously varying parameters instead of discrete values.\n",
        "**Some proponents of analog computers have suggested that these devices possess the ability to rapidly solve problems that are deemed intractable for digital computers. However, such claims have yet to materialize**.\n",
        "\n",
        "**Analog computers** face a significant obstacle in their inability to construct devices with arbitrarily high precision. In **digital computers**, the discretization process ensures that errors must reach a certain magnitude to become noticeable, allowing for the implementation of error-detection and error-correction methods.\n",
        "\n",
        "Conversely, in **analog computers**, errors can be infinitesimally small and undetectable, yet their cumulative effects can disrupt computations, rendering them unreliable. This inherent limitation poses a significant challenge for analog computing systems."
      ],
      "metadata": {
        "id": "R6K-nwXA1RZ8"
      }
    },
    {
      "cell_type": "markdown",
      "source": [
        "If we were to propose an ideal model of computation, it would likely aim to combine the resilience of digital computers with the intricate manipulations of analog computers. Quantum mechanics provides a promising avenue for achieving this synthesis. As we have witnessed, qubits possess discrete outputs of 0 and 1, while simultaneously existing in states that require continuous parameters for description. This intriguing phenomenon stems from the well-established concept of wave-particle duality intrinsic to quantum systems. Such systems defy complete categorization as either discrete or continuous, exhibiting a unique amalgamation of both. In the words of Einstein"
      ],
      "metadata": {
        "id": "j6olzR843THT"
      }
    },
    {
      "cell_type": "markdown",
      "source": [
        "*'It seems as though we must use sometimes the one theory and sometimes the other, while at times we may use either. We are faced with a new kind of difficulty. We have two contradictory pictures of reality; separately neither of them fully explains the phenomena...but together they do.'*\n"
      ],
      "metadata": {
        "id": "_DfRlugz3Uvb"
      }
    },
    {
      "cell_type": "markdown",
      "source": [
        "Therefore, a quantum computer, wherein gates operate on qubits as the fundamental operations, transcends the realms of both analog and digital. It embodies a distinct and unparalleled nature. In subsequent chapters, we will explore the far-reaching implications of this distinctive quality. We will discover that quantum computers have the potential to solve problems with radically different complexities compared to their digital counterparts. Remarkably, quantum computing represents the only known technology capable of exponentially outperforming classical computers for certain tasks, potentially transforming calculations that would take years into mere minutes. Additionally, we will delve into the realm of quantum error correction and explore how it can mitigate the effects of imperfections, paving the way for reliable quantum computation."
      ],
      "metadata": {
        "id": "7RMAFVdN3aDC"
      }
    },
    {
      "cell_type": "markdown",
      "source": [
        "# When to Use a Quantum Computer\n",
        "\n",
        "\n",
        "With qubits and quantum gates, we can design novel algorithms that are fundamentally different from digital and analog classical ones. In this way, we hope to find solutions to problems that are intractable for classical computers."
      ],
      "metadata": {
        "id": "1JzRogac3cN6"
      }
    },
    {
      "cell_type": "markdown",
      "source": [
        "An effective approach to address this is when we encounter a scenario where we need to ascertain a global characteristic of a function. For instance, we may aim to determine the value of a parameter, denoted as $x$, at which a given function $f(x)$ attains its minimum, or to identify the period of the function if $f(x)$ exhibits periodicity.\n",
        "\n",
        "In the realm of digital computing, an algorithm would typically involve evaluating $f(x)$ for various inputs to acquire adequate information about the desired global property. However, in the case of quantum computing, the ability to create superposition states empowers us to apply the function simultaneously to multiple potential inputs.\n",
        "\n",
        "It is important to note that this does not imply direct access to all possible outputs since measuring such a state yields only a single result. Nonetheless, we can leverage the concept of inducing a quantum interference effect, which enables us to uncover the sought-after global property. By manipulating the quantum system, we can exploit the interference patterns arising from the superposition states to extract the desired information."
      ],
      "metadata": {
        "id": "3dq9GnZf3-LC"
      }
    },
    {
      "cell_type": "markdown",
      "source": [
        "This general description illustrates the workings of many of the quantum algorithms that have already been discovered. One prominent example is **Grover's algorithm**, which reduces the complexity of searching through $N$ items from $\\mathcal{O}(N)$ to $\\mathcal{O}(\\sqrt{N})$. This quadratic speedup could be useful in many applications with tasks that can be expressed as an unstructured search, such as optimization problems and machine learning."
      ],
      "metadata": {
        "id": "DfL1VHkH4GrD"
      }
    },
    {
      "cell_type": "markdown",
      "source": [
        "An even more impressive speedup is obtained with **Shor's algorithm**, which analyses periodic functions at the heart of the factorization problem. This allows a quantum solution for factoring $n$-digit numbers with complexity\n",
        "$\\mathcal{O}(n^3)$. This is a superpolynomial speedup compared with the complexity for digital computers, which is worse than $\\mathcal{O}(e^{n^{1/3}})$."
      ],
      "metadata": {
        "id": "_pYj0ebh4hEz"
      }
    },
    {
      "cell_type": "markdown",
      "source": [
        "Another approach towards quantum algorithms is to use quantum computers to solve quantum problems. As we will see in the further blogs, expressing a quantum state requires an amount of information that scales exponentially with the number of qubits. Just writing down the $n$ state of qubits therefore becomes an intractable task for digital computers as $n$ increases. However, for a quantum computer we just need $n$ qubits to do the same job. This natural capability to express and manipulate quantum states allows us to study and better understand quantum systems of interest, such as molecules and fundamental particles."
      ],
      "metadata": {
        "id": "dpjx-uHm43bT"
      }
    },
    {
      "cell_type": "markdown",
      "source": [
        "Applying and adapting quantum algorithms in different industries therefore has the promise of enabling disruptive use cases in business and science. These include breakthroughs in drug discovery, machine learning, materials discovery, option pricing, protein folding, and supply chain. Particularly promising are those problems for which classical algorithms face inherent scaling limits and which do not require a large classical dataset to be loaded. For quantum advantage, a given problem's answers need to strongly depend on exponentially many entangled degrees of freedom with structure such that quantum mechanics evolves to a solution without having to go through all paths. Note, however, that the precise relationship between problems that are 'easy' for quantum computers (solvable in polynomial time) and other complexity-theoretic classes is still an open question"
      ],
      "metadata": {
        "id": "uPZH4iC25F9i"
      }
    },
    {
      "cell_type": "markdown",
      "source": [
        "This is just a taste of how quantum algorithms can perform computation in an unique way. More details on these approaches can be found in later blogs. But first we need to look beyond the single qubit and invest some time into understanding the full set of quantum gates that we will need. This will be the focus of the next blog."
      ],
      "metadata": {
        "id": "KevDLZdJ5H7L"
      }
    }
  ]
}