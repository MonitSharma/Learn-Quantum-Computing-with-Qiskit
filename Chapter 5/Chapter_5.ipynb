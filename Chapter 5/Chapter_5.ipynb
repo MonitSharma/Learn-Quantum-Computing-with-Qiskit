{
  "nbformat": 4,
  "nbformat_minor": 0,
  "metadata": {
    "colab": {
      "provenance": [],
      "collapsed_sections": []
    },
    "kernelspec": {
      "name": "python3",
      "display_name": "Python 3"
    },
    "language_info": {
      "name": "python"
    }
  },
  "cells": [
    {
      "cell_type": "markdown",
      "source": [
        "## Chapter 5"
      ],
      "metadata": {
        "id": "7q34O0EPzoV_"
      }
    },
    {
      "cell_type": "markdown",
      "source": [
        "### Identifying Backends"
      ],
      "metadata": {
        "id": "30pIlD6VzwWe"
      }
    },
    {
      "cell_type": "code",
      "source": [
        "from qiskit import IBMQ, QuantumCircuit, execute\n",
        "from qiskit.tools.monitor import job_monitor\n",
        "\n",
        "print(\"Ch 5: Identifying backends\")\n",
        "print(\"--------------------------\")\n",
        "\n",
        "print(\"Getting provider...\")\n",
        "if not IBMQ.active_account():\n",
        "    IBMQ.load_account()\n",
        "provider = IBMQ.get_provider()\n",
        "\n",
        "print(\"\\nAvailable backends:\")\n",
        "print(provider.backends(operational=True, simulator=False))\n",
        "\n",
        "\n",
        "select_backend=input(\"Type in the name of a backend: \")\n",
        "backend = provider.get_backend(select_backend)\n",
        "print(\"\\nSelected backend:\", backend.name())\n",
        "\n",
        "# Create a quantum circuit to test\n",
        "qc = QuantumCircuit(2,2)\n",
        "\n",
        "qc.h(0)\n",
        "qc.cx(0,1)\n",
        "qc.measure([0,1],[0,1])\n",
        "\n",
        "print(\"\\nQuantum circuit:\")\n",
        "print(qc)\n",
        "\n",
        "job = execute(qc, backend, shots=1000)\n",
        "job_monitor(job)\n",
        "\n",
        "result = job.result()\n",
        "counts = result.get_counts(qc)\n",
        "\n",
        "print(\"\\nResults:\", counts)\n",
        "\n",
        "print(\"\\nAvailable simulator backends:\")\n",
        "print(provider.backends(operational=True, simulator=True))\n",
        "\n",
        "backend = provider.get_backend('ibmq_qasm_simulator')\n",
        "job = execute(qc, backend, shots=1000)\n",
        "job_monitor(job)\n",
        "\n",
        "result = job.result()\n",
        "counts = result.get_counts(qc)\n",
        "\n",
        "print(\"\\nSimulator results:\", counts) \n",
        "\n"
      ],
      "metadata": {
        "colab": {
          "base_uri": "https://localhost:8080/",
          "height": 764
        },
        "id": "Al--phrRznu2",
        "outputId": "b15f4ff8-c3c9-4bc1-87a7-20ffe2bb7d5c"
      },
      "execution_count": 1,
      "outputs": [
        {
          "output_type": "stream",
          "name": "stdout",
          "text": [
            "Ch 5: Identifying backends\n",
            "--------------------------\n",
            "Getting provider...\n",
            "\n",
            "Available backends:\n",
            "[<IBMQBackend('ibmq_lima') from IBMQ(hub='ibm-q', group='open', project='main')>, <IBMQBackend('ibmq_belem') from IBMQ(hub='ibm-q', group='open', project='main')>, <IBMQBackend('ibmq_quito') from IBMQ(hub='ibm-q', group='open', project='main')>, <IBMQBackend('ibmq_manila') from IBMQ(hub='ibm-q', group='open', project='main')>, <IBMQBackend('ibm_nairobi') from IBMQ(hub='ibm-q', group='open', project='main')>, <IBMQBackend('ibm_oslo') from IBMQ(hub='ibm-q', group='open', project='main')>]\n",
            "Type in the name of a backend: ibmq_belem\n",
            "\n",
            "Selected backend: ibmq_belem\n",
            "\n",
            "Quantum circuit:\n",
            "     ┌───┐     ┌─┐   \n",
            "q_0: ┤ H ├──■──┤M├───\n",
            "     └───┘┌─┴─┐└╥┘┌─┐\n",
            "q_1: ─────┤ X ├─╫─┤M├\n",
            "          └───┘ ║ └╥┘\n",
            "c: 2/═══════════╩══╩═\n",
            "                0  1 \n",
            "Job Status: job is queued (3)     "
          ]
        },
        {
          "output_type": "error",
          "ename": "KeyboardInterrupt",
          "evalue": "ignored",
          "traceback": [
            "\u001b[0;31m---------------------------------------------------------------------------\u001b[0m",
            "\u001b[0;31mKeyboardInterrupt\u001b[0m                         Traceback (most recent call last)",
            "\u001b[0;32m<ipython-input-1-15cb0937421e>\u001b[0m in \u001b[0;36m<module>\u001b[0;34m\u001b[0m\n\u001b[1;32m     29\u001b[0m \u001b[0;34m\u001b[0m\u001b[0m\n\u001b[1;32m     30\u001b[0m \u001b[0mjob\u001b[0m \u001b[0;34m=\u001b[0m \u001b[0mexecute\u001b[0m\u001b[0;34m(\u001b[0m\u001b[0mqc\u001b[0m\u001b[0;34m,\u001b[0m \u001b[0mbackend\u001b[0m\u001b[0;34m,\u001b[0m \u001b[0mshots\u001b[0m\u001b[0;34m=\u001b[0m\u001b[0;36m1000\u001b[0m\u001b[0;34m)\u001b[0m\u001b[0;34m\u001b[0m\u001b[0;34m\u001b[0m\u001b[0m\n\u001b[0;32m---> 31\u001b[0;31m \u001b[0mjob_monitor\u001b[0m\u001b[0;34m(\u001b[0m\u001b[0mjob\u001b[0m\u001b[0;34m)\u001b[0m\u001b[0;34m\u001b[0m\u001b[0;34m\u001b[0m\u001b[0m\n\u001b[0m\u001b[1;32m     32\u001b[0m \u001b[0;34m\u001b[0m\u001b[0m\n\u001b[1;32m     33\u001b[0m \u001b[0mresult\u001b[0m \u001b[0;34m=\u001b[0m \u001b[0mjob\u001b[0m\u001b[0;34m.\u001b[0m\u001b[0mresult\u001b[0m\u001b[0;34m(\u001b[0m\u001b[0;34m)\u001b[0m\u001b[0;34m\u001b[0m\u001b[0;34m\u001b[0m\u001b[0m\n",
            "\u001b[0;32m/usr/local/lib/python3.7/dist-packages/qiskit/tools/monitor/job_monitor.py\u001b[0m in \u001b[0;36mjob_monitor\u001b[0;34m(job, interval, quiet, output, line_discipline)\u001b[0m\n\u001b[1;32m     88\u001b[0m \u001b[0;34m\u001b[0m\u001b[0m\n\u001b[1;32m     89\u001b[0m     _text_checker(\n\u001b[0;32m---> 90\u001b[0;31m         \u001b[0mjob\u001b[0m\u001b[0;34m,\u001b[0m \u001b[0minterval\u001b[0m\u001b[0;34m,\u001b[0m \u001b[0m_interval_set\u001b[0m\u001b[0;34m,\u001b[0m \u001b[0mquiet\u001b[0m\u001b[0;34m=\u001b[0m\u001b[0mquiet\u001b[0m\u001b[0;34m,\u001b[0m \u001b[0moutput\u001b[0m\u001b[0;34m=\u001b[0m\u001b[0moutput\u001b[0m\u001b[0;34m,\u001b[0m \u001b[0mline_discipline\u001b[0m\u001b[0;34m=\u001b[0m\u001b[0mline_discipline\u001b[0m\u001b[0;34m\u001b[0m\u001b[0;34m\u001b[0m\u001b[0m\n\u001b[0m\u001b[1;32m     91\u001b[0m     )\n",
            "\u001b[0;32m/usr/local/lib/python3.7/dist-packages/qiskit/tools/monitor/job_monitor.py\u001b[0m in \u001b[0;36m_text_checker\u001b[0;34m(job, interval, _interval_set, quiet, output, line_discipline)\u001b[0m\n\u001b[1;32m     42\u001b[0m         \u001b[0mprint\u001b[0m\u001b[0;34m(\u001b[0m\u001b[0;34m\"{}{}: {}\"\u001b[0m\u001b[0;34m.\u001b[0m\u001b[0mformat\u001b[0m\u001b[0;34m(\u001b[0m\u001b[0mline_discipline\u001b[0m\u001b[0;34m,\u001b[0m \u001b[0;34m\"Job Status\"\u001b[0m\u001b[0;34m,\u001b[0m \u001b[0mmsg\u001b[0m\u001b[0;34m)\u001b[0m\u001b[0;34m,\u001b[0m \u001b[0mend\u001b[0m\u001b[0;34m=\u001b[0m\u001b[0;34m\"\"\u001b[0m\u001b[0;34m,\u001b[0m \u001b[0mfile\u001b[0m\u001b[0;34m=\u001b[0m\u001b[0moutput\u001b[0m\u001b[0;34m)\u001b[0m\u001b[0;34m\u001b[0m\u001b[0;34m\u001b[0m\u001b[0m\n\u001b[1;32m     43\u001b[0m     \u001b[0;32mwhile\u001b[0m \u001b[0mstatus\u001b[0m\u001b[0;34m.\u001b[0m\u001b[0mname\u001b[0m \u001b[0;32mnot\u001b[0m \u001b[0;32min\u001b[0m \u001b[0;34m[\u001b[0m\u001b[0;34m\"DONE\"\u001b[0m\u001b[0;34m,\u001b[0m \u001b[0;34m\"CANCELLED\"\u001b[0m\u001b[0;34m,\u001b[0m \u001b[0;34m\"ERROR\"\u001b[0m\u001b[0;34m]\u001b[0m\u001b[0;34m:\u001b[0m\u001b[0;34m\u001b[0m\u001b[0;34m\u001b[0m\u001b[0m\n\u001b[0;32m---> 44\u001b[0;31m         \u001b[0mtime\u001b[0m\u001b[0;34m.\u001b[0m\u001b[0msleep\u001b[0m\u001b[0;34m(\u001b[0m\u001b[0minterval\u001b[0m\u001b[0;34m)\u001b[0m\u001b[0;34m\u001b[0m\u001b[0;34m\u001b[0m\u001b[0m\n\u001b[0m\u001b[1;32m     45\u001b[0m         \u001b[0mstatus\u001b[0m \u001b[0;34m=\u001b[0m \u001b[0mjob\u001b[0m\u001b[0;34m.\u001b[0m\u001b[0mstatus\u001b[0m\u001b[0;34m(\u001b[0m\u001b[0;34m)\u001b[0m\u001b[0;34m\u001b[0m\u001b[0;34m\u001b[0m\u001b[0m\n\u001b[1;32m     46\u001b[0m         \u001b[0mmsg\u001b[0m \u001b[0;34m=\u001b[0m \u001b[0mstatus\u001b[0m\u001b[0;34m.\u001b[0m\u001b[0mvalue\u001b[0m\u001b[0;34m\u001b[0m\u001b[0;34m\u001b[0m\u001b[0m\n",
            "\u001b[0;31mKeyboardInterrupt\u001b[0m: "
          ]
        }
      ]
    },
    {
      "cell_type": "markdown",
      "source": [
        "### Comparing Backends"
      ],
      "metadata": {
        "id": "Hkc7K0el0LTX"
      }
    },
    {
      "cell_type": "code",
      "source": [
        "from qiskit import IBMQ, QuantumCircuit, execute\n",
        "from qiskit.tools.monitor import job_monitor\n",
        "from qiskit.visualization import plot_histogram\n",
        "from qiskit.providers.ibmq import least_busy\n",
        "from IPython.core.display import display\n",
        "\n",
        "print(\"Ch 5: Comparing backends\")\n",
        "print(\"------------------------\")\n",
        "\n",
        "print(\"Getting provider...\")\n",
        "if not IBMQ.active_account():\n",
        "    IBMQ.load_account()\n",
        "provider = IBMQ.get_provider()\n",
        "\n",
        "# Cceate a Bell circuit \n",
        "qc = QuantumCircuit(2,2)\n",
        "\n",
        "qc.h(0)\n",
        "qc.cx(0,1)\n",
        "qc.measure([0,1],[0,1])\n",
        "\n",
        "print(\"\\nQuantum circuit:\")\n",
        "print(qc)\n",
        "\n",
        "# Get all available and operational backends.\n",
        "backends = provider.backends(filters=lambda b: b.configuration().n_qubits > 1 and b.status().operational)\n",
        "\n",
        "print(\"\\nAvailable backends:\", backends)\n",
        "\n",
        "# Run the program on all backends and create a counts dictionary with the results from the executions.\n",
        "counts = {}\n",
        "for n in range(0, len(backends)):\n",
        "    print('Run on:', backends[n])\n",
        "    job = execute(qc, backends[n], shots=1000)\n",
        "    job_monitor(job)\n",
        "    result = job.result()\n",
        "    counts[backends[n].name()] = result.get_counts(qc)\n",
        "\n",
        "#Display the data that we want to plot.\n",
        "print(\"\\nRaw results:\", counts)\n",
        "\n",
        "#Optionally define the histogram colors. \n",
        "colors = ['green','darkgreen','red','darkred', 'orange','yellow','blue','darkblue','purple']\n",
        "\n",
        "#Plot the counts dictionary values in a histogram, using the counts dictionary keys as legend.\n",
        "display(plot_histogram(list(counts.values()), title = \"Bell results on all available backends\", legend=list(counts), color = colors[0:len(backends)], bar_labels = True))"
      ],
      "metadata": {
        "id": "9sI7Mbdj0A-0"
      },
      "execution_count": null,
      "outputs": []
    },
    {
      "cell_type": "markdown",
      "source": [
        "### Least Busy"
      ],
      "metadata": {
        "id": "1BC4j5Rt0YVQ"
      }
    },
    {
      "cell_type": "code",
      "source": [
        "from qiskit import IBMQ\n",
        "from qiskit.providers.ibmq import least_busy\n",
        "\n",
        "print(\"Ch 5: Least busy backend\")\n",
        "print(\"------------------------\")\n",
        "\n",
        "print(\"Getting provider...\")\n",
        "if not IBMQ.active_account():\n",
        "    IBMQ.load_account()\n",
        "provider = IBMQ.get_provider()\n",
        "\n",
        "# Finding the least busy backend\n",
        "backend = least_busy(provider.backends(operational=True, simulator=False))\n",
        "print(\"Least busy backend:\", backend.name())\n",
        "\n",
        "filtered_backend = least_busy(provider.backends(n_qubits=5, operational=True, simulator=False))\n",
        "print(\"\\nLeast busy 5-qubit backend:\", filtered_backend.name())\n",
        "\n",
        "from qiskit.tools.monitor import backend_overview\n",
        "print(\"\\nAll backends overview:\\n\")\n",
        "backend_overview()"
      ],
      "metadata": {
        "id": "wjxPGPHf0WLH",
        "colab": {
          "base_uri": "https://localhost:8080/"
        },
        "outputId": "cd495e01-a82b-45d4-c9ec-9517e50167f5"
      },
      "execution_count": 2,
      "outputs": [
        {
          "output_type": "stream",
          "name": "stdout",
          "text": [
            "Ch 5: Least busy backend\n",
            "------------------------\n",
            "Getting provider...\n",
            "Least busy backend: ibmq_manila\n",
            "\n",
            "Least busy 5-qubit backend: ibmq_manila\n",
            "\n",
            "All backends overview:\n",
            "\n",
            "ibm_oslo                     ibm_nairobi                  ibmq_manila\n",
            "--------                     -----------                  -----------\n",
            "Num. Qubits:  7              Num. Qubits:  7              Num. Qubits:  5\n",
            "Pending Jobs: 301            Pending Jobs: 223            Pending Jobs: 140\n",
            "Least busy:   False          Least busy:   False          Least busy:   False\n",
            "Operational:  True           Operational:  True           Operational:  True\n",
            "Avg. T1:      104.6          Avg. T1:      120.3          Avg. T1:      143.2\n",
            "Avg. T2:      100.1          Avg. T2:      62.6           Avg. T2:      62.4\n",
            "\n",
            "\n",
            "\n",
            "ibmq_quito                   ibmq_belem                  ibmq_lima\n",
            "----------                   ----------                  ---------\n",
            "Num. Qubits:  5              Num. Qubits:  5             Num. Qubits:  5\n",
            "Pending Jobs: 146            Pending Jobs: 92            Pending Jobs: 532\n",
            "Least busy:   False          Least busy:   True          Least busy:   False\n",
            "Operational:  True           Operational:  True          Operational:  True\n",
            "Avg. T1:      95.3           Avg. T1:      84.0          Avg. T1:      86.4\n",
            "Avg. T2:      97.3           Avg. T2:      91.3          Avg. T2:      113.6\n",
            "\n",
            "\n",
            "\n"
          ]
        }
      ]
    },
    {
      "cell_type": "markdown",
      "source": [
        "### Backend Visualization"
      ],
      "metadata": {
        "id": "SPrbmuYu0dv2"
      }
    },
    {
      "cell_type": "code",
      "source": [
        "# Import the required Qiskit classes\n",
        "from qiskit import IBMQ, QuantumCircuit, transpile\n",
        "from qiskit.providers.ibmq import least_busy\n",
        "\n",
        "# Import the backend visualization methods\n",
        "from qiskit.visualization import plot_gate_map, plot_error_map, plot_circuit_layout\n",
        "\n",
        "from IPython.core.display import display\n",
        "\n",
        "print(\"Ch 5: Backend visualization\")\n",
        "print(\"---------------------------\")\n",
        "\n",
        "print(\"Getting provider...\")\n",
        "if not IBMQ.active_account():\n",
        "    IBMQ.load_account()\n",
        "provider = IBMQ.get_provider()\n",
        "\n",
        "# Get all available and operational backends.\n",
        "print(\"Getting the available backends...\")\n",
        "available_backends = provider.backends(filters=lambda b: not b.configuration().simulator and b.configuration().num_qubits > 1 and b.status().operational) \n",
        "\n",
        "# Fish out criteria to compare\n",
        "print(\"{0:20} {1:<10}\".format(\"Name\",\"#Qubits\"))\n",
        "print(\"{0:20} {1:<10}\".format(\"----\",\"-------\"))\n",
        "\n",
        "for n in range(0, len(available_backends)):\n",
        "    backend = provider.get_backend(str(available_backends[n]))\n",
        "    print(\"{0:20} {1:<10}\".format(backend.name(),backend.configuration().num_qubits))\n",
        "\n",
        "# Select a backend or go for the least busy backend with more than 1 qubits\n",
        "backend_input = input(\"Enter the name of a backend, or X for the least busy:\")\n",
        "if backend_input not in [\"X\",\"x\"]:\n",
        "    backend = provider.get_backend(backend_input)\n",
        "else:\n",
        "    backend = least_busy(provider.backends(filters=lambda b: not b.configuration().simulator and b.configuration().num_qubits > 1 and b.status().operational))\n",
        "# Display the gate and error map for the backend.\n",
        "print(\"\\nQubit data for backend:\",backend.status().backend_name)\n",
        "\n",
        "display(plot_gate_map(backend, plot_directed=True))\n",
        "display(plot_error_map(backend))\n",
        "\n",
        "# Create and transpile a 2 qubit Bell circuit\n",
        "qc = QuantumCircuit(2)\n",
        "qc.h(0)\n",
        "qc.cx(0,1)\n",
        "\n",
        "display(qc.draw('mpl'))\n",
        "qc_transpiled = transpile(qc, backend=backend, optimization_level=3)\n",
        "display(qc_transpiled.draw('mpl'))\n",
        "\n",
        "# Display the circuit layout for the backend.\n",
        "display(plot_circuit_layout(qc_transpiled, backend, view='physical'))"
      ],
      "metadata": {
        "id": "HTgiuBFH0b1E",
        "colab": {
          "base_uri": "https://localhost:8080/",
          "height": 1000
        },
        "outputId": "1aad2bb8-b93f-4f11-8c7a-c4208de8dac1"
      },
      "execution_count": 3,
      "outputs": [
        {
          "output_type": "stream",
          "name": "stdout",
          "text": [
            "Ch 5: Backend visualization\n",
            "---------------------------\n",
            "Getting provider...\n",
            "Getting the available backends...\n",
            "Name                 #Qubits   \n",
            "----                 -------   \n",
            "ibmq_lima            5         \n",
            "ibmq_belem           5         \n",
            "ibmq_quito           5         \n",
            "ibmq_manila          5         \n",
            "ibm_nairobi          7         \n",
            "ibm_oslo             7         \n",
            "Enter the name of a backend, or X for the least busy:X\n",
            "\n",
            "Qubit data for backend: ibmq_manila\n"
          ]
        },
        {
          "output_type": "display_data",
          "data": {
            "text/plain": [
              "<Figure size 360x360 with 1 Axes>"
            ],
            "image/png": "[encoded data removed]"
          },
          "metadata": {}
        },
        {
          "output_type": "display_data",
          "data": {
            "text/plain": [
              "<Figure size 864x648 with 5 Axes>"
            ],
            "image/png": "[encoded data removed]"
          },
          "metadata": {}
        },
        {
          "output_type": "display_data",
          "data": {
            "text/plain": [
              "<Figure size 206.852x144.48 with 1 Axes>"
            ],
            "image/png": "[encoded data removed]"
          },
          "metadata": {}
        },
        {
          "output_type": "display_data",
          "data": {
            "text/plain": [
              "<Figure size 420.131x325.08 with 1 Axes>"
            ],
            "image/png": "[encoded data removed]"
          },
          "metadata": {}
        },
        {
          "output_type": "display_data",
          "data": {
            "text/plain": [
              "<Figure size 360x360 with 1 Axes>"
            ],
            "image/png": "[encoded data removed]"
          },
          "metadata": {}
        }
      ]
    },
    {
      "cell_type": "markdown",
      "source": [
        "### Explore a Backend"
      ],
      "metadata": {
        "id": "M2sGs6sA0l-a"
      }
    },
    {
      "cell_type": "code",
      "source": [
        "\n",
        "\n",
        "from qiskit import IBMQ\n",
        "from qiskit.providers.ibmq import least_busy\n",
        "\n",
        "print(\"Ch 5: Explore a backend\")\n",
        "print(\"-----------------------\")\n",
        "\n",
        "print(\"Getting provider...\")\n",
        "if not IBMQ.active_account():\n",
        "    IBMQ.load_account()\n",
        "provider = IBMQ.get_provider()\n",
        "\n",
        "\n",
        "# Get all available and operational backends.\n",
        "available_backends = provider.backends(operational=True)\n",
        "\n",
        "# Fish out criteria to compare\n",
        "print(\"{0:20} {1:<10} {2:<10} {3:<10}\".format(\"Name\",\"#Qubits\",\"Max exp.\",\"Pending jobs\"))\n",
        "print(\"{0:20} {1:<10} {2:<10} {3:<10}\".format(\"----\",\"-------\",\"--------\",\"------------\"))\n",
        "\n",
        "for n in range(0, len(available_backends)):\n",
        "    backend = provider.get_backend(str(available_backends[n]))\n",
        "    print(\"{0:20} {1:<10} {2:<10} {3:<10}\".format(backend.name(),backend.configuration().n_qubits,backend.configuration().max_experiments,backend.status().pending_jobs))\n",
        "\n",
        "# Select the least busy backend with 5 qubits\n",
        "least_busy_backend = least_busy(provider.backends(n_qubits=5,operational=True, simulator=False))\n",
        "\n",
        "# Print out qubit properties for the backend.\n",
        "print(\"\\nQubit data for backend:\",least_busy_backend.status().backend_name)\n",
        "\n",
        "for q in range (0, least_busy_backend.configuration().n_qubits):\n",
        "    print(\"\\nQubit\",q,\":\")\n",
        "    for n in range (0, len(least_busy_backend.properties().qubits[0])):\n",
        "        print(least_busy_backend.properties().qubits[q][n].name,\"=\",least_busy_backend.properties().qubits[q][n].value,least_busy_backend.properties().qubits[q][n].unit)\n"
      ],
      "metadata": {
        "id": "QpC02mB90kFC",
        "colab": {
          "base_uri": "https://localhost:8080/"
        },
        "outputId": "a3506f59-c9d4-4d95-9138-ff4aeda40119"
      },
      "execution_count": 4,
      "outputs": [
        {
          "output_type": "stream",
          "name": "stdout",
          "text": [
            "Ch 5: Explore a backend\n",
            "-----------------------\n",
            "Getting provider...\n",
            "Name                 #Qubits    Max exp.   Pending jobs\n",
            "----                 -------    --------   ------------\n",
            "ibmq_qasm_simulator  32         300        5         \n",
            "ibmq_lima            5          100        533       \n",
            "ibmq_belem           5          100        92        \n",
            "ibmq_quito           5          100        146       \n",
            "simulator_statevector 32         300        5         \n",
            "simulator_mps        100        300        5         \n",
            "simulator_extended_stabilizer 63         300        5         \n",
            "simulator_stabilizer 5000       300        5         \n",
            "ibmq_manila          5          100        140       \n",
            "ibm_nairobi          7          100        223       \n",
            "ibm_oslo             7          100        300       \n",
            "\n",
            "Qubit data for backend: ibmq_manila\n",
            "\n",
            "Qubit 0 :\n",
            "T1 = 167.13287299049122 us\n",
            "T2 = 116.75694941738865 us\n",
            "frequency = 4.962288181227982 GHz\n",
            "anharmonicity = -0.3433479504893883 GHz\n",
            "readout_error = 0.0232 \n",
            "prob_meas0_prep1 = 0.030000000000000027 \n",
            "prob_meas1_prep0 = 0.0164 \n",
            "readout_length = 5351.11111111111 ns\n",
            "\n",
            "Qubit 1 :\n",
            "T1 = 192.35068480525533 us\n",
            "T2 = 71.56293493091682 us\n",
            "frequency = 4.837866311634 GHz\n",
            "anharmonicity = -0.3462116492210585 GHz\n",
            "readout_error = 0.041100000000000025 \n",
            "prob_meas0_prep1 = 0.0342 \n",
            "prob_meas1_prep0 = 0.04800000000000004 \n",
            "readout_length = 5351.11111111111 ns\n",
            "\n",
            "Qubit 2 :\n",
            "T1 = 66.65277950946447 us\n",
            "T2 = 24.19642592611788 us\n",
            "frequency = 5.037252782465731 GHz\n",
            "anharmonicity = -0.34366028709148855 GHz\n",
            "readout_error = 0.037900000000000045 \n",
            "prob_meas0_prep1 = 0.05059999999999998 \n",
            "prob_meas1_prep0 = 0.0252 \n",
            "readout_length = 5351.11111111111 ns\n",
            "\n",
            "Qubit 3 :\n",
            "T1 = 183.23216102697825 us\n",
            "T2 = 58.938331202862464 us\n",
            "frequency = 4.95097365418464 GHz\n",
            "anharmonicity = -0.3435523612547686 GHz\n",
            "readout_error = 0.028900000000000037 \n",
            "prob_meas0_prep1 = 0.04 \n",
            "prob_meas1_prep0 = 0.017800000000000038 \n",
            "readout_length = 5351.11111111111 ns\n",
            "\n",
            "Qubit 4 :\n",
            "T1 = 106.8151859712774 us\n",
            "T2 = 40.70779934667266 us\n",
            "frequency = 5.065125476536265 GHz\n",
            "anharmonicity = -0.3421076389828771 GHz\n",
            "readout_error = 0.01880000000000004 \n",
            "prob_meas0_prep1 = 0.0278 \n",
            "prob_meas1_prep0 = 0.009800000000000031 \n",
            "readout_length = 5351.11111111111 ns\n"
          ]
        }
      ]
    }
  ]
}