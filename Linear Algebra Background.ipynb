{
  "nbformat": 4,
  "nbformat_minor": 0,
  "metadata": {
    "colab": {
      "provenance": [],
      "authorship_tag": "ABX9TyMavQSWSLAnlrNVtqunWu5f",
      "include_colab_link": true
    },
    "kernelspec": {
      "name": "python3",
      "display_name": "Python 3"
    },
    "language_info": {
      "name": "python"
    }
  },
  "cells": [
    {
      "cell_type": "markdown",
      "metadata": {
        "id": "view-in-github",
        "colab_type": "text"
      },
      "source": [
        "<a href=\"https://colab.research.google.com/github/MonitSharma/Quantum-Computing-with-Qiskit-and-IBMQ/blob/main/Qiskit_Textbook_lecture_2.ipynb\" target=\"_parent\"><img src=\"https://colab.research.google.com/assets/colab-badge.svg\" alt=\"Open In Colab\"/></a>"
      ]
    },
    {
      "cell_type": "code",
      "source": [
        "%pip install qiskit"
      ],
      "metadata": {
        "id": "YGn2IKYaEhGf"
      },
      "execution_count": null,
      "outputs": []
    },
    {
      "cell_type": "markdown",
      "source": [
        "# Introduction\n",
        "\n",
        "Quantum compuitng is a very challenging topic, quantum objects seems random and chaotic at first, but they also follow a certain set of rules. Once we undertsnad these rules, we can create new and powerdful tech.\n",
        "\n",
        "**Quantum Computing** will be the most revolutionary example out of this.\n",
        "\n",
        "\n",
        "\n",
        "![An Example of a Quantum Circuit](https://learn.qiskit.org/content/v2/ch-states/images/atoms10.png)\n",
        "\n",
        "\n"
      ],
      "metadata": {
        "id": "GwTPPRZtEmDS"
      }
    },
    {
      "cell_type": "markdown",
      "source": [
        "An understanding of Linear Algebra is a must for quantum computing. Hence this course would guide you through the fundamentals of quantum computing, whilst also giving you the Linear Algebra background of what's happening underneath.\n",
        "When you run your circuits on a simulator, it's effectively doing a matrix multiplication, but in efficient ways. We will se all that.\n",
        "\n",
        "If you want a more detailed course on Linear Algebra, I've made one prior to this course, you can check that [here](https://medium.com/@_monitsharma/list/computational-linear-algebra-c25866dd2935).\n",
        "\n"
      ],
      "metadata": {
        "id": "hTdYVHWoFPs-"
      }
    },
    {
      "cell_type": "markdown",
      "source": [
        "*Bit* is the smallest unit of information. The information can be stored and processed as a series of 0s and 1s. Taking this as a strating point, we can start thinking about quantum bits or **qubits**, that process information in a new and different way.\n",
        "\n",
        "\n",
        "\n",
        "We need to keep track of what qubits are doing when we apply gates, the way to do this is by vectors and matrices. Also it's helpful to visualize them on Bloch Spheres\n",
        "\n",
        "![](https://learn.qiskit.org/content/v2/ch-states/images/bloch.png)"
      ],
      "metadata": {
        "id": "0X0QDJWiIIzh"
      }
    },
    {
      "cell_type": "markdown",
      "source": [
        "## Vectors and Matrices in Quantum Computing\n",
        "\n",
        "\n",
        "A qubit can be in state $0$ or $1$ or a superposition of both. Using Linear Algebra, the state of qubit is described as a *vector* and is represented as a single column matrix $\\begin{bmatrix}\n",
        " a\\\\\n",
        " b\n",
        "\\end{bmatrix}$.\n",
        "\n",
        "It is also known as a quantum state vector and must meet the requirement that $$|a|^2 + |b|^2 =1$$\n",
        "\n",
        "\n",
        "The element of the matrix represent the probability of the qubit collapsing one way or the other, where $|a|^2$ being the probability of collapsing to zero, and $|b|^2$ is the probability of collapsing to state one.\n",
        "\n",
        "The following matrices also represent valid quantum state vector:\n",
        "$$\n",
        "\\begin{bmatrix}\n",
        "1 \\\\\n",
        "0\n",
        "\\end{bmatrix}, \\begin{bmatrix}\n",
        "0 \\\\\n",
        "1\n",
        "\\end{bmatrix}, \\begin{bmatrix}\n",
        "\\frac{1}{\\sqrt{2}} \\\\\n",
        "\\frac{1}{\\sqrt{2}}\n",
        "\\end{bmatrix},\\begin{bmatrix}\n",
        "\\frac{1}{\\sqrt{2}} \\\\\n",
        "\\frac{-1}{\\sqrt{2}}\n",
        "\\end{bmatrix} $$\n",
        "\n",
        "\n",
        "\n",
        "Quantum operations can be represented by a matrix as well. When a quantum operation is applied to a qubit, the two matrices that represent them are multiplied and the resulting answer represents the new state of the qubit after the operation.\n",
        "\n",
        "\n"
      ],
      "metadata": {
        "id": "sz4Y4LTv5SLN"
      }
    },
    {
      "cell_type": "markdown",
      "source": [
        "*Let's revisit some Linear Algebra*\n",
        "\n",
        "\n",
        "Although I have made a full series on Computational Linear Agebra, you can visit that [here] and learn Linear Algebra in complete detail.\n",
        "\n",
        "Here I'll just give a brief overview of it."
      ],
      "metadata": {
        "id": "Vvn9bvZT8P6H"
      }
    },
    {
      "cell_type": "markdown",
      "source": [
        "# Introduction to Linear Algebra\n",
        "\n",
        "This is a tutorial designed to introduce you to the basics of linear algebra.\n",
        "Linear algebra is a branch of mathematics dedicated to studying the properties of matrices and vectors,\n",
        "which are used extensively in quantum computing to represent quantum states and operations on them.\n",
        "This tutorial doesn't come close to covering the full breadth of the topic, but it should be enough to get you comfortable with the main concepts of linear algebra used in quantum computing.\n",
        "\n",
        "This tutorial assumes familiarity with complex numbers; if you need a review of this topic, I recommend that you complete the [Complex Arithmetic](https://github.com/MonitSharma/Quantum-Computing-with-Qiskit-and-IBMQ/blob/main/ComplexArithmetic.ipynb) tutorial before tackling this one.\n",
        "\n",
        "This tutorial covers the following topics:\n",
        "* Matrices and vectors\n",
        "* Basic matrix operations\n",
        "* Operations and properties of complex matrices\n",
        "* Inner and outer vector products\n",
        "* Tensor product\n",
        "* Eigenvalues and eigenvectors\n",
        "\n"
      ],
      "metadata": {
        "id": "4EmojSWG9S2X"
      }
    },
    {
      "cell_type": "markdown",
      "source": [
        "This notebook has several tasks that require you to write Python code to test your understanding of the concepts. If you are not familiar with Python, [here](https://docs.python.org/3/tutorial/index.html) is a good introductory tutorial for it.\n",
        "\n",
        "> The exercises use Python's built-in representation of complex numbers. Most of the operations (addition, multiplication, etc.) work as you expect them to. Here are a few notes on Python-specific syntax:\n",
        ">\n",
        "> * If `z` is a complex number, `z.real` is the real component, and `z.imag` is the coefficient of the imaginary component.\n",
        "> * To represent an imaginary number, put `j` after a real number: $3.14i$ would be `3.14j`.\n",
        "> * To represent a complex number, simply add a real number and an imaginary number.\n",
        "> * The built-in function `abs` computes the modulus of a complex number.\n",
        ">\n",
        "> You can find more information in the [official documentation](https://docs.python.org/3/library/cmath.html).\n",
        "\n",
        "Let's start by importing some useful mathematical functions and constants, and setting up a few things necessary"
      ],
      "metadata": {
        "id": "akyrpUQ6tuQF"
      }
    },
    {
      "cell_type": "code",
      "source": [
        "import math, cmath\n",
        "from typing import List\n",
        "\n",
        "Matrix = List[List[complex]]"
      ],
      "metadata": {
        "id": "BK5K_9ryEi77"
      },
      "execution_count": null,
      "outputs": []
    },
    {
      "cell_type": "markdown",
      "source": [
        "# Part I. Matrices and Basic Operations\n",
        "\n",
        "## Matrices and Vectors\n",
        "\n",
        "A **matrix** is set of numbers arranged in a rectangular grid. Here is a $2$ by $2$ matrix:\n",
        "\n",
        "$$A =\n",
        "\\begin{bmatrix} 1 & 2 \\\\ 3 & 4 \\end{bmatrix}$$\n",
        "\n",
        "$A_{i,j}$ refers to the element in row $i$ and column $j$ of matrix $A$ (all indices are 0-based). In the above example, $A_{0,1} = 2$.\n",
        "\n",
        "An $n \\times m$ matrix will have $n$ rows and $m$ columns, like so:\n",
        "\n",
        "$$\\begin{bmatrix}\n",
        "    x_{0,0} & x_{0,1} & \\dotsb & x_{0,m-1} \\\\\n",
        "    x_{1,0} & x_{1,1} & \\dotsb & x_{1,m-1} \\\\\n",
        "    \\vdots  & \\vdots  & \\ddots & \\vdots  \\\\\n",
        "    x_{n-1,0} & x_{n-1,1} & \\dotsb & x_{n-1,m-1}\n",
        "\\end{bmatrix}$$\n",
        "\n",
        "A $1 \\times 1$ matrix is equivalent to a scalar:\n",
        "\n",
        "$$\\begin{bmatrix} 3 \\end{bmatrix} = 3$$\n",
        "\n",
        "Quantum computing uses complex-valued matrices: the elements of a matrix can be complex numbers. This, for example, is a valid complex-valued matrix:\n",
        "\n",
        "$$\\begin{bmatrix}\n",
        "    1 & i \\\\\n",
        "    -2i & 3 + 4i\n",
        "\\end{bmatrix}$$\n",
        "\n",
        "Finally, a **vector** is an $n \\times 1$ matrix. Here, for example, is a $3 \\times 1$ vector:\n",
        "\n",
        "$$V = \\begin{bmatrix} 1 \\\\ 2i \\\\ 3 + 4i \\end{bmatrix}$$\n",
        "\n",
        "Since vectors always have a width of $1$, vector elements are sometimes written using only one index. In the above example, $V_0 = 1$ and $V_1 = 2i$."
      ],
      "metadata": {
        "id": "UFqeojY7t8Xk"
      }
    },
    {
      "cell_type": "markdown",
      "source": [
        "## Matrix Addition\n",
        "\n",
        "The easiest matrix operation is **matrix addition**. Matrix addition works between two matrices of the same size, and adds each number from the first matrix to the number in the same position in the second matrix:\n",
        "\n",
        "$$\\begin{bmatrix}\n",
        "    x_{0,0} & x_{0,1} & \\dotsb & x_{0,m-1} \\\\\n",
        "    x_{1,0} & x_{1,1} & \\dotsb & x_{1,m-1} \\\\\n",
        "    \\vdots  & \\vdots  & \\ddots & \\vdots  \\\\\n",
        "    x_{n-1,0} & x_{n-1,1} & \\dotsb & x_{n-1,m-1}\n",
        "\\end{bmatrix}\n",
        "+\n",
        "\\begin{bmatrix}\n",
        "    y_{0,0} & y_{0,1} & \\dotsb & y_{0,m-1} \\\\\n",
        "    y_{1,0} & y_{1,1} & \\dotsb & y_{1,m-1} \\\\\n",
        "    \\vdots  & \\vdots  & \\ddots & \\vdots  \\\\\n",
        "    y_{n-1,0} & y_{n-1,1} & \\dotsb & y_{n-1,m-1}\n",
        "\\end{bmatrix}\n",
        "=\n",
        "\\begin{bmatrix}\n",
        "    x_{0,0} + y_{0,0} & x_{0,1} + y_{0,1} & \\dotsb & x_{0,m-1} + y_{0,m-1} \\\\\n",
        "    x_{1,0} + y_{1,0} & x_{1,1} + y_{1,1} & \\dotsb & x_{1,m-1} + y_{1,m-1} \\\\\n",
        "    \\vdots  & \\vdots  & \\ddots & \\vdots  \\\\\n",
        "    x_{n-1,0} + y_{n-1,0} & x_{n-1,1} + y_{n-1,1} & \\dotsb & x_{n-1,m-1} + y_{n-1,m-1}\n",
        "\\end{bmatrix}$$\n",
        "\n",
        "Similarly, we can compute $A - B$ by subtracting elements of $B$ from corresponding elements of $A$.\n",
        "\n",
        "Matrix addition has the following properties:\n",
        "\n",
        "* Commutativity: $A + B = B + A$\n",
        "* Associativity: $(A + B) + C = A + (B + C)$"
      ],
      "metadata": {
        "id": "xGwZlGWhuB3I"
      }
    },
    {
      "cell_type": "markdown",
      "source": [
        "### <span style=\"color:blue\">Exercise 1</span>: Matrix addition.\n",
        "\n",
        "**Inputs:**\n",
        "\n",
        "1. An $n \\times m$ matrix $A$, represented as a two-dimensional list.\n",
        "2. An $n \\times m$ matrix $B$, represented as a two-dimensional list.\n",
        "\n",
        "**Output:** Return the sum of the matrices $A + B$ - an $n \\times m$ matrix, represented as a two-dimensional list.\n",
        "\n",
        "> When representing matrices as lists, each sub-list represents a row.\n",
        ">\n",
        "> For example, list `[[1, 2], [3, 4]]` represents the following matrix:\n",
        ">\n",
        "> $$\\begin{bmatrix}\n",
        "    1 & 2 \\\\\n",
        "    3 & 4\n",
        "\\end{bmatrix}$$\n",
        "\n",
        "Fill in the missing code and run the cell below to test your work.\n",
        "\n",
        "<br/>\n",
        "<details>\n",
        "    <summary><b>Need a hint? Click here</b></summary>\n",
        "    A video explanation can be found <a href=\"https://www.youtube.com/watch?v=WR9qCSXJlyY\">here</a>.\n",
        "</details>"
      ],
      "metadata": {
        "id": "lUHqLnkUuGoT"
      }
    },
    {
      "cell_type": "code",
      "source": [
        "def create_empty_matrix(rows, columns):\n",
        "    # Create an empty matrix filled with 0s\n",
        "    matrix = [[0] * columns for _ in range(rows)]\n",
        "\n",
        "    return matrix\n"
      ],
      "metadata": {
        "id": "C3IjIHVkt4dK"
      },
      "execution_count": 2,
      "outputs": []
    },
    {
      "cell_type": "code",
      "source": [
        "def matrix_add(a, b):\n",
        "    # Get the size of the matrices\n",
        "    rows = len(a)\n",
        "    columns = len(a[0])\n",
        "\n",
        "    # Create an empty matrix to store the result\n",
        "    c = create_empty_matrix(rows, columns)\n",
        "\n",
        "    # Perform element-wise addition of matrices\n",
        "    for i in range(rows):\n",
        "        for j in range(columns):\n",
        "            c[i][j] = a[i][j] + b[i][j]\n",
        "\n",
        "    return c\n"
      ],
      "metadata": {
        "id": "LyBJCG2iaoft"
      },
      "execution_count": 3,
      "outputs": []
    },
    {
      "cell_type": "code",
      "source": [
        "A = [[1, 2, 3],\n",
        "     [4, 5, 6]]\n",
        "\n",
        "B = [[7, 8, 9],\n",
        "     [10, 11, 12]]\n",
        "\n",
        "result = matrix_add(A, B)\n",
        "print(result)\n",
        "# Output: [[8, 10, 12],\n",
        "#          [14, 16, 18]]\n"
      ],
      "metadata": {
        "colab": {
          "base_uri": "https://localhost:8080/"
        },
        "id": "kzN47zMcaoac",
        "outputId": "f98a53f9-be60-45f3-80ce-f7a1754c04be"
      },
      "execution_count": 4,
      "outputs": [
        {
          "output_type": "stream",
          "name": "stdout",
          "text": [
            "[[8, 10, 12], [14, 16, 18]]\n"
          ]
        }
      ]
    },
    {
      "cell_type": "markdown",
      "source": [
        "## Scalar Multiplication\n",
        "\n",
        "The next matrix operation is **scalar multiplication** - multiplying the entire matrix by a scalar (real or complex number):\n",
        "\n",
        "$$a \\cdot\n",
        "\\begin{bmatrix}\n",
        "    x_{0,0} & x_{0,1} & \\dotsb & x_{0,m-1} \\\\\n",
        "    x_{1,0} & x_{1,1} & \\dotsb & x_{1,m-1} \\\\\n",
        "    \\vdots  & \\vdots  & \\ddots & \\vdots  \\\\\n",
        "    x_{n-1,0} & x_{n-1,1} & \\dotsb & x_{n-1,m-1}\n",
        "\\end{bmatrix}\n",
        "=\n",
        "\\begin{bmatrix}\n",
        "    a \\cdot x_{0,0} & a \\cdot x_{0,1} & \\dotsb & a \\cdot x_{0,m-1} \\\\\n",
        "    a \\cdot x_{1,0} & a \\cdot x_{1,1} & \\dotsb & a \\cdot x_{1,m-1} \\\\\n",
        "    \\vdots  & \\vdots  & \\ddots & \\vdots  \\\\\n",
        "    a \\cdot x_{n-1,0} & a \\cdot x_{n-1,1} & \\dotsb & a \\cdot x_{n-1,m-1}\n",
        "\\end{bmatrix}$$\n",
        "\n",
        "Scalar multiplication has the following properties:\n",
        "\n",
        "* Associativity: $x \\cdot (yA) = (x \\cdot y)A$\n",
        "* Distributivity over matrix addition: $x(A + B) = xA + xB$\n",
        "* Distributivity over scalar addition: $(x + y)A = xA + yA$"
      ],
      "metadata": {
        "id": "tI8z8WNKaryk"
      }
    },
    {
      "cell_type": "markdown",
      "source": [
        "### <span style=\"color:blue\">Exercise 2</span>: Scalar multiplication.\n",
        "\n",
        "**Inputs:**\n",
        "\n",
        "1. A scalar $x$.\n",
        "2. An $n \\times m$ matrix $A$.\n",
        "\n",
        "**Output:** Return the $n \\times m$ matrix $x \\cdot A$.\n",
        "\n",
        "<br/>\n",
        "<details>\n",
        "    <summary><b>Need a hint? Click here</b></summary>\n",
        "    A video explanation can be found <a href=\"https://www.youtube.com/watch?v=TbaltFbJ3wE\">here</a>.\n",
        "</details>"
      ],
      "metadata": {
        "id": "U3LZdnHLauFe"
      }
    },
    {
      "cell_type": "code",
      "source": [
        "def scalar_mult(x, a):\n",
        "    # Get the size of the matrix\n",
        "    rows = len(a)\n",
        "    columns = len(a[0])\n",
        "\n",
        "    # Create a new matrix to store the result\n",
        "    result = create_empty_matrix(rows, columns)\n",
        "\n",
        "    # Perform scalar multiplication\n",
        "    for i in range(rows):\n",
        "        for j in range(columns):\n",
        "            # Access element of the matrix\n",
        "            element = a[i][j]\n",
        "\n",
        "            # Compute the scalar multiplication and store it in the result matrix\n",
        "            result[i][j] = x * element\n",
        "\n",
        "    return result\n"
      ],
      "metadata": {
        "id": "PAe-5mdnasK9"
      },
      "execution_count": 5,
      "outputs": []
    },
    {
      "cell_type": "code",
      "source": [
        "x = 2\n",
        "A = [[1, 2, 3],\n",
        "     [4, 5, 6]]\n",
        "\n",
        "result = scalar_mult(x, A)\n",
        "print(result)\n",
        "# Output: [[2, 4, 6],\n",
        "#          [8, 10, 12]]\n"
      ],
      "metadata": {
        "colab": {
          "base_uri": "https://localhost:8080/"
        },
        "id": "i83wJe-nawRO",
        "outputId": "273d5890-6586-4a25-aa36-089761af739b"
      },
      "execution_count": 6,
      "outputs": [
        {
          "output_type": "stream",
          "name": "stdout",
          "text": [
            "[[2, 4, 6], [8, 10, 12]]\n"
          ]
        }
      ]
    },
    {
      "cell_type": "markdown",
      "source": [
        "## Matrix Multiplication\n",
        "\n",
        "**Matrix multiplication** is a very important and somewhat unusual operation. The unusual thing about it is that neither its operands nor its output are the same size: an $n \\times m$ matrix multiplied by an $m \\times k$ matrix results in an $n \\times k$ matrix.\n",
        "That is, for matrix multiplication to be applicable, the number of columns in the first matrix must equal the number of rows in the second matrix.\n",
        "\n",
        "Here is how matrix product is calculated: if we are calculating $AB = C$, then\n",
        "\n",
        "$$C_{i,j} = A_{i,0} \\cdot B_{0,j} + A_{i,1} \\cdot B_{1,j} + \\dotsb + A_{i,m-1} \\cdot B_{m-1,j} = \\sum_{t = 0}^{m-1} A_{i,t} \\cdot B_{t,j}$$\n",
        "\n",
        "Here is a small example:\n",
        "\n",
        "$$\\begin{bmatrix}\n",
        "    \\color{blue} 1 & \\color{blue} 2 & \\color{blue} 3 \\\\\n",
        "    \\color{red}  4 & \\color{red}  5 & \\color{red}  6\n",
        "\\end{bmatrix}\n",
        "\\begin{bmatrix}\n",
        "    1 \\\\\n",
        "    2 \\\\\n",
        "    3\n",
        "\\end{bmatrix}\n",
        "=\n",
        "\\begin{bmatrix}\n",
        "    (\\color{blue} 1 \\cdot 1) + (\\color{blue} 2 \\cdot 2) + (\\color{blue} 3 \\cdot 3) \\\\\n",
        "    (\\color{red}  4 \\cdot 1) + (\\color{red}  5 \\cdot 2) + (\\color{red}  6 \\cdot 3)\n",
        "\\end{bmatrix}\n",
        "=\n",
        "\\begin{bmatrix}\n",
        "    14 \\\\\n",
        "    32\n",
        "\\end{bmatrix}$$"
      ],
      "metadata": {
        "id": "fpyKiWVOazTE"
      }
    },
    {
      "cell_type": "markdown",
      "source": [
        "Matrix multiplication has the following properties:\n",
        "\n",
        "* Associativity: $A(BC) = (AB)C$\n",
        "* Distributivity over matrix addition: $A(B + C) = AB + AC$ and $(A + B)C = AC + BC$\n",
        "* Associativity with scalar multiplication: $xAB = x(AB) = A(xB)$\n",
        "\n",
        "> Note that matrix multiplication is **not commutative:** $AB$ rarely equals $BA$.\n",
        "\n",
        "Another very important property of matrix multiplication is that a matrix multiplied by a vector produces another vector.\n",
        "\n",
        "An **identity matrix** $I_n$ is a special $n \\times n$ matrix which has $1$s on the main diagonal, and $0$s everywhere else:\n",
        "\n",
        "$$I_n =\n",
        "\\begin{bmatrix}\n",
        "    1 & 0 & \\dotsb & 0 \\\\\n",
        "    0 & 1 & \\dotsb & 0 \\\\\n",
        "    \\vdots & \\vdots & \\ddots & \\vdots \\\\\n",
        "    0 & 0 & \\dotsb & 1\n",
        "\\end{bmatrix}$$\n",
        "\n",
        "What makes it special is that multiplying any matrix (of compatible size) by $I_n$ returns the original matrix. To put it another way, if $A$ is an $n \\times m$ matrix:\n",
        "\n",
        "$$AI_m = I_nA = A$$\n",
        "\n",
        "This is why $I_n$ is called an identity matrix - it acts as a **multiplicative identity**. In other words, it is the matrix equivalent of the number $1$."
      ],
      "metadata": {
        "id": "0eMVTkJTa1h8"
      }
    },
    {
      "cell_type": "markdown",
      "source": [
        "### <span style=\"color:blue\">Exercise 3</span>: Matrix multiplication.\n",
        "\n",
        "**Inputs:**\n",
        "\n",
        "1. An $n \\times m$ matrix $A$.\n",
        "2. An $m \\times k$ matrix $B$.\n",
        "\n",
        "**Output:** Return the $n \\times k$ matrix equal to the matrix product $AB$.\n",
        "\n",
        "<br/>\n",
        "<details>\n",
        "    <summary><strong>Need a hint? Click here</strong></summary>\n",
        "    To solve this exercise, you will need 3 <code>for</code> loops: one to go over $n$ rows of the output matrix, one to go over $k$ columns, and one to add up $m$ products that form each element of the output:\n",
        "    <pre>\n",
        "        <code>\n",
        "    for i in range(n):\n",
        "        for j in range(k):\n",
        "            sum = 0\n",
        "            for t in range(m):\n",
        "                sum = sum + ...\n",
        "            c[i][j] = sum\n",
        "        </code>\n",
        "    </pre>\n",
        "     A video explanation can be found <a href=\"https://www.youtube.com/watch?v=OMA2Mwo0aZg\">here</a>.\n",
        "</details>"
      ],
      "metadata": {
        "id": "Lg0q_sROa3ns"
      }
    },
    {
      "cell_type": "code",
      "source": [
        "def matrix_mult(a, b):\n",
        "    # Get the dimensions of matrices a and b\n",
        "    rows_a = len(a)\n",
        "    cols_a = len(a[0])\n",
        "    rows_b = len(b)\n",
        "    cols_b = len(b[0])\n",
        "\n",
        "    # Check if the matrices can be multiplied\n",
        "    if cols_a != rows_b:\n",
        "        raise ValueError(\"Matrices cannot be multiplied. Invalid dimensions.\")\n",
        "\n",
        "    # Create a new matrix to store the result\n",
        "    result = create_empty_matrix(rows_a, cols_b)\n",
        "\n",
        "    # Perform matrix multiplication\n",
        "    for i in range(rows_a):\n",
        "        for j in range(cols_b):\n",
        "            for k in range(cols_a):\n",
        "                # Access elements from matrices a and b\n",
        "                element_a = a[i][k]\n",
        "                element_b = b[k][j]\n",
        "\n",
        "                # Compute the product and accumulate it in the result matrix\n",
        "                result[i][j] += element_a * element_b\n",
        "\n",
        "    return result\n"
      ],
      "metadata": {
        "id": "46pRs4WVaxxt"
      },
      "execution_count": 7,
      "outputs": []
    },
    {
      "cell_type": "code",
      "source": [
        "A = [[1, 2, 3],\n",
        "     [4, 5, 6]]\n",
        "\n",
        "B = [[7, 8],\n",
        "     [9, 10],\n",
        "     [11, 12]]\n",
        "\n",
        "result = matrix_mult(A, B)\n",
        "print(result)\n",
        "# Output: [[58, 64],\n",
        "#          [139, 154]]\n"
      ],
      "metadata": {
        "colab": {
          "base_uri": "https://localhost:8080/"
        },
        "id": "rOT-Vsf7a5q9",
        "outputId": "234cd849-2445-4c63-9d4a-1a3dc98bcaf9"
      },
      "execution_count": 8,
      "outputs": [
        {
          "output_type": "stream",
          "name": "stdout",
          "text": [
            "[[58, 64], [139, 154]]\n"
          ]
        }
      ]
    },
    {
      "cell_type": "markdown",
      "source": [
        "## Inverse Matrices\n",
        "\n",
        "A square $n \\times n$ matrix $A$ is **invertible** if it has an inverse $n \\times n$ matrix $A^{-1}$ with the following property:\n",
        "\n",
        "$$AA^{-1} = A^{-1}A = I_n$$\n",
        "\n",
        "In other words, $A^{-1}$ acts as the **multiplicative inverse** of $A$.\n",
        "\n",
        "Another, equivalent definition highlights what makes this an interesting property. For any matrices $B$ and $C$ of compatible sizes:\n",
        "\n",
        "$$A^{-1}(AB) = A(A^{-1}B) = B$$\n",
        "$$(CA)A^{-1} = (CA^{-1})A = C$$\n",
        "\n",
        "A square matrix has a property called the **determinant**, with the determinant of matrix $A$ being written as $|A|$. A matrix is invertible if and only if its determinant isn't equal to $0$.\n",
        "\n",
        "For a $2 \\times 2$ matrix $A$, the determinant is defined as $|A| = (A_{0,0} \\cdot A_{1,1}) - (A_{0,1} \\cdot A_{1,0})$.\n",
        "\n",
        "For larger matrices, the determinant is defined through determinants of sub-matrices. You can learn more from [Wikipedia](https://en.wikipedia.org/wiki/Determinant) or from [Wolfram MathWorld](http://mathworld.wolfram.com/Determinant.html)."
      ],
      "metadata": {
        "id": "v0KGQx5Ya8c-"
      }
    },
    {
      "cell_type": "markdown",
      "source": [
        "### <span style=\"color:blue\">Exercise 4</span>: Matrix Inversion.\n",
        "\n",
        "**Input:** An invertible  matrix $A$.\n",
        "\n",
        "**Output:** Return the inverse of $A$, a  matrix $A^{-1}$.\n",
        "\n",
        "<br/>\n",
        "<details>\n",
        "    <summary><strong>Need a hint? Click here</strong></summary>\n",
        "    Try to come up with a general method of doing it by hand first. If you get stuck, you may find <a href=\"https://en.wikipedia.org/wiki/Invertible_matrix#Inversion_of_2_%C3%97_2_matrices\">this Wikipedia article</a> useful. For this exercise, $|A|$ is guaranteed to be non-zero. <br>\n",
        "    A video explanation can be found <a href=\"https://www.youtube.com/watch?v=01c12NaUQDw\">here</a>.\n",
        "</details>"
      ],
      "metadata": {
        "id": "L1JHYvoBa_Nd"
      }
    },
    {
      "cell_type": "code",
      "source": [
        "def determinant(a):\n",
        "    # Get the dimension of the matrix\n",
        "    n = len(a)\n",
        "\n",
        "    # Check if the matrix is square\n",
        "    if n != len(a[0]):\n",
        "        raise ValueError(\"Matrix must be square.\")\n",
        "\n",
        "    # Base case: for a 1x1 matrix, return the single element as the determinant\n",
        "    if n == 1:\n",
        "        return a[0][0]\n",
        "\n",
        "    # Recursive case: calculate the determinant using cofactor expansion\n",
        "    det = 0\n",
        "\n",
        "    for j in range(n):\n",
        "        # Create a submatrix without the first row and the j-th column\n",
        "        submatrix = [[a[i][col] for col in range(n) if col != j] for i in range(1, n)]\n",
        "\n",
        "        # Calculate the determinant of the submatrix recursively\n",
        "        sub_det = determinant(submatrix)\n",
        "\n",
        "        # Calculate the cofactor by multiplying the element with (-1)^(1+j)\n",
        "        cofactor = (-1) ** (1 + j) * sub_det\n",
        "\n",
        "        # Accumulate the cofactors to compute the determinant\n",
        "        det += a[0][j] * cofactor\n",
        "\n",
        "    return det\n"
      ],
      "metadata": {
        "id": "xTu1ptRza66d"
      },
      "execution_count": 9,
      "outputs": []
    },
    {
      "cell_type": "code",
      "source": [
        "def matrix_inverse(a):\n",
        "    # Get the dimensions of the matrix\n",
        "    n = len(a)\n",
        "\n",
        "    # Check if the matrix is square\n",
        "    if n != len(a[0]):\n",
        "        raise ValueError(\"Matrix must be square.\")\n",
        "\n",
        "    # Calculate the determinant of the matrix\n",
        "    det = determinant(a)\n",
        "\n",
        "    # Check if the matrix is invertible (non-zero determinant)\n",
        "    if det == 0:\n",
        "        raise ValueError(\"Matrix is not invertible.\")\n",
        "\n",
        "    # Create an empty matrix to store the inverse\n",
        "    inverse = create_empty_matrix(n, n)\n",
        "\n",
        "    # Calculate the matrix of minors\n",
        "    for i in range(n):\n",
        "        for j in range(n):\n",
        "            # Create a submatrix without the i-th row and j-th column\n",
        "            submatrix = [[a[row][col] for col in range(n) if col != j] for row in range(n) if row != i]\n",
        "\n",
        "            # Calculate the determinant of the submatrix\n",
        "            minor = determinant(submatrix)\n",
        "\n",
        "            # Calculate the cofactor by multiplying the determinant with (-1)^(i+j)\n",
        "            cofactor = (-1) ** (i + j) * minor\n",
        "\n",
        "            # Calculate the element of the inverse matrix\n",
        "            inverse[j][i] = cofactor / det\n",
        "\n",
        "    return inverse\n"
      ],
      "metadata": {
        "id": "fc-mtCnWbEPN"
      },
      "execution_count": 10,
      "outputs": []
    },
    {
      "cell_type": "code",
      "source": [
        "A = [[1, 3, 3],\n",
        "     [4, 5, 6],\n",
        "     [7,8,9]]\n",
        "\n",
        "\n",
        "\n",
        "result = matrix_inverse(A)\n",
        "print(result)"
      ],
      "metadata": {
        "colab": {
          "base_uri": "https://localhost:8080/"
        },
        "id": "UhVWVGyQbFXN",
        "outputId": "b9698045-706e-435b-c960-02abdf6dd39e"
      },
      "execution_count": 11,
      "outputs": [
        {
          "output_type": "stream",
          "name": "stdout",
          "text": [
            "[[0.5, 0.5, -0.5], [-1.0, 2.0, -1.0], [0.5, -2.1666666666666665, 1.1666666666666667]]\n"
          ]
        }
      ]
    },
    {
      "cell_type": "markdown",
      "source": [
        "## Transpose\n",
        "\n",
        "The **transpose** operation, denoted as $A^T$, is essentially a reflection of the matrix across the diagonal: $(A^T)_{i,j} = A_{j,i}$.\n",
        "\n",
        "Given an $n \\times m$ matrix $A$, its transpose is the $m \\times n$ matrix $A^T$, such that if:\n",
        "\n",
        "$$A =\n",
        "\\begin{bmatrix}\n",
        "    x_{0,0} & x_{0,1} & \\dotsb & x_{0,m-1} \\\\\n",
        "    x_{1,0} & x_{1,1} & \\dotsb & x_{1,m-1} \\\\\n",
        "    \\vdots & \\vdots & \\ddots & \\vdots \\\\\n",
        "    x_{n-1,0} & x_{n-1,1} & \\dotsb & x_{n-1,m-1}\n",
        "\\end{bmatrix}$$\n",
        "\n",
        "then:\n",
        "\n",
        "$$A^T =\n",
        "\\begin{bmatrix}\n",
        "    x_{0,0} & x_{1,0} & \\dotsb & x_{n-1,0} \\\\\n",
        "    x_{0,1} & x_{1,1} & \\dotsb & x_{n-1,1} \\\\\n",
        "    \\vdots & \\vdots & \\ddots & \\vdots \\\\\n",
        "    x_{0,m-1} & x_{1,m-1} & \\dotsb & x_{n-1,m-1}\n",
        "\\end{bmatrix}$$\n",
        "\n",
        "For example:\n",
        "\n",
        "$$\\begin{bmatrix}\n",
        "    1 & 2 \\\\\n",
        "    3 & 4 \\\\\n",
        "    5 & 6\n",
        "\\end{bmatrix}^T\n",
        "=\n",
        "\\begin{bmatrix}\n",
        "    1 & 3 & 5 \\\\\n",
        "    2 & 4 & 6\n",
        "\\end{bmatrix}$$\n",
        "\n",
        "A **symmetric** matrix is a square matrix which equals its own transpose: $A = A^T$. To put it another way, it has reflection symmetry (hence the name) across the main diagonal. For example, the following matrix is symmetric:\n",
        "\n",
        "$$\\begin{bmatrix}\n",
        "    1 & 2 & 3 \\\\\n",
        "    2 & 4 & 5 \\\\\n",
        "    3 & 5 & 6\n",
        "\\end{bmatrix}$$\n",
        "\n",
        "The transpose of a matrix product is equal to the product of transposed matrices, taken in reverse order:\n",
        "\n",
        "$$(AB)^T = B^TA^T$$"
      ],
      "metadata": {
        "id": "ST_XNA0cbIs1"
      }
    },
    {
      "cell_type": "markdown",
      "source": [
        "### <span style=\"color:blue\">Exercise 5</span>: Transpose.\n",
        "\n",
        "**Input:** An $n \\times m$ matrix $A$.\n",
        "\n",
        "**Output:** Return an $m \\times n$ matrix $A^T$, the transpose of $A$.\n",
        "\n",
        "<br/>\n",
        "<details>\n",
        "    <summary><b>Need a hint? Click here</b></summary>\n",
        "    A video explanation can be found <a href=\"https://www.youtube.com/watch?v=TZrKrNVhbjI\">here</a>.\n",
        "</details>"
      ],
      "metadata": {
        "id": "Makf4kM9bKw2"
      }
    },
    {
      "cell_type": "code",
      "source": [
        "def transpose(a):\n",
        "    # Get the dimensions of the matrix\n",
        "    rows = len(a)\n",
        "    columns = len(a[0])\n",
        "\n",
        "    # Create an empty matrix to store the transpose\n",
        "    transposed = create_empty_matrix(columns, rows)\n",
        "\n",
        "    # Fill in the transposed matrix with elements from the original matrix\n",
        "    for i in range(rows):\n",
        "        for j in range(columns):\n",
        "            transposed[j][i] = a[i][j]\n",
        "\n",
        "    return transposed\n"
      ],
      "metadata": {
        "id": "CbA1luzlbGx9"
      },
      "execution_count": 12,
      "outputs": []
    },
    {
      "cell_type": "code",
      "source": [
        "A = [[1, 2, 3],\n",
        "     [4, 5, 6],\n",
        "     [7, 8, 9]]\n",
        "\n",
        "A_transposed = transpose(A)\n",
        "print(A_transposed)\n",
        "# Output: [[1, 4, 7],\n",
        "#          [2, 5, 8],\n",
        "#          [3, 6, 9]]\n"
      ],
      "metadata": {
        "colab": {
          "base_uri": "https://localhost:8080/"
        },
        "id": "jku70-2YbNpU",
        "outputId": "9c7e3a19-62b3-402c-81c3-1b15a487116c"
      },
      "execution_count": 13,
      "outputs": [
        {
          "output_type": "stream",
          "name": "stdout",
          "text": [
            "[[1, 4, 7], [2, 5, 8], [3, 6, 9]]\n"
          ]
        }
      ]
    },
    {
      "cell_type": "markdown",
      "source": [
        "## Conjugate\n",
        "\n",
        "The next important single-matrix operation is the **matrix conjugate**, denoted as $\\overline{A}$. This, as the name might suggest, involves taking the [complex conjugate](../ComplexArithmetic/ComplexArithmetic.ipynb#Complex-Conjugate) of every element of the matrix: if\n",
        "\n",
        "$$A =\n",
        "\\begin{bmatrix}\n",
        "    x_{0,0} & x_{0,1} & \\dotsb & x_{0,m-1} \\\\\n",
        "    x_{1,0} & x_{1,1} & \\dotsb & x_{1,m-1} \\\\\n",
        "    \\vdots & \\vdots & \\ddots & \\vdots \\\\\n",
        "    x_{n-1,0} & x_{n-1,1} & \\dotsb & x_{n-1,m-1}\n",
        "\\end{bmatrix}$$\n",
        "\n",
        "Then:\n",
        "\n",
        "$$\\overline{A} =\n",
        "\\begin{bmatrix}\n",
        "    \\overline{x}_{0,0} & \\overline{x}_{0,1} & \\dotsb & \\overline{x}_{0,m-1} \\\\\n",
        "    \\overline{x}_{1,0} & \\overline{x}_{1,1} & \\dotsb & \\overline{x}_{1,m-1} \\\\\n",
        "    \\vdots & \\vdots & \\ddots & \\vdots \\\\\n",
        "    \\overline{x}_{n-1,0} & \\overline{x}_{n-1,1} & \\dotsb & \\overline{x}_{n-1,m-1}\n",
        "\\end{bmatrix}$$\n",
        "\n",
        "The conjugate of a matrix product equals to the product of conjugates of the matrices:\n",
        "\n",
        "$$\\overline{AB} = (\\overline{A})(\\overline{B})$$"
      ],
      "metadata": {
        "id": "MAMZTn0HbPbU"
      }
    },
    {
      "cell_type": "markdown",
      "source": [
        "### <span style=\"color:blue\">Exercise 6</span>: Conjugate.\n",
        "\n",
        "**Input:** An $n \\times m$ matrix $A$.\n",
        "\n",
        "**Output:** Return an $n \\times m$ matrix $\\overline{A}$, the conjugate of $A$.\n",
        "\n",
        "> As a reminder, you can get the real and imaginary components of complex number `z` using `z.real` and `z.imag`, respectively.\n",
        "<details>\n",
        "    <summary><b>Need a hint? Click here</b></summary>\n",
        "    To calculate the conjugate of a matrix take the conjugate of each element, check the <a href=\"../ComplexArithmetic/ComplexArithmetic.ipynb#Exercise-4:-Complex-conjugate.\">complex arithmetic tutorial</a> to see how to calculate the conjugate of a complex number.\n",
        "</details>"
      ],
      "metadata": {
        "id": "unK_GntdbRbV"
      }
    },
    {
      "cell_type": "code",
      "source": [
        "def conjugate(a):\n",
        "    # Get the dimensions of the matrix\n",
        "    rows = len(a)\n",
        "    columns = len(a[0])\n",
        "\n",
        "    # Create an empty matrix to store the conjugate\n",
        "    conjugated = create_empty_matrix(rows, columns)\n",
        "\n",
        "    # Fill in the conjugated matrix with conjugates of elements from the original matrix\n",
        "    for i in range(rows):\n",
        "        for j in range(columns):\n",
        "            element = a[i][j]\n",
        "            conjugated[i][j] = complex(element.real, -element.imag)\n",
        "\n",
        "    return conjugated\n"
      ],
      "metadata": {
        "id": "tA-NQRX5bMhh"
      },
      "execution_count": 14,
      "outputs": []
    },
    {
      "cell_type": "code",
      "source": [
        "A = [[1+2j, 2+3j],\n",
        "     [3+4j, 4+5j]]\n",
        "\n",
        "A_conjugated = conjugate(A)\n",
        "print(A_conjugated)\n",
        "# Output: [[1-2j, 2-3j],\n",
        "#          [3-4j, 4-5j]]\n"
      ],
      "metadata": {
        "colab": {
          "base_uri": "https://localhost:8080/"
        },
        "id": "ZK5i9ULcbTXu",
        "outputId": "9a6c0ddc-9405-4505-af1f-f406969d7cb6"
      },
      "execution_count": 15,
      "outputs": [
        {
          "output_type": "stream",
          "name": "stdout",
          "text": [
            "[[(1-2j), (2-3j)], [(3-4j), (4-5j)]]\n"
          ]
        }
      ]
    },
    {
      "cell_type": "markdown",
      "source": [
        "## Adjoint\n",
        "\n",
        "The final important single-matrix operation is a combination of the above two. The **conjugate transpose**, also called the **adjoint** of matrix $A$, is defined as $A^\\dagger = \\overline{(A^T)} = (\\overline{A})^T$.\n",
        "\n",
        "A matrix is known as **Hermitian** or **self-adjoint** if it equals its own adjoint: $A = A^\\dagger$. For example, the following matrix is Hermitian:\n",
        "\n",
        "$$\\begin{bmatrix}\n",
        "    1 & i \\\\\n",
        "    -i & 2\n",
        "\\end{bmatrix}$$\n",
        "\n",
        "The adjoint of a matrix product can be calculated as follows:\n",
        "\n",
        "$$(AB)^\\dagger = B^\\dagger A^\\dagger$$"
      ],
      "metadata": {
        "id": "mI9H_G1UbWZE"
      }
    },
    {
      "cell_type": "markdown",
      "source": [
        "### <span style=\"color:blue\">Exercise 7</span>: Adjoint.\n",
        "\n",
        "**Input:** An $n \\times m$ matrix $A$.\n",
        "\n",
        "**Output:** Return an $m \\times n$ matrix $A^\\dagger$, the adjoint of $A$.\n",
        "\n",
        "> Don't forget, you can re-use functions you've written previously."
      ],
      "metadata": {
        "id": "vB9UJedIbY30"
      }
    },
    {
      "cell_type": "code",
      "source": [
        "def adjoint(a):\n",
        "    # Get the dimensions of the matrix\n",
        "    rows = len(a)\n",
        "    columns = len(a[0])\n",
        "\n",
        "    # Create an empty matrix to store the adjoint\n",
        "    adjointed = create_empty_matrix(columns, rows)\n",
        "\n",
        "    # Fill in the adjointed matrix with conjugates of elements from the original matrix\n",
        "    for i in range(rows):\n",
        "        for j in range(columns):\n",
        "            element = a[i][j]\n",
        "            adjointed[j][i] = complex(element.real, -element.imag)\n",
        "\n",
        "    return adjointed\n"
      ],
      "metadata": {
        "id": "yBujnHSObUi8"
      },
      "execution_count": 16,
      "outputs": []
    },
    {
      "cell_type": "code",
      "source": [
        "A = [[1+2j, 2+3j],\n",
        "     [3+4j, 4+5j]]\n",
        "\n",
        "A_adjointed = adjoint(A)\n",
        "print(A_adjointed)\n",
        "# Output: [[1-2j, 3-4j],\n",
        "#          [2-3j, 4-5j]]\n"
      ],
      "metadata": {
        "colab": {
          "base_uri": "https://localhost:8080/"
        },
        "id": "89__ddPDbbSt",
        "outputId": "80050bda-48f9-479b-ab9e-fc93894c6e6e"
      },
      "execution_count": 17,
      "outputs": [
        {
          "output_type": "stream",
          "name": "stdout",
          "text": [
            "[[(1-2j), (3-4j)], [(2-3j), (4-5j)]]\n"
          ]
        }
      ]
    },
    {
      "cell_type": "markdown",
      "source": [
        "## Unitary Matrices\n",
        "\n",
        "**Unitary matrices** are very important for quantum computing. A matrix is unitary when it is invertible, and its inverse is equal to its adjoint: $U^{-1} = U^\\dagger$. That is, an $n \\times n$ square matrix $U$ is unitary if and only if $UU^\\dagger = U^\\dagger U = I_n$.\n",
        "\n",
        "For example, the following matrix is unitary:\n",
        "\n",
        "$$\\begin{bmatrix}\n",
        "    \\frac{1}{\\sqrt{2}} & \\frac{1}{\\sqrt{2}} \\\\\n",
        "    \\frac{i}{\\sqrt{2}} & \\frac{-i}{\\sqrt{2}} \\\\\n",
        "\\end{bmatrix}$$"
      ],
      "metadata": {
        "id": "NMJK7Q2YbeXd"
      }
    },
    {
      "cell_type": "markdown",
      "source": [
        "## Next Steps\n",
        "\n",
        "Congratulations! At this point, you should understand enough linear algebra to be able to get started with the tutorials on the concept of qubit and on single-qubit quantum gates. The next section covers more advanced matrix operations that help explain the properties of qubits and quantum gates."
      ],
      "metadata": {
        "id": "gp2jDhIQbh7-"
      }
    },
    {
      "cell_type": "markdown",
      "source": [
        "# Part II. Advanced Operations\n",
        "\n",
        "## Inner Product\n",
        "\n",
        "The **inner product** is yet another important matrix operation that is only applied to vectors. Given two vectors $V$ and $W$ of the same size, their inner product $\\langle V , W \\rangle$ is defined as a product of matrices $V^\\dagger$ and $W$:\n",
        "\n",
        "$$\\langle V , W \\rangle = V^\\dagger W$$\n",
        "\n",
        "Let's break this down so it's a bit easier to understand. A $1 \\times n$ matrix (the adjoint of an $n \\times 1$ vector) multiplied by an $n \\times 1$ vector results in a $1 \\times 1$ matrix (which is equivalent to a scalar). The result of an inner product is that scalar.\n",
        "\n",
        "To put it another way, to calculate the inner product of two vectors, take the corresponding elements $V_k$ and $W_k$, multiply the complex conjugate of $V_k$ by $W_k$, and add up those products:\n",
        "\n",
        "$$\\langle V , W \\rangle = \\sum_{k=0}^{n-1}\\overline{V_k}W_k$$\n",
        "\n",
        "Here is a simple example:\n",
        "\n",
        "$$\\langle\n",
        "\\begin{bmatrix}\n",
        "    -6 \\\\\n",
        "    9i\n",
        "\\end{bmatrix}\n",
        ",\n",
        "\\begin{bmatrix}\n",
        "    3 \\\\\n",
        "    -8\n",
        "\\end{bmatrix}\n",
        "\\rangle =\n",
        "\\begin{bmatrix}\n",
        "    -6 \\\\\n",
        "    9i\n",
        "\\end{bmatrix}^\\dagger\n",
        "\\begin{bmatrix}\n",
        "    3 \\\\\n",
        "    -8\n",
        "\\end{bmatrix}\n",
        "=\n",
        "\\begin{bmatrix} -6 & -9i \\end{bmatrix}\n",
        "\\begin{bmatrix}\n",
        "    3 \\\\\n",
        "    -8\n",
        "\\end{bmatrix}\n",
        "= (-6) \\cdot (3) + (-9i) \\cdot (-8) = -18 + 72i$$"
      ],
      "metadata": {
        "id": "OZxBQLhKbnGM"
      }
    },
    {
      "cell_type": "markdown",
      "source": [
        "If you are familiar with the **dot product**, you will notice that it is equivalent to inner product for real-numbered vectors.\n",
        "\n",
        "> We use our definition for these tutorials because it matches the notation used in quantum computing. You might encounter other sources which define the inner product a little differently: $\\langle V , W \\rangle = W^\\dagger V = V^T\\overline{W}$, in contrast to the $V^\\dagger W$ that we use. These definitions are almost equivalent, with some differences in the scalar multiplication by a complex number.\n",
        "\n",
        "An immediate application for the inner product is computing the **vector norm**. The norm of vector $V$ is defined as $||V|| = \\sqrt{\\langle V , V \\rangle}$. This condenses the vector down to a single non-negative real value. If the vector represents coordinates in space, the norm happens to be the length of the vector. A vector is called **normalized** if its norm is equal to $1$.\n",
        "\n",
        "The inner product has the following properties:\n",
        "\n",
        "* Distributivity over addition: $\\langle V + W , X \\rangle = \\langle V , X \\rangle + \\langle W , X \\rangle$ and $\\langle V , W + X \\rangle = \\langle V , W \\rangle + \\langle V , X \\rangle$\n",
        "* Partial associativity with scalar multiplication: $x \\cdot \\langle V , W \\rangle = \\langle \\overline{x}V , W \\rangle = \\langle V , xW \\rangle$\n",
        "* Skew symmetry: $\\langle V , W \\rangle = \\overline{\\langle W , V \\rangle}$\n",
        "* Multiplying a vector by a unitary matrix **preserves the vector's inner product with itself** (and therefore the vector's norm): $\\langle UV , UV \\rangle = \\langle V , V \\rangle$\n",
        "\n",
        "> Note that just like matrix multiplication, the inner product is **not commutative**: $\\langle V , W \\rangle$ won't always equal $\\langle W , V \\rangle$."
      ],
      "metadata": {
        "id": "zczWZ-4Hbpcd"
      }
    },
    {
      "cell_type": "markdown",
      "source": [
        "### <span style=\"color:blue\">Exercise 9</span>: Inner product.\n",
        "\n",
        "**Inputs:**\n",
        "\n",
        "1. An $n \\times 1$ vector $V$.\n",
        "2. An $n \\times 1$ vector $W$.\n",
        "\n",
        "**Output:** Return a complex number - the inner product $\\langle V , W \\rangle$.\n",
        "\n",
        "<br/>\n",
        "<details>\n",
        "    <summary><b>Need a hint? Click here</b></summary>\n",
        "    A video explanation can be found <a href=\"https://www.youtube.com/watch?v=FCmH4MqbFGs\">here</a>.\n",
        "</details>"
      ],
      "metadata": {
        "id": "_9W3LPzGbr1M"
      }
    },
    {
      "cell_type": "code",
      "source": [
        "def inner_prod(v, w):\n",
        "    # Check if the vectors have the same length\n",
        "    if len(v) != len(w):\n",
        "        raise ValueError(\"Vectors must have the same length\")\n",
        "\n",
        "    inner_product = 0\n",
        "    for i in range(len(v)):\n",
        "        inner_product += v[i] * w[i].conjugate()\n",
        "\n",
        "    return inner_product\n"
      ],
      "metadata": {
        "id": "7I9MQnfgbc1_"
      },
      "execution_count": 18,
      "outputs": []
    },
    {
      "cell_type": "code",
      "source": [
        "v = [1+2j, 3+4j, 5+6j]\n",
        "w = [7+8j, 9+10j, 11+12j]\n",
        "\n",
        "result = inner_prod(v, w)\n",
        "print(result)\n",
        "\n"
      ],
      "metadata": {
        "colab": {
          "base_uri": "https://localhost:8080/"
        },
        "id": "AAGyML6jbtgO",
        "outputId": "39eb1883-7be5-42ac-8e39-5b27fff57809"
      },
      "execution_count": 19,
      "outputs": [
        {
          "output_type": "stream",
          "name": "stdout",
          "text": [
            "(217+18j)\n"
          ]
        }
      ]
    },
    {
      "cell_type": "markdown",
      "source": [
        "### <span style=\"color:blue\">Exercise 10</span>: Normalized vectors.\n",
        "\n",
        "**Input:** A non-zero $n \\times 1$ vector $V$.\n",
        "\n",
        "**Output:** Return an $n \\times 1$ vector $\\frac{V}{||V||}$ - the normalized version of the vector $V$.\n",
        "\n",
        "<br/>\n",
        "<details>\n",
        "    <summary><strong>Need a hint? Click here</strong></summary>\n",
        "    You might need the square root function to solve this exercise. As a reminder, <a href=https://docs.python.org/3/library/math.html#math.sqrt>Python's square root function</a> is available in the <code>math</code> library.<br>\n",
        "    A video explanation can be found <a href=\"https://www.youtube.com/watch?v=7fn03DIW3Ak\">here</a>. Note that when this method is used with complex vectors, you should take the modulus of the complex number for the division.\n",
        "</details>"
      ],
      "metadata": {
        "id": "B4ahNllCbwbs"
      }
    },
    {
      "cell_type": "code",
      "source": [
        "import math\n",
        "\n",
        "def normalize(v):\n",
        "    # Calculate the magnitude of the vector\n",
        "    magnitude = math.sqrt(sum(abs(element)**2 for element in v))\n",
        "\n",
        "    # Check if the magnitude is zero\n",
        "    if magnitude == 0:\n",
        "        raise ValueError(\"Cannot normalize a zero vector\")\n",
        "\n",
        "    # Divide each element of the vector by the magnitude\n",
        "    normalized = [element / magnitude for element in v]\n",
        "\n",
        "    return normalized\n"
      ],
      "metadata": {
        "id": "3-UQPIvQbusN"
      },
      "execution_count": 20,
      "outputs": []
    },
    {
      "cell_type": "code",
      "source": [
        "v = [1+2j, 3+4j, 5+6j]\n",
        "\n",
        "normalized_v = normalize(v)\n",
        "print(normalized_v)\n"
      ],
      "metadata": {
        "colab": {
          "base_uri": "https://localhost:8080/"
        },
        "id": "3SNwIR41byK-",
        "outputId": "4817b0db-da13-4c5c-f1a8-396e2e263305"
      },
      "execution_count": 21,
      "outputs": [
        {
          "output_type": "stream",
          "name": "stdout",
          "text": [
            "[(0.10482848367219183+0.20965696734438366j), (0.3144854510165755+0.4193139346887673j), (0.5241424183609592+0.628970902033151j)]\n"
          ]
        }
      ]
    },
    {
      "cell_type": "markdown",
      "source": [
        "## Outer Product\n",
        "\n",
        "The **outer product** of two vectors $V$ and $W$ is defined as $VW^\\dagger$. That is, the outer product of an $n \\times 1$ vector and an $m \\times 1$ vector is an $n \\times m$ matrix. If we denote the outer product of $V$ and $W$ as $X$, then $X_{i,j} = V_i \\cdot \\overline{W_j}$.\n",
        "\n",
        "Here is a simple example:\n",
        "outer product of $\\begin{bmatrix} -3i \\\\ 9 \\end{bmatrix}$ and $\\begin{bmatrix} 9i \\\\ 2 \\\\ 7 \\end{bmatrix}$ is:\n",
        "\n",
        "$$\\begin{bmatrix} \\color{blue} {-3i} \\\\ \\color{blue} 9 \\end{bmatrix}\n",
        "\\begin{bmatrix} \\color{red} {9i} \\\\ \\color{red} 2 \\\\ \\color{red} 7 \\end{bmatrix}^\\dagger\n",
        "=\n",
        "\\begin{bmatrix} \\color{blue} {-3i} \\\\ \\color{blue} 9 \\end{bmatrix}\n",
        "\\begin{bmatrix} \\color{red} {-9i} & \\color{red} 2 & \\color{red} 7 \\end{bmatrix}\n",
        "=\n",
        "\\begin{bmatrix}\n",
        "    \\color{blue} {-3i} \\cdot \\color{red} {(-9i)} & \\color{blue} {-3i} \\cdot \\color{red} 2 & \\color{blue} {-3i} \\cdot \\color{red} 7 \\\\\n",
        "    \\color{blue} 9 \\cdot \\color{red} {(-9i)} & \\color{blue} 9 \\cdot \\color{red} 2 & \\color{blue} 9 \\cdot \\color{red} 7\n",
        "\\end{bmatrix}\n",
        "=\n",
        "\\begin{bmatrix}\n",
        "    -27 & -6i & -21i \\\\\n",
        "    -81i & 18 & 63\n",
        "\\end{bmatrix}$$"
      ],
      "metadata": {
        "id": "dmcOV47Tb09N"
      }
    },
    {
      "cell_type": "markdown",
      "source": [
        "### <span style=\"color:blue\">Exercise 11</span>: Outer product.\n",
        "\n",
        "**Inputs:**\n",
        "\n",
        "1. An $n \\times 1$ vector $V$.\n",
        "2. An $m \\times 1$ vector $W$.\n",
        "\n",
        "**Output:** Return an $n \\times m$ matrix that represents the outer product of $V$ and $W$."
      ],
      "metadata": {
        "id": "2_g4UJFXb3al"
      }
    },
    {
      "cell_type": "code",
      "source": [
        "def outer_prod(v, w):\n",
        "    # Get the lengths of the vectors\n",
        "    len_v = len(v)\n",
        "    len_w = len(w)\n",
        "\n",
        "    # Create an empty matrix to store the outer product\n",
        "    matrix = [[0] * len_w for _ in range(len_v)]\n",
        "\n",
        "    # Calculate the outer product\n",
        "    for i in range(len_v):\n",
        "        for j in range(len_w):\n",
        "            matrix[i][j] = v[i] * w[j]\n",
        "\n",
        "    return matrix\n"
      ],
      "metadata": {
        "id": "AjWN5QPvbznu"
      },
      "execution_count": 22,
      "outputs": []
    },
    {
      "cell_type": "code",
      "source": [
        "v = [1+2j, 3+4j, 5+6j]\n",
        "w = [7+8j, 9+10j, 11+12j]\n",
        "\n",
        "result = outer_prod(v, w)\n",
        "print(result)\n",
        "\n"
      ],
      "metadata": {
        "colab": {
          "base_uri": "https://localhost:8080/"
        },
        "id": "lk3tPljsb469",
        "outputId": "01e8f056-ca45-4c0c-8d25-838d5bf354ec"
      },
      "execution_count": 23,
      "outputs": [
        {
          "output_type": "stream",
          "name": "stdout",
          "text": [
            "[[(-9+22j), (-11+28j), (-13+34j)], [(-11+52j), (-13+66j), (-15+80j)], [(-13+82j), (-15+104j), (-17+126j)]]\n"
          ]
        }
      ]
    },
    {
      "cell_type": "markdown",
      "source": [
        "## Tensor Product\n",
        "\n",
        "The **tensor product** is a different way of multiplying matrices. Rather than multiplying rows by columns, the tensor product multiplies the second matrix by every element of the first matrix.\n",
        "\n",
        "Given $n \\times m$ matrix $A$ and $k \\times l$ matrix $B$, their tensor product $A \\otimes B$ is an $(n \\cdot k) \\times (m \\cdot l)$ matrix defined as follows:\n",
        "\n",
        "$$A \\otimes B =\n",
        "\\begin{bmatrix}\n",
        "    A_{0,0} \\cdot B & A_{0,1} \\cdot B & \\dotsb & A_{0,m-1} \\cdot B \\\\\n",
        "    A_{1,0} \\cdot B & A_{1,1} \\cdot B & \\dotsb & A_{1,m-1} \\cdot B \\\\\n",
        "    \\vdots & \\vdots & \\ddots & \\vdots \\\\\n",
        "    A_{n-1,0} \\cdot B & A_{n-1,1} \\cdot B & \\dotsb & A_{n-1,m-1} \\cdot B\n",
        "\\end{bmatrix}\n",
        "=\n",
        "\\begin{bmatrix}\n",
        "    A_{0,0} \\cdot \\color{red} {\\begin{bmatrix}B_{0,0} & \\dotsb & B_{0,l-1} \\\\ \\vdots & \\ddots & \\vdots \\\\ B_{k-1,0} & \\dotsb & b_{k-1,l-1} \\end{bmatrix}} & \\dotsb &\n",
        "    A_{0,m-1} \\cdot \\color{blue} {\\begin{bmatrix}B_{0,0} & \\dotsb & B_{0,l-1} \\\\ \\vdots & \\ddots & \\vdots \\\\ B_{k-1,0} & \\dotsb & B_{k-1,l-1} \\end{bmatrix}} \\\\\n",
        "    \\vdots & \\ddots & \\vdots \\\\\n",
        "    A_{n-1,0} \\cdot \\color{blue} {\\begin{bmatrix}B_{0,0} & \\dotsb & B_{0,l-1} \\\\ \\vdots & \\ddots & \\vdots \\\\ B_{k-1,0} & \\dotsb & B_{k-1,l-1} \\end{bmatrix}} & \\dotsb &\n",
        "    A_{n-1,m-1} \\cdot \\color{red} {\\begin{bmatrix}B_{0,0} & \\dotsb & B_{0,l-1} \\\\ \\vdots & \\ddots & \\vdots \\\\ B_{k-1,0} & \\dotsb & B_{k-1,l-1} \\end{bmatrix}}\n",
        "\\end{bmatrix}\n",
        "=$$\n",
        "$$=\n",
        "\\begin{bmatrix}\n",
        "    A_{0,0} \\cdot \\color{red} {B_{0,0}} & \\dotsb & A_{0,0} \\cdot \\color{red} {B_{0,l-1}} & \\dotsb & A_{0,m-1} \\cdot \\color{blue} {B_{0,0}} & \\dotsb & A_{0,m-1} \\cdot \\color{blue} {B_{0,l-1}} \\\\\n",
        "    \\vdots & \\ddots & \\vdots & \\dotsb & \\vdots & \\ddots & \\vdots \\\\\n",
        "    A_{0,0} \\cdot \\color{red} {B_{k-1,0}} & \\dotsb & A_{0,0} \\cdot \\color{red} {B_{k-1,l-1}} & \\dotsb & A_{0,m-1} \\cdot \\color{blue} {B_{k-1,0}} & \\dotsb & A_{0,m-1} \\cdot \\color{blue} {B_{k-1,l-1}} \\\\\n",
        "    \\vdots & \\vdots & \\vdots & \\ddots & \\vdots & \\vdots & \\vdots \\\\\n",
        "    A_{n-1,0} \\cdot \\color{blue} {B_{0,0}} & \\dotsb & A_{n-1,0} \\cdot \\color{blue} {B_{0,l-1}} & \\dotsb & A_{n-1,m-1} \\cdot \\color{red} {B_{0,0}} & \\dotsb & A_{n-1,m-1} \\cdot \\color{red} {B_{0,l-1}} \\\\\n",
        "    \\vdots & \\ddots & \\vdots & \\dotsb & \\vdots & \\ddots & \\vdots \\\\\n",
        "    A_{n-1,0} \\cdot \\color{blue} {B_{k-1,0}} & \\dotsb & A_{n-1,0} \\cdot \\color{blue} {B_{k-1,l-1}} & \\dotsb & A_{n-1,m-1} \\cdot \\color{red} {B_{k-1,0}} & \\dotsb & A_{n-1,m-1} \\cdot \\color{red} {B_{k-1,l-1}}\n",
        "\\end{bmatrix}$$\n",
        "\n",
        "Here is a simple example:\n",
        "\n",
        "$$\\begin{bmatrix} 1 & 2 \\\\ 3 & 4 \\end{bmatrix} \\otimes \\begin{bmatrix} 5 & 6 \\\\ 7 & 8 \\end{bmatrix} =\n",
        "\\begin{bmatrix}\n",
        "    1 \\cdot \\begin{bmatrix} 5 & 6 \\\\ 7 & 8 \\end{bmatrix} & 2 \\cdot \\begin{bmatrix} 5 & 6 \\\\ 7 & 8 \\end{bmatrix} \\\\\n",
        "    3 \\cdot \\begin{bmatrix} 5 & 6 \\\\ 7 & 8 \\end{bmatrix} & 4 \\cdot \\begin{bmatrix} 5 & 6 \\\\ 7 & 8 \\end{bmatrix}\n",
        "\\end{bmatrix}\n",
        "=\n",
        "\\begin{bmatrix}\n",
        "    1 \\cdot 5 & 1 \\cdot 6 & 2 \\cdot 5 & 2 \\cdot 6 \\\\\n",
        "    1 \\cdot 7 & 1 \\cdot 8 & 2 \\cdot 7 & 2 \\cdot 8 \\\\\n",
        "    3 \\cdot 5 & 3 \\cdot 6 & 4 \\cdot 5 & 4 \\cdot 6 \\\\\n",
        "    3 \\cdot 7 & 3 \\cdot 8 & 4 \\cdot 7 & 4 \\cdot 8\n",
        "\\end{bmatrix}\n",
        "=\n",
        "\\begin{bmatrix}\n",
        "    5 & 6 & 10 & 12 \\\\\n",
        "    7 & 8 & 14 & 16 \\\\\n",
        "    15 & 18 & 20 & 24 \\\\\n",
        "    21 & 24 & 28 & 32\n",
        "\\end{bmatrix}$$\n",
        "\n",
        "Notice that the tensor product of two vectors is another vector: if $V$ is an $n \\times 1$ vector, and $W$ is an $m \\times 1$ vector, $V \\otimes W$ is an $(n \\cdot m) \\times 1$ vector."
      ],
      "metadata": {
        "id": "ZZedGJSob82X"
      }
    },
    {
      "cell_type": "markdown",
      "source": [
        "The tensor product has the following properties:\n",
        "\n",
        "* Distributivity over addition: $(A + B) \\otimes C = A \\otimes C + B \\otimes C$, $A \\otimes (B + C) = A \\otimes B + A \\otimes C$\n",
        "* Associativity with scalar multiplication: $x(A \\otimes B) = (xA) \\otimes B = A \\otimes (xB)$\n",
        "* Mixed-product property (relation with matrix multiplication): $(A \\otimes B) (C \\otimes D) = (AC) \\otimes (BD)$"
      ],
      "metadata": {
        "id": "HcUqXt-Eb_6Y"
      }
    },
    {
      "cell_type": "markdown",
      "source": [
        "### <span style=\"color:blue\">Exercise 12</span>*: Tensor Product.\n",
        "\n",
        "**Inputs:**\n",
        "\n",
        "1. An $n \\times m$ matrix $A$.\n",
        "2. A $k \\times l$ matrix $B$.\n",
        "\n",
        "**Output:** Return an $(n \\cdot k) \\times (m \\cdot l)$ matrix $A \\otimes B$, the tensor product of $A$ and $B$."
      ],
      "metadata": {
        "id": "ekKeBDN3cCS2"
      }
    },
    {
      "cell_type": "code",
      "source": [
        "def tensor_prod(A, B):\n",
        "    # Get the dimensions of matrices A and B\n",
        "    rows_A, cols_A = len(A), len(A[0])\n",
        "    rows_B, cols_B = len(B), len(B[0])\n",
        "\n",
        "    # Calculate the dimensions of the resulting tensor product matrix\n",
        "    rows_result = rows_A * rows_B\n",
        "    cols_result = cols_A * cols_B\n",
        "\n",
        "    # Create an empty matrix to store the tensor product\n",
        "    result = [[0] * cols_result for _ in range(rows_result)]\n",
        "\n",
        "    # Calculate the tensor product\n",
        "    for i in range(rows_A):\n",
        "        for j in range(cols_A):\n",
        "            for m in range(rows_B):\n",
        "                for n in range(cols_B):\n",
        "                    result[i * rows_B + m][j * cols_B + n] = A[i][j] * B[m][n]\n",
        "\n",
        "    return result\n"
      ],
      "metadata": {
        "id": "y3mYpQHHb6R9"
      },
      "execution_count": 24,
      "outputs": []
    },
    {
      "cell_type": "code",
      "source": [
        "A = [[1+2j, 3+4j], [5+6j, 7+8j]]\n",
        "B = [[9+10j, 11+12j], [13+14j, 15+16j]]\n",
        "\n",
        "result = tensor_prod(A, B)\n",
        "print(result)"
      ],
      "metadata": {
        "colab": {
          "base_uri": "https://localhost:8080/"
        },
        "id": "N9gJ8hprcD6e",
        "outputId": "0f4dcf22-5c4f-4815-8f69-34935f72822d"
      },
      "execution_count": 25,
      "outputs": [
        {
          "output_type": "stream",
          "name": "stdout",
          "text": [
            "[[(-11+28j), (-13+34j), (-13+66j), (-15+80j)], [(-15+40j), (-17+46j), (-17+94j), (-19+108j)], [(-15+104j), (-17+126j), (-17+142j), (-19+172j)], [(-19+148j), (-21+170j), (-21+202j), (-23+232j)]]\n"
          ]
        }
      ]
    },
    {
      "cell_type": "markdown",
      "source": [
        "# Part III: Eigenvalues and Eigenvectors\n",
        "\n",
        "Consider the following example of multiplying a matrix by a vector:\n",
        "\n",
        "$$\\begin{bmatrix}\n",
        "    1 & -3 & 3 \\\\\n",
        "    3 & -5 & 3 \\\\\n",
        "    6 & -6 & 4\n",
        "\\end{bmatrix}\n",
        "\\begin{bmatrix}\n",
        "    1 \\\\\n",
        "    1 \\\\\n",
        "    2\n",
        "\\end{bmatrix}\n",
        "=\n",
        "\\begin{bmatrix}\n",
        "    4 \\\\\n",
        "    4 \\\\\n",
        "    8\n",
        "\\end{bmatrix}$$\n",
        "\n",
        "Notice that the resulting vector is just the initial vector multiplied by a scalar (in this case 4). This behavior is so noteworthy that it is described using a special set of terms.\n",
        "\n",
        "Given a nonzero $n \\times n$ matrix $A$, a nonzero vector $V$, and a scalar $x$, if $AV = xV$, then $x$ is an **eigenvalue** of $A$, and $V$ is an **eigenvector** of $A$ corresponding to that eigenvalue.\n",
        "\n",
        "The properties of eigenvalues and eigenvectors are used extensively in quantum computing. You can learn more about eigenvalues, eigenvectors, and their properties at [Wolfram MathWorld](http://mathworld.wolfram.com/Eigenvector.html) or on [Wikipedia](https://en.wikipedia.org/wiki/Eigenvalues_and_eigenvectors)."
      ],
      "metadata": {
        "id": "CQtTNomHcKKm"
      }
    },
    {
      "cell_type": "markdown",
      "source": [
        "### <span style=\"color:blue\">Exercise 13</span>: Finding an eigenvalue.\n",
        "\n",
        "\n",
        "### <span style=\"color:blue\">Exercise 14</span>: Finding an eigenvector.\n",
        "\n",
        "\n",
        "\n"
      ],
      "metadata": {
        "id": "ZPaKiEvAcOGO"
      }
    },
    {
      "cell_type": "code",
      "source": [
        "import numpy as np\n",
        "\n",
        "def eigenvalue_eigenvector(A):\n",
        "    # Convert the matrix A to a numpy array\n",
        "    A = np.array(A)\n",
        "\n",
        "    # Calculate the eigenvalues and eigenvectors using numpy's eig function\n",
        "    eigen_vals, eigen_vecs = np.linalg.eig(A)\n",
        "\n",
        "    # Return the eigenvalues and eigenvectors as a tuple\n",
        "    return eigen_vals, eigen_vecs\n"
      ],
      "metadata": {
        "id": "i_mP7wG1cFvf"
      },
      "execution_count": 26,
      "outputs": []
    },
    {
      "cell_type": "code",
      "source": [
        "A = [[1, 2], [3, 4]]\n",
        "\n",
        "eigen_vals, eigen_vecs = eigenvalue_eigenvector(A)\n",
        "print(\"Eigenvalues:\", eigen_vals)\n",
        "print(\"Eigenvectors:\")\n",
        "for i, vec in enumerate(eigen_vecs.T):\n",
        "    print(\"Eigenvalue:\", eigen_vals[i])\n",
        "    print(\"Eigenvector:\", vec)\n"
      ],
      "metadata": {
        "colab": {
          "base_uri": "https://localhost:8080/"
        },
        "id": "TdD74pJRcaUQ",
        "outputId": "a96ec48e-4e3e-40de-8024-f1f35430daf2"
      },
      "execution_count": 27,
      "outputs": [
        {
          "output_type": "stream",
          "name": "stdout",
          "text": [
            "Eigenvalues: [-0.37228132  5.37228132]\n",
            "Eigenvectors:\n",
            "Eigenvalue: -0.3722813232690143\n",
            "Eigenvector: [-0.82456484  0.56576746]\n",
            "Eigenvalue: 5.372281323269014\n",
            "Eigenvector: [-0.41597356 -0.90937671]\n"
          ]
        }
      ]
    },
    {
      "cell_type": "code",
      "source": [],
      "metadata": {
        "id": "TLfLTPjOcbcu"
      },
      "execution_count": null,
      "outputs": []
    }
  ]
}